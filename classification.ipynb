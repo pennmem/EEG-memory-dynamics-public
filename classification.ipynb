{
 "cells": [
  {
   "cell_type": "code",
   "execution_count": 2,
   "metadata": {},
   "outputs": [],
   "source": [
    "import os\n",
    "import glob\n",
    "import numpy as np\n",
    "import scipy as sp\n",
    "import scipy.stats\n",
    "import xarray as xr\n",
    "import pickle as pkl\n",
    "\n",
    "import mne\n",
    "import cmlreaders as cml\n",
    "import cluster_helper.cluster\n",
    "import matplotlib as mpl\n",
    "import matplotlib.pyplot as plt\n",
    "from sklearn.metrics import auc, roc_curve, roc_auc_score\n",
    "%matplotlib notebook\n",
    "%matplotlib inline\n",
    "\n",
    "from constants import FR2_valid_subjects\n",
    "from utils import compute_ROC_AUC, get_eeg_sys, split_ROIs\n",
    "from plot_utils import plot_heatmap_contrast, plot_auc_null, plot_ROC"
   ]
  },
  {
   "cell_type": "markdown",
   "metadata": {},
   "source": [
    "### search inverse regularization param"
   ]
  },
  {
   "cell_type": "code",
   "execution_count": 18,
   "metadata": {},
   "outputs": [],
   "source": [
    "def search_regularization_hyperparam(sys='egi'):\n",
    "    \n",
    "    import warnings\n",
    "    warnings.filterwarnings('ignore')\n",
    "    from sklearn.linear_model import LogisticRegression\n",
    "    from sklearn.metrics import auc, roc_curve, roc_auc_score\n",
    "    \n",
    "    from constants import non_peripheral_egi, non_peripheral_biosemi\n",
    "    from utils import special_concat, load_feature, resample_enc_events\n",
    "    \n",
    "    # use the 24th session to search for good inverse regularization param\n",
    "    # separately for egi and biosemi sessions\n",
    "    \n",
    "    # candidate Cs\n",
    "    Cs = np.logspace(np.log10(1e-7),np.log10(1e0), num = 10)\n",
    "    \n",
    "    if sys == 'egi':\n",
    "        subjects_all = FR2_valid_subjects[:53]\n",
    "    \n",
    "    elif sys == 'biosemi':\n",
    "        subjects_all = FR2_valid_subjects[53:]\n",
    "    \n",
    "    def get_enc_features():\n",
    "        # 24th session from all participants + leave one subject out\n",
    "        \n",
    "        power_all = []\n",
    "        for subject in subjects_all:\n",
    "            x = load_feature(subject, task_phase='enc', \n",
    "                             exclude_peripheral_channels=True, stack_feature=True)\n",
    "            \n",
    "            if 23 not in np.unique(x.events.values['session']): continue\n",
    "            x = x.sel(events=x.events.values['session']==23)\n",
    "            power_all.append(x)\n",
    "        \n",
    "        power_all = special_concat(power_all)\n",
    "        return power_all\n",
    "    \n",
    "    def divide_folds(subjects, nfold):\n",
    "        n = int(np.floor(len(subjects) / nfold))\n",
    "        folds = []\n",
    "        for i in range(0, len(subjects), n):\n",
    "            folds.append(subjects[i:i+n])\n",
    "        return np.array(folds)\n",
    "    \n",
    "    def leave_one_subject_out(train_features, test_features, C):\n",
    "        \n",
    "        probas = np.empty(len(test_features)) # however many events in data\n",
    "        labels = np.empty(len(test_features))\n",
    "        probas.fill(np.nan)\n",
    "        labels.fill(np.nan)\n",
    "        \n",
    "        folds = divide_folds(np.unique(train_features.events.values['subject']),\n",
    "                             len(np.unique(train_features.events.values['subject']))) # LOSO\n",
    "\n",
    "        for fold in folds:\n",
    "\n",
    "            train = np.array([False if s in fold else True for s in train_features.events.values['subject']])\n",
    "            test = np.array([True if s in fold else False for s in test_features.events.values['subject']])\n",
    "\n",
    "            train_data = train_features.sel(events=train).copy()\n",
    "            test_data = test_features.sel(events=test).copy()\n",
    "\n",
    "            X = train_data.values\n",
    "            y = train_data.events.values['recalled']\n",
    "\n",
    "            lr = LogisticRegression(C=C, class_weight='balanced', fit_intercept=False)\n",
    "            lr = lr.fit(X, y)\n",
    "\n",
    "            probas[test] = lr.predict_proba(test_data)[:, 1]\n",
    "            labels[test] = test_data.events.values['recalled']\n",
    "\n",
    "        return (probas, labels)\n",
    "    \n",
    "    train_features = get_enc_features()\n",
    "    test_features = train_features.copy()\n",
    "    # train_features = resample_enc_events(train_features)\n",
    "    \n",
    "    aucs = {}\n",
    "    for i, C in enumerate(Cs):\n",
    "        print(C)\n",
    "        y_hat, y = leave_one_subject_out(train_features=train_features, \n",
    "                                         test_features=test_features,\n",
    "                                         C=C)\n",
    "        auc = roc_auc_score(y, y_hat)\n",
    "        aucs[i] = {'C':C, 'auc':auc}\n",
    "        \n",
    "    return aucs"
   ]
  },
  {
   "cell_type": "code",
   "execution_count": 19,
   "metadata": {
    "tags": []
   },
   "outputs": [
    {
     "name": "stdout",
     "output_type": "stream",
     "text": [
      "1e-07\n",
      "5.994842503189409e-07\n",
      "3.5938136638046257e-06\n",
      "2.1544346900318867e-05\n",
      "0.0001291549665014884\n",
      "0.000774263682681127\n",
      "0.004641588833612782\n",
      "0.02782559402207126\n",
      "0.1668100537200059\n",
      "1.0\n",
      "1e-07\n",
      "5.994842503189409e-07\n",
      "3.5938136638046257e-06\n",
      "2.1544346900318867e-05\n",
      "0.0001291549665014884\n",
      "0.000774263682681127\n",
      "0.004641588833612782\n",
      "0.02782559402207126\n",
      "0.1668100537200059\n",
      "1.0\n"
     ]
    }
   ],
   "source": [
    "egi_aucs = search_regularization_hyperparam(sys='egi')\n",
    "biosemi_aucs = search_regularization_hyperparam(sys='biosemi')"
   ]
  },
  {
   "cell_type": "code",
   "execution_count": 11,
   "metadata": {},
   "outputs": [
    {
     "data": {
      "text/plain": [
       "<matplotlib.legend.Legend at 0x2adc383a5d68>"
      ]
     },
     "execution_count": 11,
     "metadata": {},
     "output_type": "execute_result"
    },
    {
     "data": {
      "image/png": "[encoded data removed]",
      "text/plain": [
       "<Figure size 432x288 with 1 Axes>"
      ]
     },
     "metadata": {
      "needs_background": "light"
     },
     "output_type": "display_data"
    }
   ],
   "source": [
    "# egi_aucs = {0: {'C': 1e-07, 'auc': 0.5201943444088355},\n",
    "#  1: {'C': 5.994842503189409e-07, 'auc': 0.5318124160195579},\n",
    "#  2: {'C': 3.5938136638046257e-06, 'auc': 0.5413067466485945},\n",
    "#  3: {'C': 2.1544346900318867e-05, 'auc': 0.5463217114742924},\n",
    "#  4: {'C': 0.0001291549665014884, 'auc': 0.5431472451639308},\n",
    "#  5: {'C': 0.000774263682681127, 'auc': 0.5342592883588994},\n",
    "#  6: {'C': 0.004641588833612782, 'auc': 0.5268505781829881},\n",
    "#  7: {'C': 0.02782559402207126, 'auc': 0.5225795478954558},\n",
    "#  8: {'C': 0.1668100537200059, 'auc': 0.5223529064675786},\n",
    "#  9: {'C': 1.0, 'auc': 0.5223500726103174}}\n",
    "# biosemi_aucs = {0: {'C': 1e-07, 'auc': 0.5191535013165349},\n",
    "#  1: {'C': 5.994842503189409e-07, 'auc': 0.5289418406644184},\n",
    "#  2: {'C': 3.5938136638046257e-06, 'auc': 0.5408563310335633},\n",
    "#  3: {'C': 2.1544346900318867e-05, 'auc': 0.5439449615644496},\n",
    "#  4: {'C': 0.0001291549665014884, 'auc': 0.5401446724014467},\n",
    "#  5: {'C': 0.000774263682681127, 'auc': 0.5334293212092932},\n",
    "#  6: {'C': 0.004641588833612782, 'auc': 0.5253455210034552},\n",
    "#  7: {'C': 0.02782559402207126, 'auc': 0.519534687945347},\n",
    "#  8: {'C': 0.1668100537200059, 'auc': 0.5192329756923298},\n",
    "#  9: {'C': 1.0, 'auc': 0.5171439800464398}}\n",
    "\n",
    "fig, ax = plt.subplots()\n",
    "ax.plot(np.logspace(np.log10(1e-7),np.log10(1e0), num = 10), \n",
    "         [egi_aucs[i]['auc'] for i in range(10)], \n",
    "         color='C0', label='egi')\n",
    "ax.scatter(np.logspace(np.log10(1e-7),np.log10(1e0), num = 10), \n",
    "         [egi_aucs[i]['auc'] for i in range(10)], \n",
    "         color='C0', s=10)\n",
    "ax.plot(np.logspace(np.log10(1e-7),np.log10(1e0), num = 10), \n",
    "         [biosemi_aucs[i]['auc'] for i in range(10)], \n",
    "         color='C1', label='biosemi')\n",
    "ax.scatter(np.logspace(np.log10(1e-7),np.log10(1e0), num = 10), \n",
    "         [biosemi_aucs[i]['auc'] for i in range(10)], \n",
    "         color='C1', s=10)\n",
    "ax.set_xscale('log')\n",
    "ax.set_xlabel('C')\n",
    "ax.set_ylabel('AUC')\n",
    "ax.legend()"
   ]
  },
  {
   "cell_type": "code",
   "execution_count": 17,
   "metadata": {},
   "outputs": [],
   "source": [
    "# fig.savefig('figures_final/hyperparam_resample.pdf')"
   ]
  },
  {
   "cell_type": "code",
   "execution_count": 25,
   "metadata": {},
   "outputs": [
    {
     "data": {
      "text/plain": [
       "<matplotlib.legend.Legend at 0x2adc335772e8>"
      ]
     },
     "execution_count": 25,
     "metadata": {},
     "output_type": "execute_result"
    },
    {
     "data": {
      "image/png": "[encoded data removed]",
      "text/plain": [
       "<Figure size 432x288 with 1 Axes>"
      ]
     },
     "metadata": {
      "needs_background": "light"
     },
     "output_type": "display_data"
    }
   ],
   "source": [
    "# egi_aucs = {0: {'C': 1e-07, 'auc': 0.5281370374578627},\n",
    "#  1: {'C': 5.994842503189409e-07, 'auc': 0.5385841171657165},\n",
    "#  2: {'C': 3.5938136638046257e-06, 'auc': 0.5469380194677489},\n",
    "#  3: {'C': 2.1544346900318867e-05, 'auc': 0.5516369174330392},\n",
    "#  4: {'C': 0.0001291549665014884, 'auc': 0.5487541011465885},\n",
    "#  5: {'C': 0.000774263682681127, 'auc': 0.539612655138016},\n",
    "#  6: {'C': 0.004641588833612782, 'auc': 0.5318346750058176},\n",
    "#  7: {'C': 0.02782559402207126, 'auc': 0.5277471336182948},\n",
    "#  8: {'C': 0.1668100537200059, 'auc': 0.5271094038128408},\n",
    "#  9: {'C': 1.0, 'auc': 0.5265685892395977}}\n",
    "# biosemi_aucs = {0: {'C': 1e-07, 'auc': 0.5267631570176315},\n",
    "#  1: {'C': 5.994842503189409e-07, 'auc': 0.5354193242291934},\n",
    "#  2: {'C': 3.5938136638046257e-06, 'auc': 0.5450376300753762},\n",
    "#  3: {'C': 2.1544346900318867e-05, 'auc': 0.5465757590907576},\n",
    "#  4: {'C': 0.0001291549665014884, 'auc': 0.5413969840389699},\n",
    "#  5: {'C': 0.000774263682681127, 'auc': 0.5339524885895249},\n",
    "#  6: {'C': 0.004641588833612782, 'auc': 0.525427596129276},\n",
    "#  7: {'C': 0.02782559402207126, 'auc': 0.5207190770821908},\n",
    "#  8: {'C': 0.1668100537200059, 'auc': 0.5187999634379996},\n",
    "#  9: {'C': 1.0, 'auc': 0.5189673583146736}}\n",
    "\n",
    "fig, ax = plt.subplots()\n",
    "ax.plot(np.logspace(np.log10(1e-7),np.log10(1e0), num = 10), \n",
    "         [egi_aucs[i]['auc'] for i in range(10)], \n",
    "         color='C0', label='egi')\n",
    "ax.scatter(np.logspace(np.log10(1e-7),np.log10(1e0), num = 10), \n",
    "         [egi_aucs[i]['auc'] for i in range(10)], \n",
    "         color='C0', s=10)\n",
    "ax.plot(np.logspace(np.log10(1e-7),np.log10(1e0), num = 10), \n",
    "         [biosemi_aucs[i]['auc'] for i in range(10)], \n",
    "         color='C1', label='biosemi')\n",
    "ax.scatter(np.logspace(np.log10(1e-7),np.log10(1e0), num = 10), \n",
    "         [biosemi_aucs[i]['auc'] for i in range(10)], \n",
    "         color='C1', s=10)\n",
    "ax.set_xscale('log')\n",
    "ax.set_xlabel('C')\n",
    "ax.set_ylabel('AUC')\n",
    "ax.legend()"
   ]
  },
  {
   "cell_type": "code",
   "execution_count": 26,
   "metadata": {},
   "outputs": [],
   "source": [
    "# fig.savefig('figures_final/hyperparam.pdf')"
   ]
  },
  {
   "cell_type": "code",
   "execution_count": 79,
   "metadata": {},
   "outputs": [
    {
     "data": {
      "text/plain": [
       "2.1544346900318867e-05"
      ]
     },
     "execution_count": 79,
     "metadata": {},
     "output_type": "execute_result"
    }
   ],
   "source": [
    "# best param\n",
    "np.logspace(np.log10(1e-7),np.log10(1e0), num = 10)[3]"
   ]
  },
  {
   "cell_type": "code",
   "execution_count": null,
   "metadata": {},
   "outputs": [],
   "source": []
  },
  {
   "cell_type": "markdown",
   "metadata": {},
   "source": [
    "### individual classifier"
   ]
  },
  {
   "cell_type": "code",
   "execution_count": 3,
   "metadata": {},
   "outputs": [],
   "source": [
    "def FR2_individual_classifier(subject):\n",
    "    \n",
    "    # global flags\n",
    "    train_phase = 'enc'\n",
    "    test_phase = 'ret'\n",
    "    ret_type = ['ci', 'cp', 'ce', 'pe'][0] # 'correct vs. incorrect', 'correct vs. pli', 'correct vs. eli', 'pli vs. eli'\n",
    "\n",
    "    import pickle as pkl\n",
    "    import numpy as np\n",
    "    import pandas as pd\n",
    "    import xarray as xr\n",
    "    from sklearn.metrics import roc_auc_score\n",
    "    \n",
    "    from constants import best_C\n",
    "    from utils import load_feature, divide_folds, compute_activation, leave_one_session_out_forward_model\n",
    "\n",
    "    train_features = load_feature(subject, task_phase=train_phase, ret_type=ret_type,\n",
    "                                  exclude_sessions=[23], exclude_freq=[2.0], \n",
    "                                  exclude_peripheral_channels=True, stack_feature=True)\n",
    "    test_features = load_feature(subject, task_phase=test_phase, ret_type=ret_type,\n",
    "                                  exclude_sessions=[23], exclude_freq=[2.0], \n",
    "                                  exclude_peripheral_channels=True, stack_feature=True)\n",
    "    \n",
    "    train_label = 'recalled' if train_phase=='enc' else 'rec_label'\n",
    "    test_label = 'recalled' if test_phase=='enc' else 'rec_label'\n",
    "    \n",
    "    y_hat, y, weights, activations = leave_one_session_out_forward_model(train_features=train_features, \n",
    "                                                                         train_label=train_label, \n",
    "                                                                         test_features=test_features, \n",
    "                                                                         test_label=test_label,\n",
    "                                                                         C=best_C)\n",
    "    # compute average weights and average activation values\n",
    "    avgW = xr.DataArray(weights.mean(0), dims=('features'), coords={'features':test_features.features})\n",
    "    avgW = avgW.unstack('features')\n",
    "    avgA = xr.DataArray(activations.mean(0), dims=('features'), coords={'features':test_features.features})\n",
    "    avgA = avgA.unstack('features')\n",
    "    \n",
    "    auc = roc_auc_score(y, y_hat)\n",
    "    \n",
    "    subject_loso_result = {}\n",
    "    subject_loso_result['auc'] = auc\n",
    "    subject_loso_result['y'] = y\n",
    "    subject_loso_result['yhat'] = y_hat\n",
    "    subject_loso_result['events'] = test_features.events.values\n",
    "    subject_loso_result['avgW'] = avgW\n",
    "    subject_loso_result['avgA'] = avgA\n",
    "    \n",
    "    if train_phase == 'ret':\n",
    "        train_phase = train_phase + ret_type\n",
    "    if test_phase == 'ret':\n",
    "        test_phase = test_phase + ret_type\n",
    "\n",
    "    outputf = 'scratch/mtpower/%s/%s_%s_%s_clsf_result.pkl' % (subject, subject, train_phase, test_phase)\n",
    "    # pkl.dump(subject_loso_result, open(outputf, 'wb'))\n",
    "    \n",
    "    return auc\n",
    "\n",
    "def FR2_individual_classifier_nullauc(subject):\n",
    "    \n",
    "    # global flags\n",
    "    train_phase = 'ret'\n",
    "    test_phase = 'ret'\n",
    "    ret_type = ['ci', 'cp', 'ce', 'pe'][0] # 'correct vs. incorrect', 'correct vs. pli', 'correct vs. eli', 'pli vs. eli'\n",
    "    n_tests = 100\n",
    "    \n",
    "    import pickle as pkl\n",
    "    import numpy as np\n",
    "    import pandas as pd\n",
    "    import xarray as xr\n",
    "    from sklearn.metrics import roc_auc_score\n",
    "    \n",
    "    from constants import best_C\n",
    "    from utils import load_feature, divide_folds, compute_activation, \\\n",
    "                      leave_one_session_out_forward_model, shuffle_labels\n",
    "    \n",
    "    train_features = load_feature(subject, task_phase=train_phase, ret_type=ret_type,\n",
    "                                  exclude_sessions=[23], exclude_freq=[2.0], \n",
    "                                  exclude_peripheral_channels=True, stack_feature=True)\n",
    "    test_features = load_feature(subject, task_phase=test_phase, ret_type=ret_type,\n",
    "                                  exclude_sessions=[23], exclude_freq=[2.0], \n",
    "                                  exclude_peripheral_channels=True, stack_feature=True)\n",
    "    \n",
    "    train_label = 'recalled' if train_phase=='enc' else 'rec_label'\n",
    "    test_label = 'recalled' if test_phase=='enc' else 'rec_label'\n",
    "    \n",
    "    # save a copy of original events\n",
    "    original_events = train_features.events.values.copy()\n",
    "    \n",
    "    # perform n_tests many of permutation tests\n",
    "    aucs_null = np.zeros(n_tests)\n",
    "    for i in range(len(aucs_null)):\n",
    "\n",
    "        shuffled_events = shuffle_labels(original_events.copy(), train_label)\n",
    "        train_features.coords['events'] = shuffled_events\n",
    "\n",
    "        y_hat, y, weights, activations = leave_one_session_out_forward_model(train_features=train_features, \n",
    "                                                                             train_label=train_label, \n",
    "                                                                             test_features=test_features, \n",
    "                                                                             test_label=test_label,\n",
    "                                                                             C=best_C)\n",
    "        aucs_null[i] = roc_auc_score(y, y_hat)\n",
    "    \n",
    "    if train_phase == 'ret':\n",
    "        train_phase = train_phase + ret_type\n",
    "    if test_phase == 'ret':\n",
    "        test_phase = test_phase + ret_type\n",
    "\n",
    "    outputf = 'scratch/mtpower/%s/%s_%s_%s_null_aucs.npy' % (subject, subject, train_phase, test_phase)\n",
    "    # np.save(outputf, aucs_null)\n",
    "\n",
    "def test_clsf_significance(trainphase, testphase):\n",
    "    \n",
    "    def binomial_test(pvals, alpha=0.05):\n",
    "        count = (pvals < alpha).sum()\n",
    "        group_p = sp.stats.binom_test(count, len(pvals), 0.05, alternative='greater')\n",
    "        return group_p\n",
    "    \n",
    "    subjects = FR2_valid_subjects\n",
    "    print('Evaluating FR2 classifier performance for %d subjects...' % (len(subjects)))\n",
    "    print('    Train phase: %s    Test phase: %s' % (trainphase, testphase))\n",
    "    \n",
    "    true_aucs = np.load('scratch/mtpower/%s_%s_auc.npy'%(trainphase, testphase))\n",
    "    print('    Mean AUC:', '%.2f'%np.mean(true_aucs), '  +-SE:', sp.stats.sem(true_aucs))\n",
    "    \n",
    "    null_aucs = np.array([np.load('scratch/mtpower/%s/%s_%s_%s_null_aucs.npy'% (subject, subject, trainphase, testphase))\n",
    "                          for subject in subjects])\n",
    "    \n",
    "    pvals = np.array([ (null_aucs[i]>true_aucs[i]).sum()/float(len(null_aucs)) for i in range(len(true_aucs))])\n",
    "    all_alpha = [0.01, 0.05]\n",
    "    counts = []\n",
    "    \n",
    "    for alpha in all_alpha:\n",
    "        count = (pvals < alpha).sum()\n",
    "        counts.append(count)\n",
    "    \n",
    "    # remove overlaps \n",
    "    # - those who are significant at 0.001 are subtracted from 0.01 and 0.05\n",
    "    # - those who are significant at 0.01 are subtracted from 0.05\n",
    "    counts[1] = counts[1]-counts[0]\n",
    "    \n",
    "    for i, alpha in enumerate(all_alpha):\n",
    "        print('    alpha=%.03f: \\t %0.2f significant' % (alpha, counts[i]))\n",
    "    \n",
    "    print('    p<0.05: ', len(subjects[pvals<0.05])) # subjects[pvals<0.05])\n",
    "    \n",
    "    group_p = binomial_test(pvals)\n",
    "    print('    group binomial test:  p=%.11f, %s' % (group_p, 'significant' if group_p<0.05 else'non significant'))\n",
    "    group_t, group_p = scipy.stats.ttest_rel(true_aucs, null_aucs.mean(1))\n",
    "    print('    group t-test: t=%f, p=%f, %s' % (group_t, group_p, 'significant' if group_p<0.05 else'non significant'))\n",
    "    \n",
    "    return (subjects[pvals<0.05], subjects[pvals>=0.05])"
   ]
  },
  {
   "cell_type": "code",
   "execution_count": 17,
   "metadata": {},
   "outputs": [
    {
     "name": "stdout",
     "output_type": "stream",
     "text": [
      "Evaluating FR2 classifier performance for 88 subjects...\n",
      "    Train phase: enc    Test phase: enc\n",
      "    Mean AUC: 0.60   +-SE: 0.003678861857653041\n",
      "    alpha=0.010: \t 88.00 significant\n",
      "    alpha=0.050: \t 0.00 significant\n",
      "    p<0.05:  88\n",
      "    group binomial test:  p=0.00000000000, significant\n",
      "    group t-test: t=27.540251, p=0.000000, significant\n"
     ]
    },
    {
     "data": {
      "text/plain": [
       "(array(['LTP093', 'LTP106', 'LTP115', 'LTP117', 'LTP123', 'LTP133',\n",
       "        'LTP138', 'LTP207', 'LTP210', 'LTP228', 'LTP229', 'LTP236',\n",
       "        'LTP246', 'LTP249', 'LTP250', 'LTP251', 'LTP258', 'LTP259',\n",
       "        'LTP265', 'LTP269', 'LTP273', 'LTP278', 'LTP279', 'LTP280',\n",
       "        'LTP283', 'LTP285', 'LTP287', 'LTP293', 'LTP296', 'LTP297',\n",
       "        'LTP299', 'LTP301', 'LTP302', 'LTP303', 'LTP304', 'LTP305',\n",
       "        'LTP306', 'LTP307', 'LTP310', 'LTP311', 'LTP312', 'LTP316',\n",
       "        'LTP317', 'LTP318', 'LTP321', 'LTP322', 'LTP323', 'LTP324',\n",
       "        'LTP325', 'LTP326', 'LTP327', 'LTP328', 'LTP329', 'LTP331',\n",
       "        'LTP334', 'LTP336', 'LTP339', 'LTP341', 'LTP342', 'LTP343',\n",
       "        'LTP344', 'LTP346', 'LTP347', 'LTP348', 'LTP349', 'LTP354',\n",
       "        'LTP355', 'LTP357', 'LTP360', 'LTP361', 'LTP362', 'LTP364',\n",
       "        'LTP365', 'LTP366', 'LTP367', 'LTP371', 'LTP372', 'LTP373',\n",
       "        'LTP374', 'LTP376', 'LTP377', 'LTP385', 'LTP386', 'LTP387',\n",
       "        'LTP389', 'LTP390', 'LTP391', 'LTP393'], dtype='<U6'),\n",
       " array([], dtype='<U6'))"
      ]
     },
     "execution_count": 17,
     "metadata": {},
     "output_type": "execute_result"
    }
   ],
   "source": [
    "test_clsf_significance('enc', 'enc')"
   ]
  },
  {
   "cell_type": "code",
   "execution_count": 15,
   "metadata": {},
   "outputs": [
    {
     "name": "stdout",
     "output_type": "stream",
     "text": [
      "Evaluating FR2 classifier performance for 88 subjects...\n",
      "    Train phase: retci    Test phase: retci\n",
      "    Mean AUC: 0.59   +-SE: 0.006709766173937947\n",
      "    alpha=0.010: \t 54.00 significant\n",
      "    alpha=0.050: \t 10.00 significant\n",
      "    p<0.05:  64\n",
      "    group binomial test:  p=0.00000000000, significant\n",
      "    group t-test: t=13.574973, p=0.000000, significant\n"
     ]
    },
    {
     "data": {
      "text/plain": [
       "(array(['LTP106', 'LTP115', 'LTP117', 'LTP123', 'LTP133', 'LTP138',\n",
       "        'LTP207', 'LTP210', 'LTP229', 'LTP251', 'LTP258', 'LTP259',\n",
       "        'LTP273', 'LTP278', 'LTP279', 'LTP280', 'LTP285', 'LTP287',\n",
       "        'LTP296', 'LTP297', 'LTP301', 'LTP304', 'LTP306', 'LTP307',\n",
       "        'LTP310', 'LTP312', 'LTP316', 'LTP317', 'LTP318', 'LTP321',\n",
       "        'LTP322', 'LTP323', 'LTP325', 'LTP326', 'LTP329', 'LTP334',\n",
       "        'LTP336', 'LTP339', 'LTP341', 'LTP342', 'LTP343', 'LTP346',\n",
       "        'LTP347', 'LTP348', 'LTP349', 'LTP354', 'LTP357', 'LTP361',\n",
       "        'LTP362', 'LTP364', 'LTP365', 'LTP366', 'LTP367', 'LTP371',\n",
       "        'LTP372', 'LTP373', 'LTP376', 'LTP377', 'LTP385', 'LTP386',\n",
       "        'LTP387', 'LTP389', 'LTP390', 'LTP393'], dtype='<U6'),\n",
       " array(['LTP093', 'LTP228', 'LTP236', 'LTP246', 'LTP249', 'LTP250',\n",
       "        'LTP265', 'LTP269', 'LTP283', 'LTP293', 'LTP299', 'LTP302',\n",
       "        'LTP303', 'LTP305', 'LTP311', 'LTP324', 'LTP327', 'LTP328',\n",
       "        'LTP331', 'LTP344', 'LTP355', 'LTP360', 'LTP374', 'LTP391'],\n",
       "       dtype='<U6'))"
      ]
     },
     "execution_count": 15,
     "metadata": {},
     "output_type": "execute_result"
    }
   ],
   "source": [
    "test_clsf_significance('retci', 'retci')"
   ]
  },
  {
   "cell_type": "code",
   "execution_count": 113,
   "metadata": {
    "collapsed": true,
    "jupyter": {
     "outputs_hidden": true
    },
    "tags": []
   },
   "outputs": [
    {
     "name": "stdout",
     "output_type": "stream",
     "text": [
      "17 Engines running\n",
      "Sending a shutdown signal to the controller and engines.\n"
     ]
    },
    {
     "ename": "OSError",
     "evalue": "[Errno 16] Device or resource busy: '.nfs000000190541180000006811'",
     "output_type": "error",
     "traceback": [
      "\u001b[0;31m---------------------------------------------------------------------------\u001b[0m",
      "\u001b[0;31mOSError\u001b[0m                                   Traceback (most recent call last)",
      "\u001b[0;32m<ipython-input-113-beb6c3e8ded1>\u001b[0m in \u001b[0;36m<module>\u001b[0;34m\u001b[0m\n\u001b[1;32m      5\u001b[0m                                          num_jobs=njobs, cores_per_job=cpj) as view:\n\u001b[1;32m      6\u001b[0m \u001b[0;31m#     result = view.map(FR2_classifier, subjects)\u001b[0m\u001b[0;34m\u001b[0m\u001b[0;34m\u001b[0m\u001b[0;34m\u001b[0m\u001b[0m\n\u001b[0;32m----> 7\u001b[0;31m     \u001b[0mresult\u001b[0m \u001b[0;34m=\u001b[0m \u001b[0mview\u001b[0m\u001b[0;34m.\u001b[0m\u001b[0mmap\u001b[0m\u001b[0;34m(\u001b[0m\u001b[0mFR2_test_significant_classifier\u001b[0m\u001b[0;34m,\u001b[0m \u001b[0msubjects\u001b[0m\u001b[0;34m)\u001b[0m\u001b[0;34m\u001b[0m\u001b[0;34m\u001b[0m\u001b[0m\n\u001b[0m",
      "\u001b[0;32m~/anaconda3/envs/PTSA3.6/lib/python3.6/contextlib.py\u001b[0m in \u001b[0;36m__exit__\u001b[0;34m(self, type, value, traceback)\u001b[0m\n\u001b[1;32m     86\u001b[0m         \u001b[0;32mif\u001b[0m \u001b[0mtype\u001b[0m \u001b[0;32mis\u001b[0m \u001b[0;32mNone\u001b[0m\u001b[0;34m:\u001b[0m\u001b[0;34m\u001b[0m\u001b[0;34m\u001b[0m\u001b[0m\n\u001b[1;32m     87\u001b[0m             \u001b[0;32mtry\u001b[0m\u001b[0;34m:\u001b[0m\u001b[0;34m\u001b[0m\u001b[0;34m\u001b[0m\u001b[0m\n\u001b[0;32m---> 88\u001b[0;31m                 \u001b[0mnext\u001b[0m\u001b[0;34m(\u001b[0m\u001b[0mself\u001b[0m\u001b[0;34m.\u001b[0m\u001b[0mgen\u001b[0m\u001b[0;34m)\u001b[0m\u001b[0;34m\u001b[0m\u001b[0;34m\u001b[0m\u001b[0m\n\u001b[0m\u001b[1;32m     89\u001b[0m             \u001b[0;32mexcept\u001b[0m \u001b[0mStopIteration\u001b[0m\u001b[0;34m:\u001b[0m\u001b[0;34m\u001b[0m\u001b[0;34m\u001b[0m\u001b[0m\n\u001b[1;32m     90\u001b[0m                 \u001b[0;32mreturn\u001b[0m \u001b[0;32mFalse\u001b[0m\u001b[0;34m\u001b[0m\u001b[0;34m\u001b[0m\u001b[0m\n",
      "\u001b[0;32m~/anaconda3/envs/PTSA3.6/lib/python3.6/site-packages/cluster_helper/cluster.py\u001b[0m in \u001b[0;36mcluster_view\u001b[0;34m(scheduler, queue, num_jobs, cores_per_job, profile, start_wait, extra_params, retries, direct, wait_for_all_engines)\u001b[0m\n\u001b[1;32m   1151\u001b[0m         \u001b[0;32myield\u001b[0m \u001b[0mcluster_view\u001b[0m\u001b[0;34m.\u001b[0m\u001b[0mview\u001b[0m\u001b[0;34m\u001b[0m\u001b[0;34m\u001b[0m\u001b[0m\n\u001b[1;32m   1152\u001b[0m     \u001b[0;32mfinally\u001b[0m\u001b[0;34m:\u001b[0m\u001b[0;34m\u001b[0m\u001b[0;34m\u001b[0m\u001b[0m\n\u001b[0;32m-> 1153\u001b[0;31m         \u001b[0mcluster_view\u001b[0m\u001b[0;34m.\u001b[0m\u001b[0mstop\u001b[0m\u001b[0;34m(\u001b[0m\u001b[0;34m)\u001b[0m\u001b[0;34m\u001b[0m\u001b[0;34m\u001b[0m\u001b[0m\n\u001b[0m\u001b[1;32m   1154\u001b[0m \u001b[0;34m\u001b[0m\u001b[0m\n\u001b[1;32m   1155\u001b[0m \u001b[0;32mdef\u001b[0m \u001b[0m_nengines_up\u001b[0m\u001b[0;34m(\u001b[0m\u001b[0murl_file\u001b[0m\u001b[0;34m)\u001b[0m\u001b[0;34m:\u001b[0m\u001b[0;34m\u001b[0m\u001b[0;34m\u001b[0m\u001b[0m\n",
      "\u001b[0;32m~/anaconda3/envs/PTSA3.6/lib/python3.6/site-packages/cluster_helper/cluster.py\u001b[0m in \u001b[0;36mstop\u001b[0;34m(self)\u001b[0m\n\u001b[1;32m   1121\u001b[0m             \u001b[0m_stop\u001b[0m\u001b[0;34m(\u001b[0m\u001b[0mself\u001b[0m\u001b[0;34m.\u001b[0m\u001b[0mprofile\u001b[0m\u001b[0;34m,\u001b[0m \u001b[0mself\u001b[0m\u001b[0;34m.\u001b[0m\u001b[0mcluster_id\u001b[0m\u001b[0;34m)\u001b[0m\u001b[0;34m\u001b[0m\u001b[0;34m\u001b[0m\u001b[0m\n\u001b[1;32m   1122\u001b[0m             \u001b[0;32mif\u001b[0m \u001b[0mself\u001b[0m\u001b[0;34m.\u001b[0m\u001b[0mhas_throwaway\u001b[0m\u001b[0;34m:\u001b[0m\u001b[0;34m\u001b[0m\u001b[0;34m\u001b[0m\u001b[0m\n\u001b[0;32m-> 1123\u001b[0;31m                 \u001b[0mdelete_profile\u001b[0m\u001b[0;34m(\u001b[0m\u001b[0mself\u001b[0m\u001b[0;34m.\u001b[0m\u001b[0mprofile\u001b[0m\u001b[0;34m)\u001b[0m\u001b[0;34m\u001b[0m\u001b[0;34m\u001b[0m\u001b[0m\n\u001b[0m\u001b[1;32m   1124\u001b[0m             \u001b[0mself\u001b[0m\u001b[0;34m.\u001b[0m\u001b[0mstopped\u001b[0m \u001b[0;34m=\u001b[0m \u001b[0;32mTrue\u001b[0m\u001b[0;34m\u001b[0m\u001b[0;34m\u001b[0m\u001b[0m\n\u001b[1;32m   1125\u001b[0m \u001b[0;34m\u001b[0m\u001b[0m\n",
      "\u001b[0;32m~/anaconda3/envs/PTSA3.6/lib/python3.6/site-packages/cluster_helper/cluster.py\u001b[0m in \u001b[0;36mdelete_profile\u001b[0;34m(profile)\u001b[0m\n\u001b[1;32m   1234\u001b[0m         \u001b[0;32mwhile\u001b[0m \u001b[0;32mTrue\u001b[0m\u001b[0;34m:\u001b[0m\u001b[0;34m\u001b[0m\u001b[0;34m\u001b[0m\u001b[0m\n\u001b[1;32m   1235\u001b[0m             \u001b[0;32mtry\u001b[0m\u001b[0;34m:\u001b[0m\u001b[0;34m\u001b[0m\u001b[0;34m\u001b[0m\u001b[0m\n\u001b[0;32m-> 1236\u001b[0;31m                 \u001b[0mshutil\u001b[0m\u001b[0;34m.\u001b[0m\u001b[0mrmtree\u001b[0m\u001b[0;34m(\u001b[0m\u001b[0mdir_to_remove\u001b[0m\u001b[0;34m)\u001b[0m\u001b[0;34m\u001b[0m\u001b[0;34m\u001b[0m\u001b[0m\n\u001b[0m\u001b[1;32m   1237\u001b[0m                 \u001b[0;32mbreak\u001b[0m\u001b[0;34m\u001b[0m\u001b[0;34m\u001b[0m\u001b[0m\n\u001b[1;32m   1238\u001b[0m             \u001b[0;32mexcept\u001b[0m \u001b[0mOSError\u001b[0m\u001b[0;34m:\u001b[0m\u001b[0;34m\u001b[0m\u001b[0;34m\u001b[0m\u001b[0m\n",
      "\u001b[0;32m~/anaconda3/envs/PTSA3.6/lib/python3.6/shutil.py\u001b[0m in \u001b[0;36mrmtree\u001b[0;34m(path, ignore_errors, onerror)\u001b[0m\n\u001b[1;32m    484\u001b[0m         \u001b[0;32mtry\u001b[0m\u001b[0;34m:\u001b[0m\u001b[0;34m\u001b[0m\u001b[0;34m\u001b[0m\u001b[0m\n\u001b[1;32m    485\u001b[0m             \u001b[0;32mif\u001b[0m \u001b[0mos\u001b[0m\u001b[0;34m.\u001b[0m\u001b[0mpath\u001b[0m\u001b[0;34m.\u001b[0m\u001b[0msamestat\u001b[0m\u001b[0;34m(\u001b[0m\u001b[0morig_st\u001b[0m\u001b[0;34m,\u001b[0m \u001b[0mos\u001b[0m\u001b[0;34m.\u001b[0m\u001b[0mfstat\u001b[0m\u001b[0;34m(\u001b[0m\u001b[0mfd\u001b[0m\u001b[0;34m)\u001b[0m\u001b[0;34m)\u001b[0m\u001b[0;34m:\u001b[0m\u001b[0;34m\u001b[0m\u001b[0;34m\u001b[0m\u001b[0m\n\u001b[0;32m--> 486\u001b[0;31m                 \u001b[0m_rmtree_safe_fd\u001b[0m\u001b[0;34m(\u001b[0m\u001b[0mfd\u001b[0m\u001b[0;34m,\u001b[0m \u001b[0mpath\u001b[0m\u001b[0;34m,\u001b[0m \u001b[0monerror\u001b[0m\u001b[0;34m)\u001b[0m\u001b[0;34m\u001b[0m\u001b[0;34m\u001b[0m\u001b[0m\n\u001b[0m\u001b[1;32m    487\u001b[0m                 \u001b[0;32mtry\u001b[0m\u001b[0;34m:\u001b[0m\u001b[0;34m\u001b[0m\u001b[0;34m\u001b[0m\u001b[0m\n\u001b[1;32m    488\u001b[0m                     \u001b[0mos\u001b[0m\u001b[0;34m.\u001b[0m\u001b[0mrmdir\u001b[0m\u001b[0;34m(\u001b[0m\u001b[0mpath\u001b[0m\u001b[0;34m)\u001b[0m\u001b[0;34m\u001b[0m\u001b[0;34m\u001b[0m\u001b[0m\n",
      "\u001b[0;32m~/anaconda3/envs/PTSA3.6/lib/python3.6/shutil.py\u001b[0m in \u001b[0;36m_rmtree_safe_fd\u001b[0;34m(topfd, path, onerror)\u001b[0m\n\u001b[1;32m    422\u001b[0m                 \u001b[0;32mtry\u001b[0m\u001b[0;34m:\u001b[0m\u001b[0;34m\u001b[0m\u001b[0;34m\u001b[0m\u001b[0m\n\u001b[1;32m    423\u001b[0m                     \u001b[0;32mif\u001b[0m \u001b[0mos\u001b[0m\u001b[0;34m.\u001b[0m\u001b[0mpath\u001b[0m\u001b[0;34m.\u001b[0m\u001b[0msamestat\u001b[0m\u001b[0;34m(\u001b[0m\u001b[0morig_st\u001b[0m\u001b[0;34m,\u001b[0m \u001b[0mos\u001b[0m\u001b[0;34m.\u001b[0m\u001b[0mfstat\u001b[0m\u001b[0;34m(\u001b[0m\u001b[0mdirfd\u001b[0m\u001b[0;34m)\u001b[0m\u001b[0;34m)\u001b[0m\u001b[0;34m:\u001b[0m\u001b[0;34m\u001b[0m\u001b[0;34m\u001b[0m\u001b[0m\n\u001b[0;32m--> 424\u001b[0;31m                         \u001b[0m_rmtree_safe_fd\u001b[0m\u001b[0;34m(\u001b[0m\u001b[0mdirfd\u001b[0m\u001b[0;34m,\u001b[0m \u001b[0mfullname\u001b[0m\u001b[0;34m,\u001b[0m \u001b[0monerror\u001b[0m\u001b[0;34m)\u001b[0m\u001b[0;34m\u001b[0m\u001b[0;34m\u001b[0m\u001b[0m\n\u001b[0m\u001b[1;32m    425\u001b[0m                         \u001b[0;32mtry\u001b[0m\u001b[0;34m:\u001b[0m\u001b[0;34m\u001b[0m\u001b[0;34m\u001b[0m\u001b[0m\n\u001b[1;32m    426\u001b[0m                             \u001b[0mos\u001b[0m\u001b[0;34m.\u001b[0m\u001b[0mrmdir\u001b[0m\u001b[0;34m(\u001b[0m\u001b[0mname\u001b[0m\u001b[0;34m,\u001b[0m \u001b[0mdir_fd\u001b[0m\u001b[0;34m=\u001b[0m\u001b[0mtopfd\u001b[0m\u001b[0;34m)\u001b[0m\u001b[0;34m\u001b[0m\u001b[0;34m\u001b[0m\u001b[0m\n",
      "\u001b[0;32m~/anaconda3/envs/PTSA3.6/lib/python3.6/shutil.py\u001b[0m in \u001b[0;36m_rmtree_safe_fd\u001b[0;34m(topfd, path, onerror)\u001b[0m\n\u001b[1;32m    442\u001b[0m                 \u001b[0mos\u001b[0m\u001b[0;34m.\u001b[0m\u001b[0munlink\u001b[0m\u001b[0;34m(\u001b[0m\u001b[0mname\u001b[0m\u001b[0;34m,\u001b[0m \u001b[0mdir_fd\u001b[0m\u001b[0;34m=\u001b[0m\u001b[0mtopfd\u001b[0m\u001b[0;34m)\u001b[0m\u001b[0;34m\u001b[0m\u001b[0;34m\u001b[0m\u001b[0m\n\u001b[1;32m    443\u001b[0m             \u001b[0;32mexcept\u001b[0m \u001b[0mOSError\u001b[0m\u001b[0;34m:\u001b[0m\u001b[0;34m\u001b[0m\u001b[0;34m\u001b[0m\u001b[0m\n\u001b[0;32m--> 444\u001b[0;31m                 \u001b[0monerror\u001b[0m\u001b[0;34m(\u001b[0m\u001b[0mos\u001b[0m\u001b[0;34m.\u001b[0m\u001b[0munlink\u001b[0m\u001b[0;34m,\u001b[0m \u001b[0mfullname\u001b[0m\u001b[0;34m,\u001b[0m \u001b[0msys\u001b[0m\u001b[0;34m.\u001b[0m\u001b[0mexc_info\u001b[0m\u001b[0;34m(\u001b[0m\u001b[0;34m)\u001b[0m\u001b[0;34m)\u001b[0m\u001b[0;34m\u001b[0m\u001b[0;34m\u001b[0m\u001b[0m\n\u001b[0m\u001b[1;32m    445\u001b[0m \u001b[0;34m\u001b[0m\u001b[0m\n\u001b[1;32m    446\u001b[0m _use_fd_functions = ({os.open, os.stat, os.unlink, os.rmdir} <=\n",
      "\u001b[0;32m~/anaconda3/envs/PTSA3.6/lib/python3.6/shutil.py\u001b[0m in \u001b[0;36m_rmtree_safe_fd\u001b[0;34m(topfd, path, onerror)\u001b[0m\n\u001b[1;32m    440\u001b[0m         \u001b[0;32melse\u001b[0m\u001b[0;34m:\u001b[0m\u001b[0;34m\u001b[0m\u001b[0;34m\u001b[0m\u001b[0m\n\u001b[1;32m    441\u001b[0m             \u001b[0;32mtry\u001b[0m\u001b[0;34m:\u001b[0m\u001b[0;34m\u001b[0m\u001b[0;34m\u001b[0m\u001b[0m\n\u001b[0;32m--> 442\u001b[0;31m                 \u001b[0mos\u001b[0m\u001b[0;34m.\u001b[0m\u001b[0munlink\u001b[0m\u001b[0;34m(\u001b[0m\u001b[0mname\u001b[0m\u001b[0;34m,\u001b[0m \u001b[0mdir_fd\u001b[0m\u001b[0;34m=\u001b[0m\u001b[0mtopfd\u001b[0m\u001b[0;34m)\u001b[0m\u001b[0;34m\u001b[0m\u001b[0;34m\u001b[0m\u001b[0m\n\u001b[0m\u001b[1;32m    443\u001b[0m             \u001b[0;32mexcept\u001b[0m \u001b[0mOSError\u001b[0m\u001b[0;34m:\u001b[0m\u001b[0;34m\u001b[0m\u001b[0;34m\u001b[0m\u001b[0m\n\u001b[1;32m    444\u001b[0m                 \u001b[0monerror\u001b[0m\u001b[0;34m(\u001b[0m\u001b[0mos\u001b[0m\u001b[0;34m.\u001b[0m\u001b[0munlink\u001b[0m\u001b[0;34m,\u001b[0m \u001b[0mfullname\u001b[0m\u001b[0;34m,\u001b[0m \u001b[0msys\u001b[0m\u001b[0;34m.\u001b[0m\u001b[0mexc_info\u001b[0m\u001b[0;34m(\u001b[0m\u001b[0;34m)\u001b[0m\u001b[0;34m)\u001b[0m\u001b[0;34m\u001b[0m\u001b[0;34m\u001b[0m\u001b[0m\n",
      "\u001b[0;31mOSError\u001b[0m: [Errno 16] Device or resource busy: '.nfs000000190541180000006811'"
     ]
    }
   ],
   "source": [
    "subjects = FR2_valid_subjects\n",
    "njobs = len(subjects)\n",
    "cpj = 1\n",
    "with cluster_helper.cluster.cluster_view(scheduler='sge', queue='RAM.q', \n",
    "                                         num_jobs=njobs, cores_per_job=cpj) as view:\n",
    "#     result = view.map(FR2_individual_classifier, subjects)\n",
    "#     result = view.map(FR2_individual_classifier_nullauc, subjects)"
   ]
  },
  {
   "cell_type": "code",
   "execution_count": 95,
   "metadata": {},
   "outputs": [],
   "source": [
    "# concat auc across all\n",
    "\n",
    "phase = 'enc'\n",
    "\n",
    "aucs = []\n",
    "for subject in FR2_valid_subjects:\n",
    "    f = 'scratch/mtpower/%s/%s_%s_%s_clsf_result.pkl' % (subject, subject, phase, phase)\n",
    "    aucs.append(pkl.load(open(f, 'rb'))['auc'])\n",
    "\n",
    "aucs = np.array(aucs)\n",
    "# np.save('scratch/mtpower/%s_%s_auc.npy'%(phase,phase), aucs)"
   ]
  },
  {
   "cell_type": "code",
   "execution_count": 15,
   "metadata": {},
   "outputs": [
    {
     "name": "stdout",
     "output_type": "stream",
     "text": [
      "Evaluating FR2 classifier performance for 88 subjects...\n",
      "    Train phase: enc    Test phase: enc\n",
      "    Mean AUC: 0.60   +-SE: 0.003678861857653041\n",
      "    alpha=0.010: \t 88.00 significant\n",
      "    alpha=0.050: \t 0.00 significant\n",
      "    p<0.05:  88\n",
      "    group binomial test:  p=0.00000000000, significant\n",
      "    group t-test: t=27.540251, p=0.000000, significant\n",
      "Evaluating FR2 classifier performance for 88 subjects...\n",
      "    Train phase: retci    Test phase: retci\n",
      "    Mean AUC: 0.59   +-SE: 0.006709766173937947\n",
      "    alpha=0.010: \t 54.00 significant\n",
      "    alpha=0.050: \t 10.00 significant\n",
      "    p<0.05:  64\n",
      "    group binomial test:  p=0.00000000000, significant\n",
      "    group t-test: t=13.574973, p=0.000000, significant\n",
      "Evaluating FR2 classifier performance for 88 subjects...\n",
      "    Train phase: retcp    Test phase: retcp\n",
      "    Mean AUC: 0.59   +-SE: 0.007349925120708655\n",
      "    alpha=0.010: \t 34.00 significant\n",
      "    alpha=0.050: \t 23.00 significant\n",
      "    p<0.05:  57\n",
      "    group binomial test:  p=0.00000000000, significant\n",
      "    group t-test: t=11.864768, p=0.000000, significant\n",
      "Evaluating FR2 classifier performance for 88 subjects...\n",
      "    Train phase: retce    Test phase: retce\n",
      "    Mean AUC: 0.58   +-SE: 0.007824967260542385\n",
      "    alpha=0.010: \t 32.00 significant\n",
      "    alpha=0.050: \t 18.00 significant\n",
      "    p<0.05:  50\n",
      "    group binomial test:  p=0.00000000000, significant\n",
      "    group t-test: t=10.127454, p=0.000000, significant\n",
      "Evaluating FR2 classifier performance for 88 subjects...\n",
      "    Train phase: retpe    Test phase: retpe\n",
      "    Mean AUC: 0.51   +-SE: 0.010290749726102165\n",
      "    alpha=0.010: \t 1.00 significant\n",
      "    alpha=0.050: \t 13.00 significant\n",
      "    p<0.05:  14\n",
      "    group binomial test:  p=0.00011814151, significant\n",
      "    group t-test: t=1.630467, p=0.106618, non significant\n"
     ]
    }
   ],
   "source": [
    "x = test_clsf_significance('enc', 'enc')\n",
    "x = test_clsf_significance('retci', 'retci')\n",
    "x = test_clsf_significance('retcp', 'retcp')\n",
    "x = test_clsf_significance('retce', 'retce')\n",
    "x = test_clsf_significance('retpe', 'retpe')"
   ]
  },
  {
   "cell_type": "markdown",
   "metadata": {},
   "source": [
    "#### plot example lists"
   ]
  },
  {
   "cell_type": "code",
   "execution_count": 4,
   "metadata": {},
   "outputs": [],
   "source": [
    "example_subjects = ['LTP366', 'LTP354', 'LTP207']"
   ]
  },
  {
   "cell_type": "code",
   "execution_count": 2,
   "metadata": {},
   "outputs": [
    {
     "data": {
      "image/png": "[encoded data removed]",
      "text/plain": [
       "<Figure size 468x288 with 6 Axes>"
      ]
     },
     "metadata": {
      "needs_background": "light"
     },
     "output_type": "display_data"
    }
   ],
   "source": [
    "from plot_utils import plot_example_lists\n",
    "lists = [['LTP366', 12, 24],\n",
    "         ['LTP354', 3, 23],\n",
    "         ['LTP207', 2, 21]]\n",
    "fig, axes = plot_example_lists(lists, figsize=[6.5,4])"
   ]
  },
  {
   "cell_type": "code",
   "execution_count": 3,
   "metadata": {},
   "outputs": [],
   "source": [
    "# fig.savefig('figures_final/examplelist.pdf')"
   ]
  },
  {
   "cell_type": "code",
   "execution_count": 2,
   "metadata": {},
   "outputs": [],
   "source": [
    "def get_subject_ROC(subject, trainphase, testphase):\n",
    "    \n",
    "    f = 'scratch/mtpower/%s/%s_%s_%s_clsf_result.pkl'%(subject, subject, trainphase, testphase)\n",
    "    resultpack = pkl.load(open(f,'rb'))\n",
    "    y = resultpack['y']\n",
    "    yhat = resultpack['yhat']\n",
    "    roc, aucscore = compute_ROC_AUC(y, yhat, base=200)\n",
    "\n",
    "    return roc, aucscore\n",
    "\n",
    "def get_classifier_pval_1subj(subject, trainphase, testphase):\n",
    "    aucs = np.load('scratch/mtpower/%s_%s_auc.npy'%(trainphase, testphase))\n",
    "    aucscore = aucs[FR2_valid_subjects.tolist().index(subject)]\n",
    "    f = 'scratch/mtpower/%s/%s_%s_%s_null_aucs.npy' % (subject, subject, trainphase, testphase)\n",
    "    null_aucs = np.load(f)\n",
    "\n",
    "    return np.sum(null_aucs>aucscore)/len(null_aucs)"
   ]
  },
  {
   "cell_type": "code",
   "execution_count": 19,
   "metadata": {},
   "outputs": [
    {
     "data": {
      "image/png": "[encoded data removed]",
      "text/plain": [
       "<Figure size 288x144 with 2 Axes>"
      ]
     },
     "metadata": {
      "needs_background": "light"
     },
     "output_type": "display_data"
    }
   ],
   "source": [
    "# Example ROC plot\n",
    "subj_ind = 3\n",
    "s = example_subjects[subj_ind-1]\n",
    "\n",
    "fig, axes = plt.subplots(1,2,figsize=[4,2])\n",
    "\n",
    "subj_ROC, subj_auc = get_subject_ROC(s, 'enc', 'enc')\n",
    "plot_ROC(axes[0], roc=subj_ROC, text='AUC=%.2f\\n'%subj_auc+r'$\\it{p}$'+'<0.01')\n",
    "\n",
    "subj_ROC, subj_auc = get_subject_ROC(s, 'retci', 'retci')\n",
    "plot_ROC(axes[1], roc=subj_ROC, text='AUC=%.2f\\n'%subj_auc+r'$\\it{p}$'+'<0.01')\n",
    "\n",
    "fig.tight_layout(h_pad=0)"
   ]
  },
  {
   "cell_type": "code",
   "execution_count": 20,
   "metadata": {},
   "outputs": [],
   "source": [
    "# fig.savefig('figures_final/s%d_rocauc.pdf'%subj_ind)"
   ]
  },
  {
   "cell_type": "code",
   "execution_count": 23,
   "metadata": {},
   "outputs": [],
   "source": [
    "def plot_auc_null_1subj(observed_auc, null_aucs):\n",
    "    fig, ax = plt.subplots(1, 1, figsize=[2,1.2])\n",
    "    ax.axvline(observed_auc, ymax=0.8, color='k')\n",
    "    ax.hist(null_aucs, color='w', edgecolor='gray', bins=np.arange(0.35,0.75,0.01))\n",
    "    ax.set_xlim([0.34, 0.75])\n",
    "    ax.set_xticks([0.4,0.5,0.6,0.7])\n",
    "    ax.set_ylim([0, 25])\n",
    "    ax.set_yticks([])\n",
    "    ax.spines['left'].set_visible(False)\n",
    "    ax.spines['top'].set_visible(False)\n",
    "    ax.spines['right'].set_visible(False)\n",
    "    fig.tight_layout()\n",
    "    return fig, ax"
   ]
  },
  {
   "cell_type": "code",
   "execution_count": 29,
   "metadata": {},
   "outputs": [
    {
     "data": {
      "image/png": "[encoded data removed]",
      "text/plain": [
       "<Figure size 144x86.4 with 1 Axes>"
      ]
     },
     "metadata": {
      "needs_background": "light"
     },
     "output_type": "display_data"
    }
   ],
   "source": [
    "subj_ind = 1\n",
    "s = example_subjects[subj_ind-1]\n",
    "phase = 'retci'\n",
    "observed_auc = get_subject_ROC(s, phase, phase)[1]\n",
    "null_aucs = np.load('scratch/mtpower/%s/%s_%s_%s_null_aucs.npy'%(s,s,phase,phase))\n",
    "fig, ax = plot_auc_null_1subj(observed_auc, null_aucs)\n",
    "\n",
    "# fig.savefig('figures_final/s%d_%s_aucnull.pdf'%(subj_ind, phase),\n",
    "#              transparent=True, bbox_inches=\"tight\")"
   ]
  },
  {
   "cell_type": "markdown",
   "metadata": {},
   "source": [
    "#### group classification performance"
   ]
  },
  {
   "cell_type": "code",
   "execution_count": 34,
   "metadata": {},
   "outputs": [
    {
     "data": {
      "text/plain": [
       "<matplotlib.axes._subplots.AxesSubplot at 0x2b439edc2ac8>"
      ]
     },
     "execution_count": 34,
     "metadata": {},
     "output_type": "execute_result"
    },
    {
     "data": {
      "image/png": "[encoded data removed]",
      "text/plain": [
       "<Figure size 216x172.8 with 1 Axes>"
      ]
     },
     "metadata": {
      "needs_background": "light"
     },
     "output_type": "display_data"
    }
   ],
   "source": [
    "phase = 'enc'\n",
    "roc_all = np.array([get_subject_ROC(s, phase, phase)[0] for s in FR2_valid_subjects])\n",
    "\n",
    "fig, ax = plt.subplots(1, 1,figsize=[3, 2.4])\n",
    "plot_ROC(ax, roc=roc_all.mean(0))"
   ]
  },
  {
   "cell_type": "code",
   "execution_count": 49,
   "metadata": {},
   "outputs": [],
   "source": [
    "# fig.savefig('figures_final/clsf_%s.pdf'%phase)"
   ]
  },
  {
   "cell_type": "code",
   "execution_count": 9,
   "metadata": {},
   "outputs": [
    {
     "data": {
      "image/png": "[encoded data removed]",
      "text/plain": [
       "<Figure size 144x86.4 with 1 Axes>"
      ]
     },
     "metadata": {
      "needs_background": "light"
     },
     "output_type": "display_data"
    }
   ],
   "source": [
    "phase = 'enc'\n",
    "observed_aucs = np.load('scratch/mtpower/%s_%s_auc.npy'%(phase, phase))\n",
    "null_aucs = np.array([np.load('scratch/mtpower/%s/%s_%s_%s_null_aucs.npy'%(s,s,phase,phase)).mean()\n",
    "                      for s in FR2_valid_subjects])\n",
    "fig, ax = plot_auc_null(observed_aucs, null_aucs)\n",
    "# fig.savefig('figures_final/clsf_%s_aucnull.pdf'%phase, transparent=True)"
   ]
  },
  {
   "cell_type": "code",
   "execution_count": 8,
   "metadata": {},
   "outputs": [
    {
     "data": {
      "image/png": "[encoded data removed]",
      "text/plain": [
       "<Figure size 144x86.4 with 1 Axes>"
      ]
     },
     "metadata": {
      "needs_background": "light"
     },
     "output_type": "display_data"
    }
   ],
   "source": [
    "phase = 'retci'\n",
    "observed_aucs = np.load('scratch/mtpower/%s_%s_auc.npy'%(phase, phase))\n",
    "null_aucs = np.array([np.load('scratch/mtpower/%s/%s_%s_%s_null_aucs.npy'%(s,s,phase,phase)).mean()\n",
    "                      for s in FR2_valid_subjects])\n",
    "fig, ax = plot_auc_null(observed_aucs, null_aucs)\n",
    "# fig.savefig('figures_final/clsf_%s_aucnull.pdf'%phase, transparent=True)"
   ]
  },
  {
   "cell_type": "code",
   "execution_count": 7,
   "metadata": {},
   "outputs": [
    {
     "data": {
      "image/png": "[encoded data removed]",
      "text/plain": [
       "<Figure size 144x86.4 with 1 Axes>"
      ]
     },
     "metadata": {
      "needs_background": "light"
     },
     "output_type": "display_data"
    }
   ],
   "source": [
    "phase = 'retcp'\n",
    "observed_aucs = np.load('scratch/mtpower/%s_%s_auc.npy'%(phase, phase))\n",
    "null_aucs = np.array([np.load('scratch/mtpower/%s/%s_%s_%s_null_aucs.npy'%(s,s,phase,phase)).mean()\n",
    "                      for s in FR2_valid_subjects])\n",
    "fig, ax = plot_auc_null(observed_aucs, null_aucs)\n",
    "# fig.savefig('figures_final/clsf_%s_aucnull.pdf'%phase, transparent=True)"
   ]
  },
  {
   "cell_type": "code",
   "execution_count": 6,
   "metadata": {},
   "outputs": [
    {
     "data": {
      "image/png": "[encoded data removed]",
      "text/plain": [
       "<Figure size 144x86.4 with 1 Axes>"
      ]
     },
     "metadata": {
      "needs_background": "light"
     },
     "output_type": "display_data"
    }
   ],
   "source": [
    "phase = 'retce'\n",
    "observed_aucs = np.load('scratch/mtpower/%s_%s_auc.npy'%(phase, phase))\n",
    "null_aucs = np.array([np.load('scratch/mtpower/%s/%s_%s_%s_null_aucs.npy'%(s,s,phase,phase)).mean()\n",
    "                      for s in FR2_valid_subjects])\n",
    "fig, ax = plot_auc_null(observed_aucs, null_aucs)\n",
    "# fig.savefig('figures_final/clsf_%s_aucnull.pdf'%phase, transparent=True)"
   ]
  },
  {
   "cell_type": "code",
   "execution_count": 5,
   "metadata": {},
   "outputs": [
    {
     "data": {
      "image/png": "[encoded data removed]",
      "text/plain": [
       "<Figure size 144x86.4 with 1 Axes>"
      ]
     },
     "metadata": {
      "needs_background": "light"
     },
     "output_type": "display_data"
    }
   ],
   "source": [
    "phase = 'retpe'\n",
    "observed_aucs = np.load('scratch/mtpower/%s_%s_auc.npy'%(phase, phase))\n",
    "null_aucs = np.array([np.load('scratch/mtpower/%s/%s_%s_%s_null_aucs.npy'%(s,s,phase,phase)).mean()\n",
    "                      for s in FR2_valid_subjects])\n",
    "fig, ax = plot_auc_null(observed_aucs, null_aucs)\n",
    "# fig.savefig('figures_final/clsf_%s_aucnull.pdf'%phase, transparent=True)"
   ]
  },
  {
   "cell_type": "code",
   "execution_count": null,
   "metadata": {},
   "outputs": [],
   "source": []
  },
  {
   "cell_type": "markdown",
   "metadata": {},
   "source": [
    "#### activation figures"
   ]
  },
  {
   "cell_type": "code",
   "execution_count": 28,
   "metadata": {},
   "outputs": [
    {
     "name": "stdout",
     "output_type": "stream",
     "text": [
      "Evaluating FR2 classifier performance for 88 subjects...\n",
      "    Train phase: enc    Test phase: enc\n",
      "    Mean AUC: 0.60   +-SE: 0.003678861857653041\n",
      "    alpha=0.010: \t 88.00 significant\n",
      "    alpha=0.050: \t 0.00 significant\n",
      "    p<0.05:  88\n",
      "    group binomial test:  p=0.00000000000, significant\n",
      "    group t-test: t=27.540251, p=0.000000, significant\n"
     ]
    }
   ],
   "source": [
    "phase = 'enc'\n",
    "sig_subjects = test_clsf_significance(phase, phase)[0] # subjects whose classifier is significant with p<0.05\n",
    "\n",
    "result = []\n",
    "for subject in sig_subjects:\n",
    "    f = 'scratch/mtpower/%s/%s_%s_%s_clsf_result.pkl' % (subject, subject, phase, phase)\n",
    "    values = pkl.load(open(f, 'rb'))['avgA']\n",
    "#     values = split_ROIs(values, sys=get_eeg_sys(subject))\n",
    "    result.append(values)"
   ]
  },
  {
   "cell_type": "code",
   "execution_count": 30,
   "metadata": {},
   "outputs": [
    {
     "name": "stdout",
     "output_type": "stream",
     "text": [
      "-2.693907071032072 1.5996063603984352\n",
      "-2.1545203334622194 1.463313046862362\n",
      "-3.080682039239396 1.1594691533922157\n",
      "-4.192745902639105 0.23818613758175317\n",
      "-4.830200857478499 0.4159595282058363\n",
      "-0.3065089050497558 2.77566527012907\n",
      "-2.370858954156797 0.8705165689128155\n",
      "-0.81944293422621 0.8717301425283421\n",
      "-1.8390589135291082 0.8126360964903512\n",
      "-1.6521585028816208 0.8854007712002626\n",
      "-1.1361414532852547 1.136259940509739\n",
      "-1.7906557158636993 1.6225852650986554\n",
      "-1.4883061639486004 0.9077161739412386\n",
      "-1.972301816033002 1.0602509326138334\n",
      "-0.1549192006880303 3.260619833885141\n",
      "-2.155632718424806 2.07004984813728\n",
      "-3.0377260620752167 0.6836415848232693\n",
      "-2.3581232771831213 0.7909912509450099\n",
      "-1.6990338650232941 0.9563136647349949\n",
      "-1.3348705414861237 1.7335728429456905\n",
      "-1.6340681608681134 1.6787339262262906\n",
      "-1.2718001876322522 1.6938664011820017\n",
      "-2.932537174885155 1.2307859517044983\n",
      "-2.116307185281771 2.1471140310745884\n",
      "-1.7985419547351196 0.2165026076350753\n",
      "-1.7856950187558847 1.4018003595387358\n",
      "-0.4200600682626499 1.7605742190741098\n",
      "-1.5031817083542645 1.8647588878121961\n",
      "-2.5126784250804897 1.0058317382023265\n",
      "-3.2608449769389187 0.8203847549036908\n",
      "-2.2506735307144696 0.9693535275303788\n",
      "-1.9194513075799358 1.379818740946093\n",
      "-2.1564881210704363 0.8414330246227325\n",
      "-0.908324585798147 3.531536140626996\n",
      "-1.0705345718783383 1.8576180871476438\n",
      "-0.1852042344929077 1.9296269659654868\n",
      "-2.5798596337172324 0.6926748919741362\n",
      "-2.1240801969292264 1.2042537718087016\n",
      "-0.7047347272463536 1.6548393493411278\n",
      "-1.3687413357402343 2.1340460091953384\n",
      "-2.2112853114087803 2.40218099160328\n",
      "-1.9143292666036087 0.20100805631374508\n",
      "-1.4396722678598306 1.2988971589776237\n",
      "-0.7995507186481439 3.328289661249814\n",
      "-0.8303438800738137 1.8347874763821284\n",
      "-1.7787690433456667 1.59506917428261\n",
      "-2.3599485991379714 1.0120989303451857\n",
      "-2.32451537957591 1.0040869744591832\n",
      "-2.4010688372866067 1.2616153790099955\n",
      "0.12370480300566805 3.4533701481739056\n",
      "-1.4961038931090245 1.6660632681956344\n",
      "-1.9737279351938068 1.1499341635577955\n",
      "-2.2066773700766156 1.2543364556992964\n",
      "-1.3203552286951636 1.495406250653928\n",
      "-1.8452052809982695 0.5930441156393002\n",
      "-1.0172192619357028 1.8248877415332219\n",
      "-0.2835131700092287 2.0454833158062535\n",
      "-4.012538718050872 1.7466423214359004\n",
      "-1.6207863934592972 1.588159274791709\n",
      "-1.8245174356897005 2.0036722227489934\n",
      "-2.290443910276367 1.4453207375098773\n",
      "-3.5016846478570516 0.15219881613731487\n",
      "-1.4926169061748562 4.142129410567599\n",
      "-0.9419455339987701 2.4970506741481775\n",
      "-1.3069354360526815 0.46724917300156693\n",
      "-1.941881638035961 -0.09444862638834425\n",
      "-3.2622967652120733 1.1136800943146674\n",
      "-1.3835531056445955 0.909450686986699\n",
      "-1.304452213168435 1.139917969664133\n",
      "-2.496493414588018 1.8051445441346734\n",
      "-2.3659677337034917 -0.11346802948017284\n",
      "-1.2199016875821236 0.8620255284219221\n",
      "-3.414087852651123 1.9344798516112467\n",
      "-0.5859540758179904 1.9392587866382514\n",
      "-1.9689508149335047 0.2473738821929598\n",
      "-2.9754599361822396 0.8748240939897586\n",
      "-3.1695991347635273 -0.40270162937672493\n",
      "-1.5293284230244288 0.748680324712378\n",
      "-3.6403666140866093 0.6183386030354618\n",
      "-1.755547035284951 0.48771204783055483\n",
      "-2.630961046355895 4.217584352425013\n",
      "-2.800688324609407 1.619627831902364\n",
      "-2.1081219159101923 0.33856405325917527\n",
      "-1.1230891005871604 1.012844668653428\n",
      "-2.5651913764155143 1.1689836142251908\n",
      "-1.996879925184487 0.9913826141475923\n",
      "-1.5354655247228557 2.4535193126896204\n",
      "-1.5360216818593821 1.1972953265575084\n"
     ]
    }
   ],
   "source": [
    "for x in result:\n",
    "    print(np.min(x.values), np.max(x.values))"
   ]
  },
  {
   "cell_type": "code",
   "execution_count": 23,
   "metadata": {},
   "outputs": [
    {
     "data": {
      "image/png": "[encoded data removed]",
      "text/plain": [
       "<Figure size 302.4x259.2 with 1 Axes>"
      ]
     },
     "metadata": {
      "needs_background": "light"
     },
     "output_type": "display_data"
    }
   ],
   "source": [
    "# encoding\n",
    "fig, ax = plot_heatmap_contrast(result, vmin=-1.2, vmax=1.2, colorbar=False, figsize=[4.2,3.6])\n",
    "# fig.savefig('figures_final/clsf_atv_%s.pdf'%phase)"
   ]
  },
  {
   "cell_type": "code",
   "execution_count": 31,
   "metadata": {},
   "outputs": [
    {
     "data": {
      "image/png": "[encoded data removed]",
      "text/plain": [
       "<Figure size 302.4x259.2 with 1 Axes>"
      ]
     },
     "metadata": {
      "needs_background": "light"
     },
     "output_type": "display_data"
    }
   ],
   "source": [
    "# retrieval\n",
    "fig, ax = plot_heatmap_contrast(result, vmin=-1.2, vmax=1.2, colorbar=False, figsize=[4.2,3.6])\n",
    "# fig.savefig('figures_final/clsf_atv_%s.pdf'%phase)"
   ]
  },
  {
   "cell_type": "code",
   "execution_count": 40,
   "metadata": {},
   "outputs": [
    {
     "name": "stdout",
     "output_type": "stream",
     "text": [
      "Evaluating FR2 classifier performance for 88 subjects...\n",
      "    Train phase: retce    Test phase: retce\n",
      "    Mean AUC: 0.58   +-SE: 0.007824967260542385\n",
      "    alpha=0.010: \t 32.00 significant\n",
      "    alpha=0.050: \t 18.00 significant\n",
      "    p<0.05:  50\n",
      "    group binomial test:  p=0.00000000000, significant\n",
      "    group t-test: t=10.127454, p=0.000000, significant\n"
     ]
    }
   ],
   "source": [
    "phase = 'retce'\n",
    "sig_subjects = test_clsf_significance(phase, phase)[0] # subjects whose classifier is significant with p<0.05\n",
    "\n",
    "result = []\n",
    "for subject in sig_subjects:\n",
    "    f = 'scratch/mtpower/%s/%s_%s_%s_clsf_result.pkl' % (subject, subject, phase, phase)\n",
    "    values = pkl.load(open(f, 'rb'))['avgA']\n",
    "    values = split_ROIs(values, sys=get_eeg_sys(subject))\n",
    "    result.append(values)"
   ]
  },
  {
   "cell_type": "code",
   "execution_count": 41,
   "metadata": {},
   "outputs": [
    {
     "data": {
      "image/png": "[encoded data removed]",
      "text/plain": [
       "<Figure size 302.4x259.2 with 1 Axes>"
      ]
     },
     "metadata": {
      "needs_background": "light"
     },
     "output_type": "display_data"
    }
   ],
   "source": [
    "# other retrieval\n",
    "fig, ax = plot_heatmap_contrast(result, vmin=-1.2, vmax=1.2, colorbar=False, figsize=[4.2,3.6])\n",
    "# fig.savefig('figures_final/clsf_atv_%s.pdf'%phase)"
   ]
  },
  {
   "cell_type": "code",
   "execution_count": null,
   "metadata": {},
   "outputs": [],
   "source": []
  }
 ],
 "metadata": {
  "kernelspec": {
   "display_name": "PTSA3.6",
   "language": "python",
   "name": "ptsa3.6"
  },
  "language_info": {
   "codemirror_mode": {
    "name": "ipython",
    "version": 3
   },
   "file_extension": ".py",
   "mimetype": "text/x-python",
   "name": "python",
   "nbconvert_exporter": "python",
   "pygments_lexer": "ipython3",
   "version": "3.6.8"
  }
 },
 "nbformat": 4,
 "nbformat_minor": 4
}
