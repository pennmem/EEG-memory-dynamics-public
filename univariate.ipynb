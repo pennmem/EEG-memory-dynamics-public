{
 "cells": [
  {
   "cell_type": "code",
   "execution_count": 1,
   "metadata": {},
   "outputs": [],
   "source": [
    "import glob\n",
    "import numpy as np\n",
    "import scipy as sp\n",
    "import scipy.stats\n",
    "import xarray as xr\n",
    "import pickle as pkl\n",
    "\n",
    "import mne\n",
    "import cmlreaders as cml\n",
    "import cluster_helper.cluster\n",
    "import matplotlib as mpl\n",
    "import matplotlib.pyplot as plt\n",
    "%matplotlib notebook\n",
    "%matplotlib inline\n",
    "\n",
    "from constants import FR2_valid_subjects, FR2_subjects_sorted, frequencies\n",
    "from plot_utils import plot_heatmap_contrast"
   ]
  },
  {
   "cell_type": "code",
   "execution_count": 2,
   "metadata": {},
   "outputs": [],
   "source": [
    "def FR2_univariate_tstats(subject, task, ret_type='ci'):\n",
    "    \n",
    "    import os\n",
    "    import glob\n",
    "    import scipy.stats\n",
    "    import numpy as np\n",
    "    import pandas as pd\n",
    "    import xarray as xr\n",
    "    import pickle as pkl\n",
    "    \n",
    "    from constants import ROIs\n",
    "    from utils import load_feature, split_ROIs, get_eeg_sys\n",
    "    \n",
    "    features = load_feature(subject, task_phase=task, ret_type=ret_type,\n",
    "                            exclude_peripheral_channels=False, stack_feature=False)\n",
    "    features = split_ROIs(features, sys=get_eeg_sys(subject))\n",
    "    \n",
    "    label = 'recalled' if task=='enc' else 'rec_label'\n",
    "    positive_events = features.sel(events=features.events.values[label]==1)\n",
    "    negative_events = features.sel(events=features.events.values[label]==0)\n",
    "\n",
    "    tvals = scipy.stats.ttest_ind(positive_events, negative_events, axis=1).statistic # along events axis\n",
    "    tvals = xr.DataArray(tvals, dims=['ROI','frequency'],\n",
    "                         coords={'ROI':negative_events.ROI.values,\n",
    "                                 'frequency':negative_events.frequency.values})\n",
    "    \n",
    "    return tvals"
   ]
  },
  {
   "cell_type": "markdown",
   "metadata": {},
   "source": [
    "#### group"
   ]
  },
  {
   "cell_type": "code",
   "execution_count": 11,
   "metadata": {},
   "outputs": [],
   "source": [
    "tstats = [FR2_univariate_tstats(s, task='enc', ret_type='ci') \n",
    "          for s in FR2_valid_subjects]"
   ]
  },
  {
   "cell_type": "code",
   "execution_count": 18,
   "metadata": {},
   "outputs": [],
   "source": [
    "pkl.dump(tstats, open('data/univar_enc_tstats.pkl','wb'))"
   ]
  },
  {
   "cell_type": "code",
   "execution_count": 17,
   "metadata": {},
   "outputs": [],
   "source": [
    "tstats = pkl.load(open('data/univar_enc_tstats.pkl','rb'))"
   ]
  },
  {
   "cell_type": "code",
   "execution_count": 18,
   "metadata": {},
   "outputs": [
    {
     "data": {
      "image/png": "[encoded data removed]",
      "text/plain": [
       "<Figure size 302.4x259.2 with 2 Axes>"
      ]
     },
     "metadata": {
      "needs_background": "light"
     },
     "output_type": "display_data"
    }
   ],
   "source": [
    "fig, ax = plot_heatmap_contrast([s.sel(frequency=s.frequency>2) for s in tstats], vmin=-3, vmax=3, figsize=[4.2,3.6])"
   ]
  },
  {
   "cell_type": "code",
   "execution_count": 19,
   "metadata": {},
   "outputs": [],
   "source": [
    "# fig.savefig('figures_final/univar_enc.pdf')"
   ]
  },
  {
   "cell_type": "code",
   "execution_count": 7,
   "metadata": {},
   "outputs": [],
   "source": [
    "tstats = [FR2_univariate_tstats(s, task='ret', ret_type='ci') \n",
    "          for s in FR2_valid_subjects]"
   ]
  },
  {
   "cell_type": "code",
   "execution_count": 9,
   "metadata": {},
   "outputs": [],
   "source": [
    "pkl.dump(tstats, open('data/univar_retci_tstats.pkl','wb'))"
   ]
  },
  {
   "cell_type": "code",
   "execution_count": 10,
   "metadata": {},
   "outputs": [
    {
     "data": {
      "image/png": "[encoded data removed]",
      "text/plain": [
       "<Figure size 302.4x259.2 with 2 Axes>"
      ]
     },
     "metadata": {
      "needs_background": "light"
     },
     "output_type": "display_data"
    }
   ],
   "source": [
    "fig, ax = plot_heatmap_contrast([s.sel(frequency=s.frequency>2) for s in tstats], vmin=-3, vmax=3, figsize=[4.2,3.6])"
   ]
  },
  {
   "cell_type": "code",
   "execution_count": 11,
   "metadata": {},
   "outputs": [],
   "source": [
    "# fig.savefig('figures_final/univar_retci.pdf')"
   ]
  },
  {
   "cell_type": "markdown",
   "metadata": {},
   "source": [
    "#### individuals"
   ]
  },
  {
   "cell_type": "code",
   "execution_count": 92,
   "metadata": {},
   "outputs": [
    {
     "data": {
      "text/plain": [
       "'LTP287'"
      ]
     },
     "execution_count": 92,
     "metadata": {},
     "output_type": "execute_result"
    }
   ],
   "source": [
    "FR2_subjects_sorted[7]"
   ]
  },
  {
   "cell_type": "code",
   "execution_count": null,
   "metadata": {},
   "outputs": [],
   "source": []
  },
  {
   "cell_type": "code",
   "execution_count": 91,
   "metadata": {},
   "outputs": [],
   "source": [
    "tstats = [FR2_univariate_tstats(s, task='enc') for s in FR2_subjects_sorted]\n",
    "# tstats = [FR2_univariate_tstats(s, task='ret', ret_type='ci') for s in FR2_subjects_sorted]"
   ]
  },
  {
   "cell_type": "code",
   "execution_count": 95,
   "metadata": {},
   "outputs": [
    {
     "data": {
      "text/plain": [
       "<xarray.DataArray (ROI: 8, frequency: 30)>\n",
       "array([[ 7.974812,  7.659676,  7.860139, ...,  7.124707,  7.264287,  6.981654],\n",
       "       [10.754173, 10.484985, 10.59526 , ...,  6.039636,  6.09745 ,  6.015887],\n",
       "       [ 8.878976,  7.371805,  6.794565, ...,  7.206712,  7.233709,  7.308291],\n",
       "       ...,\n",
       "       [ 8.080881,  7.724997,  7.699609, ...,  5.082835,  5.06824 ,  5.018248],\n",
       "       [ 8.64909 ,  6.644967,  5.812781, ...,  8.099781,  8.06324 ,  7.784844],\n",
       "       [ 7.687955,  6.915931,  6.647674, ...,  7.755206,  7.857821,  7.180875]],\n",
       "      dtype=float32)\n",
       "Coordinates:\n",
       "  * ROI        (ROI) <U3 'LAS' 'LAI' 'LPS' 'LPI' 'RAS' 'RAI' 'RPS' 'RPI'\n",
       "  * frequency  (frequency) float64 2.0 4.0 6.0 8.0 ... 110.0 116.0 122.0 128.0"
      ]
     },
     "execution_count": 95,
     "metadata": {},
     "output_type": "execute_result"
    }
   ],
   "source": [
    "tstats[7]"
   ]
  },
  {
   "cell_type": "code",
   "execution_count": 97,
   "metadata": {},
   "outputs": [
    {
     "data": {
      "text/plain": [
       "<matplotlib.image.AxesImage at 0x2b6149010940>"
      ]
     },
     "execution_count": 97,
     "metadata": {},
     "output_type": "execute_result"
    },
    {
     "data": {
      "image/png": "[encoded data removed]",
      "text/plain": [
       "<Figure size 432x288 with 1 Axes>"
      ]
     },
     "metadata": {
      "needs_background": "light"
     },
     "output_type": "display_data"
    }
   ],
   "source": [
    "plt.figure()\n",
    "plt.imshow(tstats[7], origin='lower', aspect='auto', cmap='RdBu_r', vmin=-3, vmax=3)"
   ]
  },
  {
   "cell_type": "code",
   "execution_count": null,
   "metadata": {},
   "outputs": [],
   "source": []
  },
  {
   "cell_type": "code",
   "execution_count": null,
   "metadata": {},
   "outputs": [],
   "source": []
  },
  {
   "cell_type": "code",
   "execution_count": 14,
   "metadata": {},
   "outputs": [],
   "source": [
    "rows = np.array([tstats[i].sel(frequency=tstats[i].frequency>2).mean('ROI').values \n",
    "                 for i in range(len(FR2_subjects_sorted))])"
   ]
  },
  {
   "cell_type": "code",
   "execution_count": 15,
   "metadata": {},
   "outputs": [
    {
     "data": {
      "image/png": "[encoded data removed]",
      "text/plain": [
       "<Figure size 288x576 with 88 Axes>"
      ]
     },
     "metadata": {
      "needs_background": "light"
     },
     "output_type": "display_data"
    }
   ],
   "source": [
    "l = len(FR2_subjects_sorted)\n",
    "\n",
    "fig, axes = plt.subplots(l, 1, figsize=[4, 8])\n",
    "\n",
    "for i in range(l):\n",
    "    ax = axes[i]\n",
    "    ax.imshow([rows[i]], origin='lower', aspect='auto', vmin=-3, vmax=3, cmap='RdBu_r')\n",
    "    ax.spines['right'].set_visible(False)\n",
    "    ax.spines['top'].set_visible(False)\n",
    "    ax.spines['left'].set_visible(False)\n",
    "    ax.spines['bottom'].set_visible(False)\n",
    "    ax.tick_params(axis=u'both', which=u'both',length=0)\n",
    "    ax.set_yticklabels([])\n",
    "    ax.set_xticklabels([])\n",
    "    \n",
    "i = l-1\n",
    "axes[i].set_xticks(range(len(frequencies))[::4])\n",
    "axes[i].set_xticklabels(['%d'%f for f in frequencies[1::4]])\n",
    "axes[i].set_xlabel('Frequency (Hz)', size=10)\n",
    "    \n",
    "fig.tight_layout(h_pad=0.2)"
   ]
  },
  {
   "cell_type": "code",
   "execution_count": 16,
   "metadata": {},
   "outputs": [],
   "source": [
    "fig.savefig('figures_final/univar_enc_id.pdf')\n",
    "# fig.savefig('figures_final/univar_retci_id.pdf')"
   ]
  },
  {
   "cell_type": "code",
   "execution_count": null,
   "metadata": {},
   "outputs": [],
   "source": []
  }
 ],
 "metadata": {
  "kernelspec": {
   "display_name": "PTSA3.6",
   "language": "python",
   "name": "ptsa3.6"
  },
  "language_info": {
   "codemirror_mode": {
    "name": "ipython",
    "version": 3
   },
   "file_extension": ".py",
   "mimetype": "text/x-python",
   "name": "python",
   "nbconvert_exporter": "python",
   "pygments_lexer": "ipython3",
   "version": "3.6.8"
  }
 },
 "nbformat": 4,
 "nbformat_minor": 4
}
