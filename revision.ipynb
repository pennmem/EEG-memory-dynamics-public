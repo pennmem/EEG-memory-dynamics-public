{
 "cells": [
  {
   "cell_type": "code",
   "execution_count": 1,
   "metadata": {},
   "outputs": [],
   "source": [
    "import os\n",
    "import glob\n",
    "import numpy as np\n",
    "import scipy as sp\n",
    "import scipy.stats\n",
    "import pandas as pd\n",
    "import xarray as xr\n",
    "import pickle as pkl\n",
    "\n",
    "import mne\n",
    "import cmlreaders as cml\n",
    "import cluster_helper.cluster\n",
    "import matplotlib as mpl\n",
    "import matplotlib.pyplot as plt\n",
    "from numpy.lib.recfunctions import append_fields\n",
    "from sklearn.metrics import auc, roc_curve, roc_auc_score\n",
    "%matplotlib notebook\n",
    "%matplotlib inline\n",
    "\n",
    "import warnings\n",
    "warnings.filterwarnings('ignore')\n",
    "\n",
    "from constants import FR2_valid_subjects\n",
    "from utils import compute_ROC_AUC, get_eeg_sys, split_ROIs\n",
    "from plot_utils import plot_ROC, plot_auc_null, plot_heatmap_contrast, plot_list_dynamics"
   ]
  },
  {
   "cell_type": "markdown",
   "metadata": {},
   "source": [
    "### behavioral figures"
   ]
  },
  {
   "cell_type": "code",
   "execution_count": 340,
   "metadata": {},
   "outputs": [],
   "source": [
    "labeled_events = pkl.load(open('FR2_all_events_clustered.pkl','rb'))\n",
    "enc_labeled_events = labeled_events[labeled_events['type']=='WORD']\n",
    "ret_labeled_events = labeled_events[labeled_events['type']=='REC_WORD']"
   ]
  },
  {
   "cell_type": "code",
   "execution_count": 443,
   "metadata": {},
   "outputs": [],
   "source": [
    "def get_subject_enc_pc(subject):\n",
    "    subject_data = enc_labeled_events[(enc_labeled_events['subject']==subject)]\n",
    "    pc = []\n",
    "    for sess in np.unique(subject_data['session']):\n",
    "        sess_data = subject_data[subject_data['session']==sess]\n",
    "        sess_pc = []\n",
    "        for tr in np.unique(sess_data['trial']):\n",
    "            x = sess_data[sess_data['trial']==tr]\n",
    "            if len(x) != 24:\n",
    "                print('uh oh, ', subject, sess, tr)\n",
    "                continue\n",
    "            sess_pc.append(x['recalled'])\n",
    "        pc.append(np.mean(sess_pc, 0))\n",
    "    return np.mean(pc, 0)"
   ]
  },
  {
   "cell_type": "code",
   "execution_count": 4,
   "metadata": {},
   "outputs": [],
   "source": [
    "spc_all = np.array([get_subject_enc_pc(s, item='recalled') for s in FR2_valid_subjects])"
   ]
  },
  {
   "cell_type": "code",
   "execution_count": 7,
   "metadata": {},
   "outputs": [
    {
     "data": {
      "image/png": "[encoded data removed]",
      "text/plain": [
       "<Figure size 360x252 with 1 Axes>"
      ]
     },
     "metadata": {
      "needs_background": "light"
     },
     "output_type": "display_data"
    }
   ],
   "source": [
    "fig, ax = plt.subplots(figsize=[5,3.5])\n",
    "ax.plot(range(1,25), np.mean(spc_all, 0), color='k')\n",
    "err = scipy.stats.sem(spc_all, 0)\n",
    "ax.fill_between(range(1,25), np.mean(spc_all, 0)-err, np.mean(spc_all, 0)+err, \n",
    "                color='k', alpha=0.1, edgecolor='none')\n",
    "ax.set_xticks(range(0,25)[::2])\n",
    "ax.set_xlabel('Serial Position')\n",
    "ax.set_ylabel('Recall Probability')\n",
    "\n",
    "# fig.savefig('figures_final/beh_enc_spc.pdf')"
   ]
  },
  {
   "cell_type": "code",
   "execution_count": 538,
   "metadata": {},
   "outputs": [],
   "source": [
    "def get_subject_enc_subtype_pc(subject, conditional=False):\n",
    "    # if conditional, return cluster subtype of recalled events only\n",
    "    #     (effectively, the probability curves conditioned on SPC)\n",
    "    print(subject, end=',')\n",
    "    subject_data = enc_labeled_events[(enc_labeled_events['subject']==subject)]\n",
    "    if conditional:\n",
    "        subject_data = subject_data[subject_data['recalled']==1]\n",
    "    sessions = np.unique(subject_data['session'])\n",
    "    pc = {'BC':np.ones((len(sessions),24))*np.nan,\n",
    "          'TC':np.ones((len(sessions),24))*np.nan,\n",
    "          'SC':np.ones((len(sessions),24))*np.nan,\n",
    "          'NC':np.ones((len(sessions),24))*np.nan,\n",
    "          'NR':np.ones((len(sessions),24))*np.nan}\n",
    "    item_types = pc.keys()\n",
    "    for s, sess in enumerate(sessions):\n",
    "        sess_data = subject_data[subject_data['session']==sess]\n",
    "        trials = np.unique(sess_data['trial'])\n",
    "        sess_pc = {'BC':np.ones((len(trials),24))*np.nan,\n",
    "                   'TC':np.ones((len(trials),24))*np.nan,\n",
    "                   'SC':np.ones((len(trials),24))*np.nan,\n",
    "                   'NC':np.ones((len(trials),24))*np.nan,\n",
    "                   'NR':np.ones((len(trials),24))*np.nan}\n",
    "        \n",
    "        for t, tr in enumerate(trials):\n",
    "            trial_data = sess_data[sess_data['trial']==tr]\n",
    "            if (not conditional) and (len(trial_data) != 24):\n",
    "                print('uh oh, ', subject, sess, tr)\n",
    "                continue\n",
    "            for item in sess_pc.keys():\n",
    "                tr_pc = np.ones(24)*np.nan\n",
    "                for sp in trial_data['serialpos']:\n",
    "                    tr_pc[sp-1] = int(trial_data[trial_data['serialpos']==sp]['cluster_type'].values[0]==item)\n",
    "                sess_pc[item][t] = tr_pc # 1s and 0s for this subtype across a list\n",
    "        \n",
    "        for item in sess_pc.keys():\n",
    "            pc[item][s] = np.nanmean(sess_pc[item], 0) # mean over lists in a session\n",
    "    for item in pc.keys():\n",
    "        pc[item] = np.nanmean(pc[item],0) # mean over sessions\n",
    "    return pc"
   ]
  },
  {
   "cell_type": "code",
   "execution_count": 487,
   "metadata": {},
   "outputs": [
    {
     "name": "stdout",
     "output_type": "stream",
     "text": [
      "LTP093,LTP106,LTP115,LTP117,LTP123,LTP133,LTP138,LTP207,LTP210,LTP228,LTP229,LTP236,LTP246,LTP249,LTP250,LTP251,LTP258,LTP259,LTP265,LTP269,LTP273,LTP278,LTP279,LTP280,LTP283,LTP285,LTP287,LTP293,LTP296,LTP297,LTP299,LTP301,LTP302,LTP303,LTP304,LTP305,LTP306,LTP307,LTP310,LTP311,LTP312,LTP316,LTP317,LTP318,LTP321,LTP322,LTP323,LTP324,LTP325,LTP326,LTP327,LTP328,LTP329,LTP331,LTP334,LTP336,LTP339,LTP341,LTP342,LTP343,LTP344,LTP346,LTP347,LTP348,LTP349,LTP354,LTP355,LTP357,LTP360,LTP361,LTP362,LTP364,LTP365,LTP366,LTP367,LTP371,LTP372,LTP373,LTP374,LTP376,LTP377,LTP385,LTP386,LTP387,LTP389,LTP390,LTP391,LTP393,"
     ]
    }
   ],
   "source": [
    "enc_subtype_pc = [get_subject_enc_subtype_pc(s) for s in FR2_valid_subjects]\n",
    "# pkl.dump(enc_subtype_pc, open('data/enc_subtype_pc.pkl','wb'))"
   ]
  },
  {
   "cell_type": "code",
   "execution_count": 542,
   "metadata": {},
   "outputs": [
    {
     "name": "stdout",
     "output_type": "stream",
     "text": [
      "LTP093,LTP106,LTP115,LTP117,LTP123,LTP133,LTP138,LTP207,LTP210,LTP228,LTP229,LTP236,LTP246,LTP249,LTP250,LTP251,LTP258,LTP259,LTP265,LTP269,LTP273,LTP278,LTP279,LTP280,LTP283,LTP285,LTP287,LTP293,LTP296,LTP297,LTP299,LTP301,LTP302,LTP303,LTP304,LTP305,LTP306,LTP307,LTP310,LTP311,LTP312,LTP316,LTP317,LTP318,LTP321,LTP322,LTP323,LTP324,LTP325,LTP326,LTP327,LTP328,LTP329,LTP331,LTP334,LTP336,LTP339,LTP341,LTP342,LTP343,LTP344,LTP346,LTP347,LTP348,LTP349,LTP354,LTP355,LTP357,LTP360,LTP361,LTP362,LTP364,LTP365,LTP366,LTP367,LTP371,LTP372,LTP373,LTP374,LTP376,LTP377,LTP385,LTP386,LTP387,LTP389,LTP390,LTP391,LTP393,"
     ]
    }
   ],
   "source": [
    "enc_conditional_subtype_pc = [get_subject_enc_subtype_pc(s, conditional=True) for s in FR2_valid_subjects]\n",
    "# pkl.dump(enc_subtype_pc, open('data/enc_conditional_subtype_pc.pkl','wb'))"
   ]
  },
  {
   "cell_type": "code",
   "execution_count": 490,
   "metadata": {},
   "outputs": [],
   "source": [
    "enc_BC_all = np.array([x['BC'] for x in enc_subtype_pc])\n",
    "enc_TC_all = np.array([x['TC'] for x in enc_subtype_pc])\n",
    "enc_SC_all = np.array([x['SC'] for x in enc_subtype_pc])\n",
    "enc_NC_all = np.array([x['NC'] for x in enc_subtype_pc])\n",
    "enc_NR_all = np.array([x['NR'] for x in enc_subtype_pc])"
   ]
  },
  {
   "cell_type": "code",
   "execution_count": 511,
   "metadata": {},
   "outputs": [
    {
     "data": {
      "image/png": "[encoded data removed]",
      "text/plain": [
       "<Figure size 360x252 with 1 Axes>"
      ]
     },
     "metadata": {
      "needs_background": "light"
     },
     "output_type": "display_data"
    }
   ],
   "source": [
    "# encoding output by clustering type and serial position - plot \n",
    "fig, ax = plt.subplots(figsize=[5,3.5])\n",
    "\n",
    "# mask BC_all and TC_all sp0 nan values as 0\n",
    "enc_BC_all[:,0] = np.nan\n",
    "enc_TC_all[:,0] = np.nan\n",
    "\n",
    "values = [enc_BC_all, enc_TC_all, enc_SC_all, enc_NC_all, enc_NR_all]\n",
    "labels=['BC','TC','SC','NC','NR']\n",
    "colors=['k','#555555','#888888','#adadad','#c6c6c6']\n",
    "markers=['P','^','o','D','']\n",
    "markersizes=[7.5,6.5,6.5,5.5,0]\n",
    "linestyles=['-','-','-','-','--']\n",
    "\n",
    "for i, x in enumerate(values):\n",
    "    \n",
    "    ax.plot(range(24), np.nanmean(x, 0), ls=linestyles[i],\n",
    "            marker=markers[i], ms=markersizes[i], mfc='w', \n",
    "            color=colors[i], label=labels[i])\n",
    "    err = scipy.stats.sem(x, axis=0, nan_policy='omit')\n",
    "    ax.fill_between(range(24), np.nanmean(x, 0)-err, np.nanmean(x, 0)+err, color='k', alpha=0.07, edgecolor='w')\n",
    "\n",
    "# ax.axhline(y=0.5, ls='--', lw=0.75, color='gray')\n",
    "\n",
    "ax.set_xticks(range(24)[1::2])\n",
    "ax.set_xticklabels(np.arange(1,25,1)[1::2])\n",
    "ax.set_ylim([0.0,0.66])\n",
    "ax.set_xlabel('Serial Position')\n",
    "ax.set_ylabel('Probability of Encoding Event Subtypes')\n",
    "\n",
    "# ax.legend(ncol=1, loc=3, fontsize='medium')\n",
    "fig.tight_layout()"
   ]
  },
  {
   "cell_type": "code",
   "execution_count": 512,
   "metadata": {},
   "outputs": [],
   "source": [
    "# fig.savefig('figures_final/beh_enc_subtype_pc.pdf')"
   ]
  },
  {
   "cell_type": "code",
   "execution_count": 543,
   "metadata": {},
   "outputs": [],
   "source": [
    "enc_BC_all = np.array([x['BC'] for x in enc_conditional_subtype_pc])\n",
    "enc_TC_all = np.array([x['TC'] for x in enc_conditional_subtype_pc])\n",
    "enc_SC_all = np.array([x['SC'] for x in enc_conditional_subtype_pc])\n",
    "enc_NC_all = np.array([x['NC'] for x in enc_conditional_subtype_pc])"
   ]
  },
  {
   "cell_type": "code",
   "execution_count": 564,
   "metadata": {},
   "outputs": [
    {
     "data": {
      "image/png": "[encoded data removed]",
      "text/plain": [
       "<Figure size 360x252 with 1 Axes>"
      ]
     },
     "metadata": {
      "needs_background": "light"
     },
     "output_type": "display_data"
    }
   ],
   "source": [
    "# encoding output by clustering type and serial position - plot \n",
    "fig, ax = plt.subplots(figsize=[5,3.5])\n",
    "\n",
    "# mask BC_all and TC_all sp0 nan values as 0\n",
    "enc_BC_all[:,0] = np.nan\n",
    "enc_TC_all[:,0] = np.nan\n",
    "\n",
    "values = [enc_BC_all, enc_TC_all, enc_SC_all, enc_NC_all]\n",
    "labels=['BC','TC','SC','NC']\n",
    "colors=['k','#555555','#888888','#adadad']\n",
    "markers=['P','^','o','D']\n",
    "markersizes=[7.5,6.5,6.5,5.5]\n",
    "linestyles=['-','-','-','-']\n",
    "\n",
    "for i, x in enumerate(values):\n",
    "    \n",
    "    ax.plot(range(24), np.nanmean(x, 0), ls=linestyles[i],\n",
    "            marker=markers[i], ms=markersizes[i], mfc='w', \n",
    "            color=colors[i], label=labels[i])\n",
    "    err = scipy.stats.sem(x, axis=0, nan_policy='omit')\n",
    "    ax.fill_between(range(24), np.nanmean(x, 0)-err, np.nanmean(x, 0)+err, color='k', alpha=0.07, edgecolor='w')\n",
    "\n",
    "# ax.axhline(y=0.5, ls='--', lw=0.75, color='gray')\n",
    "\n",
    "ax.set_xticks(range(24)[1::2])\n",
    "ax.set_xticklabels(np.arange(1,25,1)[1::2])\n",
    "ax.set_ylim([0.0,1])\n",
    "ax.set_xlabel('Serial Position')\n",
    "ax.set_ylabel('Probability of Recalled Event Subtypes')\n",
    "\n",
    "# ax.legend(ncol=1, loc=3, fontsize='medium')\n",
    "fig.tight_layout()"
   ]
  },
  {
   "cell_type": "code",
   "execution_count": 565,
   "metadata": {},
   "outputs": [],
   "source": [
    "# fig.savefig('figures_final/beh_enc_conditional_subtype_pc.pdf')"
   ]
  },
  {
   "cell_type": "code",
   "execution_count": 361,
   "metadata": {},
   "outputs": [],
   "source": [
    "def get_subject_ret_dist(subject):\n",
    "    # the probability that a given recall response (correct or intrusion, aggregated)\n",
    "    # comes from a particular bin\n",
    "    print(subject, end=', ')\n",
    "    rectime_bins = np.arange(0, 75.1, 7.5)*1000\n",
    "    \n",
    "    subject_data = ret_labeled_events[(ret_labeled_events['subject']==subject)]\n",
    "    pc = np.zeros((len(np.unique(subject_data['session'])),10))\n",
    "    for s, sess in enumerate(np.unique(subject_data['session'])):\n",
    "        sess_data = subject_data[subject_data['session']==sess]\n",
    "        sess_pc = np.zeros((len(np.unique(sess_data['trial'])),10))\n",
    "        for t, trial in enumerate(np.unique(sess_data['trial'])):\n",
    "            # probability of a recalled word being in a given recall bin\n",
    "            # i.e., probability of all bins sums to 1\n",
    "            rectimes = sess_data[sess_data['trial']==trial]['rectime']\n",
    "            if len(rectimes)==0: continue # zero recall response in this trial\n",
    "            tr_pc = [sum((rectimes>rectime_bins[b-1])&(rectimes<=rectime_bins[b]))/len(rectimes) for b in range(1,11)]\n",
    "            sess_pc[t] = tr_pc\n",
    "        pc[s] = np.nanmean(sess_pc, 0)\n",
    "    return np.nanmean(pc, 0)\n",
    "\n",
    "def get_subject_ret_pc(subject):\n",
    "    # the probability that a recall response was correct vs. intrusion\n",
    "    rectime_bins = np.arange(0, 75.1, 7.5)*1000\n",
    "    pc = []\n",
    "    events = ret_labeled_events[ret_labeled_events['subject']==subject]\n",
    "    for sess in np.unique(events['session']):\n",
    "        sess_events = events[events['session']==sess]\n",
    "        sess_pc = []\n",
    "        for tr in np.unique(sess_events['trial']):\n",
    "            tr_events = sess_events[sess_events['trial']==tr]\n",
    "            tr_pc = [np.mean(tr_events[(tr_events['rectime']>rectime_bins[b-1])&(tr_events['rectime']<=rectime_bins[b])]['intrusion']==0) \n",
    "                     for b in range(1,11)]\n",
    "            sess_pc.append(tr_pc)\n",
    "        pc.append(np.nanmean(sess_pc, 0))\n",
    "    return np.nanmean(pc, 0)"
   ]
  },
  {
   "cell_type": "code",
   "execution_count": 364,
   "metadata": {},
   "outputs": [
    {
     "name": "stdout",
     "output_type": "stream",
     "text": [
      "LTP093, LTP106, LTP115, LTP117, LTP123, LTP133, LTP138, LTP207, LTP210, LTP228, LTP229, LTP236, LTP246, LTP249, LTP250, LTP251, LTP258, LTP259, LTP265, LTP269, LTP273, LTP278, LTP279, LTP280, LTP283, LTP285, LTP287, LTP293, LTP296, LTP297, LTP299, LTP301, LTP302, LTP303, LTP304, LTP305, LTP306, LTP307, LTP310, LTP311, LTP312, LTP316, LTP317, LTP318, LTP321, LTP322, LTP323, LTP324, LTP325, LTP326, LTP327, LTP328, LTP329, LTP331, LTP334, LTP336, LTP339, LTP341, LTP342, LTP343, LTP344, LTP346, LTP347, LTP348, LTP349, LTP354, LTP355, LTP357, LTP360, LTP361, LTP362, LTP364, LTP365, LTP366, LTP367, LTP371, LTP372, LTP373, LTP374, LTP376, LTP377, LTP385, LTP386, LTP387, LTP389, LTP390, LTP391, LTP393, "
     ]
    }
   ],
   "source": [
    "ret_dist_all = np.array([get_subject_ret_dist(s) for s in FR2_valid_subjects])\n",
    "# np.save('data/ret_dist_all.npy', ret_dist_all)"
   ]
  },
  {
   "cell_type": "code",
   "execution_count": 369,
   "metadata": {},
   "outputs": [
    {
     "data": {
      "image/png": "[encoded data removed]",
      "text/plain": [
       "<Figure size 360x252 with 1 Axes>"
      ]
     },
     "metadata": {
      "needs_background": "light"
     },
     "output_type": "display_data"
    }
   ],
   "source": [
    "fig, ax = plt.subplots(figsize=[5,3.5])\n",
    "ax.plot(np.arange(7.5, 75.1, 7.5)-7.5/2, np.mean(ret_dist_all, 0), color='k')\n",
    "err = scipy.stats.sem(ret_dist_all, 0)\n",
    "ax.fill_between(np.arange(7.5, 75.1, 7.5)-7.5/2, np.mean(ret_dist_all, 0)-err, np.mean(ret_dist_all, 0)+err, \n",
    "                color='k', alpha=0.1, edgecolor='none')\n",
    "ax.set_xticks(np.arange(0, 76, 15))\n",
    "ax.set_ylim(0, 1)\n",
    "# ax.set_yticks(np.arange(0.8,1.01,0.05))\n",
    "ax.set_xlabel('Recall Time (s)')\n",
    "ax.set_ylabel('Probability Density of Recalls')\n",
    "\n",
    "# fig.savefig('figures_final/beh_ret_dist.pdf')"
   ]
  },
  {
   "cell_type": "code",
   "execution_count": 344,
   "metadata": {},
   "outputs": [],
   "source": [
    "ret_spc_all = np.array([get_subject_ret_pc(s) for s in FR2_valid_subjects])\n",
    "# np.save('data/ret_ci_pc.npy', ret_spc_all)"
   ]
  },
  {
   "cell_type": "code",
   "execution_count": 373,
   "metadata": {},
   "outputs": [
    {
     "data": {
      "image/png": "[encoded data removed]",
      "text/plain": [
       "<Figure size 216x172.8 with 1 Axes>"
      ]
     },
     "metadata": {
      "needs_background": "light"
     },
     "output_type": "display_data"
    }
   ],
   "source": [
    "fig, ax = plt.subplots(figsize=[3,2.4])\n",
    "ax.plot(np.arange(7.5, 75.1, 7.5)-7.5/2, np.mean(ret_spc_all, 0), color='k')\n",
    "err = scipy.stats.sem(ret_spc_all, 0)\n",
    "ax.fill_between(np.arange(7.5, 75.1, 7.5)-7.5/2, np.mean(ret_spc_all, 0)-err, np.mean(ret_spc_all, 0)+err, \n",
    "                color='k', alpha=0.1, edgecolor='none')\n",
    "ax.set_xticks(np.arange(0, 76, 15))\n",
    "ax.set_ylim(0.8, 1)\n",
    "ax.set_yticks(np.arange(0.8,1.01,0.05))\n",
    "ax.set_xlabel('Recall Time (s)')\n",
    "ax.set_ylabel('Probability of Recall/Intrusion Subtypes')\n",
    "\n",
    "# fig.savefig('figures_final/beh_ret_cipc.pdf', bbox_inches=\"tight\", transparent=True)"
   ]
  },
  {
   "cell_type": "code",
   "execution_count": 429,
   "metadata": {},
   "outputs": [],
   "source": [
    "def get_subject_ret_subtype_pc(subject):\n",
    "    print(subject, end=',')\n",
    "    # the probability that a recall response was pli, eli, BC, TC, SC, NC\n",
    "    \n",
    "    rectime_bins = np.arange(0, 75.1, 7.5)*1000\n",
    "    subject_data = ret_labeled_events[(ret_labeled_events['subject']==subject)]\n",
    "    sessions = np.unique(subject_data['session'])\n",
    "    pc = {'BC':np.ones((len(sessions),10))*np.nan,\n",
    "          'TC':np.ones((len(sessions),10))*np.nan,\n",
    "          'SC':np.ones((len(sessions),10))*np.nan,\n",
    "          'NC':np.ones((len(sessions),10))*np.nan,\n",
    "          'PLI':np.ones((len(sessions),10))*np.nan,\n",
    "          'ELI':np.ones((len(sessions),10))*np.nan}\n",
    "    item_types = pc.keys()\n",
    "    for s, sess in enumerate(sessions):\n",
    "        sess_data = subject_data[subject_data['session']==sess]\n",
    "        trials = np.unique(sess_data['trial'])\n",
    "        sess_pc = {'BC':np.ones((len(trials),10))*np.nan,\n",
    "                   'TC':np.ones((len(trials),10))*np.nan,\n",
    "                   'SC':np.ones((len(trials),10))*np.nan,\n",
    "                   'NC':np.ones((len(trials),10))*np.nan,\n",
    "                   'PLI':np.ones((len(trials),10))*np.nan,\n",
    "                   'ELI':np.ones((len(trials),10))*np.nan}\n",
    "        \n",
    "        for t, tr in enumerate(trials):\n",
    "            rectimes_all = sess_data[sess_data['trial']==tr]['rectime']\n",
    "            for item in sess_pc.keys():\n",
    "                if item=='PLI': rectimes_item = sess_data[(sess_data['trial']==tr)&(sess_data['intrusion']>0)]['rectime']\n",
    "                elif item=='ELI': rectimes_item = sess_data[(sess_data['trial']==tr)&(sess_data['intrusion']<0)]['rectime']\n",
    "                else: rectimes_item = sess_data[(sess_data['trial']==tr)&(sess_data['cluster_type']==item)]['rectime']\n",
    "                tr_pc = []\n",
    "                for b in range(1,11):\n",
    "                    # probability of a recall response being that item (pli/eli/cluster_types) in a given interval\n",
    "                    # i.e., probability of all types in a given bin sums to 1\n",
    "                    n_recall = sum((rectimes_all>rectime_bins[b-1])&(rectimes_all<=rectime_bins[b]))\n",
    "                    n_item = sum((rectimes_item>rectime_bins[b-1])&(rectimes_item<=rectime_bins[b]))\n",
    "                    tr_pc.append(n_item/n_recall if n_recall!=0 else np.nan)\n",
    "                sess_pc[item][t] = tr_pc # probability for this subtype across recall bins\n",
    "        \n",
    "        for item in sess_pc.keys():\n",
    "            pc[item][s] = np.nanmean(sess_pc[item], 0) # mean over trials in a session\n",
    "    for item in pc.keys():\n",
    "        pc[item] = np.nanmean(pc[item],0) # mean over sesssions\n",
    "    return pc"
   ]
  },
  {
   "cell_type": "code",
   "execution_count": null,
   "metadata": {},
   "outputs": [],
   "source": [
    "ret_subtype_pc = [get_subject_ret_subtype_pc(s) for s in FR2_valid_subjects]\n",
    "# pkl.dump(ret_subtype_pc, open('data/ret_subtype_pc.pkl','wb'))"
   ]
  },
  {
   "cell_type": "code",
   "execution_count": 440,
   "metadata": {},
   "outputs": [],
   "source": [
    "ret_BC_all = np.array([x['BC'] for x in ret_subtype_pc])\n",
    "ret_TC_all = np.array([x['TC'] for x in ret_subtype_pc])\n",
    "ret_SC_all = np.array([x['SC'] for x in ret_subtype_pc])\n",
    "ret_NC_all = np.array([x['NC'] for x in ret_subtype_pc])\n",
    "ret_pli_all = np.array([x['PLI'] for x in ret_subtype_pc])\n",
    "ret_eli_all = np.array([x['ELI'] for x in ret_subtype_pc])"
   ]
  },
  {
   "cell_type": "code",
   "execution_count": 510,
   "metadata": {},
   "outputs": [
    {
     "data": {
      "image/png": "[encoded data removed]",
      "text/plain": [
       "<Figure size 360x252 with 1 Axes>"
      ]
     },
     "metadata": {
      "needs_background": "light"
     },
     "output_type": "display_data"
    }
   ],
   "source": [
    "fig, ax = plt.subplots(figsize=[5,3.5])\n",
    "\n",
    "values = [ret_BC_all, ret_TC_all, ret_SC_all, ret_NC_all, ret_pli_all, ret_eli_all]\n",
    "labels=['BC','TC','SC','NC','PLI','ELI']\n",
    "colors=['k','#555555','#888888','#adadad','#c6c6c6','#c6c6c6']\n",
    "markers=['P','^','o','D','','']\n",
    "markersizes=[7.5,6.5,6.5,5.5,0,0]\n",
    "linestyles=['-','-','-','-','--',':']\n",
    "\n",
    "xticks = np.arange(7.5, 75.1, 7.5)-7.5/2\n",
    "jitter = [-0.9,-0.3,0.3,0.9,0,0]\n",
    "\n",
    "for i, x in enumerate(values):\n",
    "    \n",
    "    ax.plot(xticks+jitter[i], np.nanmean(x, 0), ls=linestyles[i],\n",
    "            marker=markers[i], ms=markersizes[i], mfc='w', \n",
    "            color=colors[i], label=labels[i])\n",
    "    err = scipy.stats.sem(x, axis=0, nan_policy='omit')\n",
    "    ax.fill_between(xticks+jitter[i], np.nanmean(x, 0)-err, np.nanmean(x, 0)+err, \n",
    "                    color='k', alpha=0.05, edgecolor='none')\n",
    "\n",
    "# ax.set_ylim([0.43,0.524])\n",
    "ax.set_xticks(np.arange(0,76,15))\n",
    "ax.set_xticklabels(np.arange(0,76,15))\n",
    "ax.set_xlabel('Recall Time (s)')\n",
    "ax.set_ylabel('Probability of Recall/Intrusion Subtypes')\n",
    "\n",
    "# ax.legend(loc=3, fontsize='medium')\n",
    "fig.tight_layout()\n",
    "\n",
    "# fig.savefig('figures_final/beh_ret_subtype_pc.pdf')"
   ]
  },
  {
   "cell_type": "code",
   "execution_count": null,
   "metadata": {},
   "outputs": [],
   "source": []
  },
  {
   "cell_type": "markdown",
   "metadata": {},
   "source": [
    "### expand group univariate SME heatmaps with event resampling and along time dimension"
   ]
  },
  {
   "cell_type": "code",
   "execution_count": 59,
   "metadata": {},
   "outputs": [],
   "source": [
    "def FR2_univariate_tstats_resample(subject, task, ret_type='ci'):\n",
    "    \n",
    "    import os\n",
    "    import glob\n",
    "    import scipy.stats\n",
    "    import numpy as np\n",
    "    import pandas as pd\n",
    "    import xarray as xr\n",
    "    import pickle as pkl\n",
    "    \n",
    "    from constants import ROIs\n",
    "    from utils import load_feature, split_ROIs, get_eeg_sys, resample_enc_events, resample_ret_events\n",
    "    \n",
    "    features = load_feature(subject, task_phase=task, ret_type=ret_type,\n",
    "                            exclude_peripheral_channels=False, stack_feature=False)\n",
    "    features = split_ROIs(features, sys=get_eeg_sys(subject))\n",
    "    \n",
    "    if task == 'enc':\n",
    "        features = resample_enc_events(features) # resample events to ensure similar pos/neg ratio at each serialpos\n",
    "    if task == 'ret':\n",
    "        features = resample_ret_events(features) # resample events to ensure similar pos/neg ratio in each rectime bin\n",
    "    \n",
    "    features = features.sel(events=features.events.values['serialpos']<5)\n",
    "    label = 'recalled' if task=='enc' else 'rec_label'\n",
    "    positive_events = features.sel(events=features.events.values[label]==1)\n",
    "    negative_events = features.sel(events=features.events.values[label]==0)\n",
    "\n",
    "    tvals = scipy.stats.ttest_ind(positive_events, negative_events, axis=1).statistic # along events axis\n",
    "    tvals = xr.DataArray(tvals, dims=['ROI','frequency'],\n",
    "                         coords={'ROI':negative_events.ROI.values,\n",
    "                                 'frequency':negative_events.frequency.values})\n",
    "    \n",
    "    return tvals"
   ]
  },
  {
   "cell_type": "code",
   "execution_count": 60,
   "metadata": {},
   "outputs": [],
   "source": [
    "tstats = [FR2_univariate_tstats_resample(s, task='enc', ret_type='ci') \n",
    "          for s in FR2_valid_subjects]"
   ]
  },
  {
   "cell_type": "code",
   "execution_count": 61,
   "metadata": {},
   "outputs": [
    {
     "data": {
      "image/png": "[encoded data removed]",
      "text/plain": [
       "<Figure size 302.4x259.2 with 2 Axes>"
      ]
     },
     "metadata": {
      "needs_background": "light"
     },
     "output_type": "display_data"
    }
   ],
   "source": [
    "fig, ax = plot_heatmap_contrast([s.sel(frequency=s.frequency>2) for s in tstats], vmin=-3, vmax=3, figsize=[4.2,3.6])"
   ]
  },
  {
   "cell_type": "code",
   "execution_count": 62,
   "metadata": {},
   "outputs": [],
   "source": [
    "# fig.savefig('figures_final/univar_enc_resample_sp1-4.pdf')"
   ]
  },
  {
   "cell_type": "code",
   "execution_count": 7,
   "metadata": {},
   "outputs": [
    {
     "data": {
      "image/png": "[encoded data removed]",
      "text/plain": [
       "<Figure size 302.4x259.2 with 2 Axes>"
      ]
     },
     "metadata": {
      "needs_background": "light"
     },
     "output_type": "display_data"
    }
   ],
   "source": [
    "fig, ax = plot_heatmap_contrast([s.sel(frequency=s.frequency>2) for s in tstats], vmin=-3, vmax=3, figsize=[4.2,3.6])"
   ]
  },
  {
   "cell_type": "code",
   "execution_count": 8,
   "metadata": {},
   "outputs": [],
   "source": [
    "# fig.savefig('figures_final/univar_enc_resample.pdf')"
   ]
  },
  {
   "cell_type": "code",
   "execution_count": 10,
   "metadata": {},
   "outputs": [],
   "source": [
    "tstats = [FR2_univariate_tstats_resample(s, task='ret', ret_type='ci') \n",
    "          for s in FR2_valid_subjects]"
   ]
  },
  {
   "cell_type": "code",
   "execution_count": 11,
   "metadata": {},
   "outputs": [
    {
     "data": {
      "image/png": "[encoded data removed]",
      "text/plain": [
       "<Figure size 302.4x259.2 with 2 Axes>"
      ]
     },
     "metadata": {
      "needs_background": "light"
     },
     "output_type": "display_data"
    }
   ],
   "source": [
    "fig, ax = plot_heatmap_contrast([s.sel(frequency=s.frequency>2) for s in tstats], vmin=-3, vmax=3, figsize=[4.2,3.6])"
   ]
  },
  {
   "cell_type": "code",
   "execution_count": 12,
   "metadata": {},
   "outputs": [],
   "source": [
    "# fig.savefig('figures_final/univar_retci_resample.pdf')"
   ]
  },
  {
   "cell_type": "code",
   "execution_count": 112,
   "metadata": {},
   "outputs": [],
   "source": [
    "def FR2_univariate_tstats_over_time(subject):\n",
    "    \n",
    "    task = 'ret'\n",
    "    resample = True\n",
    "    \n",
    "    # time-frequency SME\n",
    "    \n",
    "    import os\n",
    "    import glob\n",
    "    import scipy.stats\n",
    "    import numpy as np\n",
    "    import pandas as pd\n",
    "    import xarray as xr\n",
    "    import pickle as pkl\n",
    "    \n",
    "    from constants import ROIs, subjects_powerfile_elsewhere\n",
    "    from utils import split_ROIs, get_eeg_sys, special_concat, resample_enc_events, resample_ret_events\n",
    "    \n",
    "    def concat_power_preserve_time():\n",
    "        \n",
    "        def filter_recalls(x):\n",
    "            '''x is assumed to be a recall EEG timeseries\n",
    "               filters x based on some recall exclusion criteria\n",
    "            '''\n",
    "            events = x.events.values\n",
    "            keep_index = np.zeros(len(events), dtype=bool)\n",
    "\n",
    "            # read events in again to get REC_VV vocalization events\n",
    "            reader = cml.CMLReader(subject=np.unique(events['subject'])[0], \n",
    "                                   experiment='ltpFR2',\n",
    "                                   session=np.unique(events['session'])[0])\n",
    "            original_events = reader.load('events')\n",
    "            original_events = original_events[(original_events['type']=='REC_WORD') | (original_events['type']=='REC_WORD_VV')]\n",
    "\n",
    "            for trial in np.unique(events['trial']):\n",
    "                trial_recs = events[events['trial']==trial]\n",
    "                trial_recs_vvs = original_events[original_events['trial']==trial]\n",
    "\n",
    "                # get timebefore w.r.t. onset of last recall for rec_word events\n",
    "                rectimes = trial_recs_vvs['rectime']\n",
    "                timebefore = np.diff(np.append([0], rectimes))\n",
    "                timebefore = timebefore[trial_recs_vvs['type']=='REC_WORD']\n",
    "\n",
    "                trial_valid_rec_flag = np.ones(len(trial_recs), dtype=bool)\n",
    "                trial_valid_rec_flag[timebefore<1000] = 0\n",
    "\n",
    "                keep_index[events['trial']==trial] = trial_valid_rec_flag\n",
    "\n",
    "            x = x.sel(events=keep_index)\n",
    "\n",
    "            return x\n",
    "\n",
    "        if task == 'enc':\n",
    "\n",
    "            if subject in subjects_powerfile_elsewhere:\n",
    "                files = glob.glob('scratch/mtpower/%s/*_enc_logmtpowerts*.pkl' % subject)\n",
    "            else:\n",
    "                files =glob.glob('/scratch/liyuxuan/ltpFR2/mtpower/%s/*_enc_logmtpowerts*.pkl' % subject)\n",
    "\n",
    "            power_all = []\n",
    "            for f in files:\n",
    "\n",
    "                try:\n",
    "                    x = pkl.load(open(f,'rb'))\n",
    "\n",
    "                    # technically covers 0 ~ 1600\n",
    "                    x = x.sel(time=(x.time>=250)&(x.time<=1350))\n",
    "\n",
    "                    means = x.mean('events')\n",
    "                    stds = x.std('events')\n",
    "                    x = (x-means)/stds\n",
    "\n",
    "                    power_all.append(x)\n",
    "\n",
    "                except Exception as e:\n",
    "                    print(e)\n",
    "                    continue\n",
    "\n",
    "            power_all = special_concat(power_all)\n",
    "            return power_all\n",
    "\n",
    "        if task == 'ret':\n",
    "\n",
    "            if subject in subjects_powerfile_elsewhere:\n",
    "                files = glob.glob('scratch/mtpower/%s/*_ret_logmtpowerts*.pkl' % subject)\n",
    "            else:\n",
    "                files = glob.glob('/scratch/liyuxuan/ltpFR2/mtpower/%s/*_ret_logmtpowerts*.pkl' % subject)\n",
    "\n",
    "            power_all = []\n",
    "            for f in files:\n",
    "\n",
    "                try:\n",
    "                    x = pkl.load(open(f,'rb'))\n",
    "\n",
    "                    # preserve events with no overlap w/ vocalization only\n",
    "                    x = filter_recalls(x)\n",
    "\n",
    "                    # technically covers -1000 ~ 0\n",
    "                    x = x.sel(time=(x.time>=-750)&(x.time<=-250))\n",
    "\n",
    "                    means = x.mean('events')\n",
    "                    stds = x.std('events')\n",
    "                    x = (x-means)/stds\n",
    "\n",
    "                    power_all.append(x)\n",
    "\n",
    "                except Exception as e:\n",
    "                    print(e)\n",
    "                    continue\n",
    "\n",
    "            power_all = special_concat(power_all)\n",
    "            return power_all\n",
    "    \n",
    "    features = concat_power_preserve_time()\n",
    "    \n",
    "    if task=='ret':\n",
    "        new_labels = np.zeros(len(features.events.values))\n",
    "        new_labels[features.events.values['intrusion']==0] = 1\n",
    "        features.coords['events'] = append_fields(features.events.values, \n",
    "                                                  'rec_label', new_labels, usemask=False)\n",
    "    \n",
    "    if resample and task=='enc':\n",
    "        features = resample_enc_events(features)\n",
    "    if resample and task=='ret':\n",
    "        features = resample_ret_events(features)\n",
    "    \n",
    "    features = split_ROIs(features, sys=get_eeg_sys(subject)).mean('ROI')\n",
    "    \n",
    "    label = 'recalled' if task=='enc' else 'rec_label'\n",
    "    positive_events = features.sel(events=features.events.values[label]==1)\n",
    "    negative_events = features.sel(events=features.events.values[label]==0)\n",
    "    \n",
    "    try:\n",
    "        tvals = scipy.stats.ttest_ind(positive_events, negative_events, axis=1).statistic # along events axis, [time, events, frequency]\n",
    "        tvals = xr.DataArray(tvals, dims=['time', 'frequency'],\n",
    "                             coords={'time':negative_events.time.values,\n",
    "                                     'frequency':negative_events.frequency.values})\n",
    "    except:\n",
    "        # no intrusion made...\n",
    "        # print(positive_events.shape, negative_events.shape)\n",
    "        return None\n",
    "    \n",
    "    # pkl.dump(tvals, open('scratch/mtpower/%s/%s_%s_resample_univar_tvals_timefreq.pkl'%(subject,subject,task), 'wb'))\n",
    "    return tvals"
   ]
  },
  {
   "cell_type": "code",
   "execution_count": 113,
   "metadata": {},
   "outputs": [
    {
     "name": "stdout",
     "output_type": "stream",
     "text": [
      "LTP093,LTP106,LTP115,LTP117,LTP123,LTP133,LTP138,LTP207,LTP210,LTP228,LTP229,LTP236,LTP246,LTP249,LTP250,LTP251,LTP258,LTP259,LTP265,LTP269,LTP273,LTP278,LTP279,LTP280,LTP283,LTP285,LTP287,LTP293,LTP296,LTP297,LTP299,LTP301,LTP302,LTP303,LTP304,LTP305,LTP306,LTP307,LTP310,LTP311,LTP312,LTP316,LTP317,LTP318,LTP321,LTP322,LTP323,LTP324,LTP325,LTP326,LTP327,LTP328,LTP329,LTP331,LTP334,LTP336,LTP339,LTP341,LTP342,LTP343,LTP344,LTP346,LTP347,LTP348,LTP349,LTP354,LTP355,LTP357,LTP360,LTP361,LTP362,LTP364,LTP365,LTP366,LTP367,LTP371,LTP372,LTP373,LTP374,LTP376,LTP377,LTP385,LTP386,LTP387,LTP389,LTP390,LTP391,LTP393,"
     ]
    }
   ],
   "source": [
    "for subject in FR2_valid_subjects:\n",
    "    print(subject, end=',')\n",
    "    FR2_univariate_tstats_over_time(subject)"
   ]
  },
  {
   "cell_type": "code",
   "execution_count": 86,
   "metadata": {},
   "outputs": [],
   "source": [
    "def plot_heatmap_contrast_special_tf(results, vmin, vmax):\n",
    "    \n",
    "    # made special for time-frequency plots\n",
    "    \n",
    "    def get_FDR_sigmatrix(X):\n",
    "        tvals, pvals = scipy.stats.ttest_1samp(X, 0, axis=0, nan_policy='omit')\n",
    "        reject, pval_corrected = mne.stats.fdr_correction(pvals.flatten())\n",
    "        sigmatrix = reject.reshape(pvals.shape)\n",
    "        return tvals, sigmatrix\n",
    "    \n",
    "    def imshow_wrapper(ax, valuematrix, sigmatrix, vmin, vmax, cmap):\n",
    "        \n",
    "        sig_region = np.ma.masked_where(~sigmatrix, valuematrix)\n",
    "        nonsig_region = np.ma.masked_where(sigmatrix, valuematrix)\n",
    "        ax.imshow(sig_region, origin='lower', aspect='auto', cmap=cmap, vmin=vmin, vmax=vmax)\n",
    "        ax.imshow(nonsig_region, origin='lower', aspect='auto', cmap=cmap, alpha=1, vmin=-100000, vmax=100000)\n",
    "        hide_spines_and_ticks(ax)\n",
    "        return ax\n",
    "    \n",
    "    def hide_spines_and_ticks(ax):\n",
    "        ax.spines['right'].set_visible(False)\n",
    "        ax.spines['top'].set_visible(False)\n",
    "        ax.spines['left'].set_visible(False)\n",
    "        ax.spines['bottom'].set_visible(False)\n",
    "        ax.tick_params(axis=u'both', which=u'both',length=0)\n",
    "    \n",
    "    fig, ax = plt.subplots(figsize=[6,3.6])\n",
    "    \n",
    "    # concat along subject dim\n",
    "    X = xr.concat(results, dim='subjects')\n",
    "    tvals, sig_matrix = get_FDR_sigmatrix(X.values)\n",
    "    \n",
    "    # plot average relative t-test tstat\n",
    "    ax = imshow_wrapper(ax, X.mean('subjects').T, sig_matrix.T, vmin=vmin, vmax=vmax, cmap='RdBu_r')\n",
    "    \n",
    "    freqs = results[0].frequency.values\n",
    "    times = results[0].time.values\n",
    "    ax.set_yticklabels([])\n",
    "    ax.set_yticks(range(len(freqs))[::4])\n",
    "    ax.set_yticklabels(['%d'%f for f in freqs[::4]])\n",
    "    ax.set_ylabel('Frequency (Hz)', size=12)\n",
    "    ax.set_xticks(range(len(times))[::2])\n",
    "    ax.set_xticklabels(times[::2])\n",
    "    ax.set_xlabel('Time (ms)', size=12)\n",
    "\n",
    "    return fig, ax"
   ]
  },
  {
   "cell_type": "code",
   "execution_count": 90,
   "metadata": {},
   "outputs": [],
   "source": [
    "files = glob.glob('scratch/mtpower/*/*_enc_univar_tvals_timefreq.pkl')\n",
    "tvals = [pkl.load(open(f,'rb'))for f in files]"
   ]
  },
  {
   "cell_type": "code",
   "execution_count": 91,
   "metadata": {},
   "outputs": [
    {
     "data": {
      "image/png": "[encoded data removed]",
      "text/plain": [
       "<Figure size 432x259.2 with 1 Axes>"
      ]
     },
     "metadata": {
      "needs_background": "light"
     },
     "output_type": "display_data"
    }
   ],
   "source": [
    "fig, ax = plot_heatmap_contrast_special_tf([s.sel(frequency=s.frequency>2) for s in tvals], \n",
    "                                         vmin=-3, vmax=3)"
   ]
  },
  {
   "cell_type": "code",
   "execution_count": 93,
   "metadata": {},
   "outputs": [],
   "source": [
    "# fig.savefig('figures_final/univar_tf_enc.pdf', bbox_inches=\"tight\")"
   ]
  },
  {
   "cell_type": "code",
   "execution_count": 114,
   "metadata": {},
   "outputs": [],
   "source": [
    "files = glob.glob('scratch/mtpower/*/LTP[0-9][0-9][0-9]_ret_univar_tvals_timefreq.pkl')\n",
    "tvals = [pkl.load(open(f,'rb'))for f in files]"
   ]
  },
  {
   "cell_type": "code",
   "execution_count": 116,
   "metadata": {},
   "outputs": [
    {
     "data": {
      "image/png": "[encoded data removed]",
      "text/plain": [
       "<Figure size 432x259.2 with 1 Axes>"
      ]
     },
     "metadata": {
      "needs_background": "light"
     },
     "output_type": "display_data"
    }
   ],
   "source": [
    "fig, ax = plot_heatmap_contrast_special_tf([s.sel(frequency=s.frequency>2) for s in tvals], \n",
    "                                         vmin=-3, vmax=3)"
   ]
  },
  {
   "cell_type": "code",
   "execution_count": 117,
   "metadata": {},
   "outputs": [],
   "source": [
    "# fig.savefig('figures_final/univar_tf_ret.pdf', bbox_inches=\"tight\")"
   ]
  },
  {
   "cell_type": "code",
   "execution_count": 133,
   "metadata": {},
   "outputs": [],
   "source": [
    "files = glob.glob('scratch/mtpower/*/LTP[0-9][0-9][0-9]_enc_resample_univar_tvals_timefreq.pkl')\n",
    "tvals = [pkl.load(open(f,'rb'))for f in files]"
   ]
  },
  {
   "cell_type": "code",
   "execution_count": 135,
   "metadata": {},
   "outputs": [
    {
     "data": {
      "image/png": "[encoded data removed]",
      "text/plain": [
       "<Figure size 432x259.2 with 1 Axes>"
      ]
     },
     "metadata": {
      "needs_background": "light"
     },
     "output_type": "display_data"
    }
   ],
   "source": [
    "fig, ax = plot_heatmap_contrast_special_tf([s.sel(frequency=s.frequency>2) for s in tvals], \n",
    "                                         vmin=-3, vmax=3)"
   ]
  },
  {
   "cell_type": "code",
   "execution_count": 136,
   "metadata": {},
   "outputs": [],
   "source": [
    "# fig.savefig('figures_final/univar_tf_resample_enc.pdf', bbox_inches=\"tight\")"
   ]
  },
  {
   "cell_type": "code",
   "execution_count": 122,
   "metadata": {},
   "outputs": [],
   "source": [
    "files = glob.glob('scratch/mtpower/*/LTP[0-9][0-9][0-9]_ret_resample_ret_univar_tvals_timefreq.pkl')\n",
    "tvals = [pkl.load(open(f,'rb'))for f in files]"
   ]
  },
  {
   "cell_type": "code",
   "execution_count": 123,
   "metadata": {},
   "outputs": [
    {
     "data": {
      "image/png": "[encoded data removed]",
      "text/plain": [
       "<Figure size 432x259.2 with 1 Axes>"
      ]
     },
     "metadata": {
      "needs_background": "light"
     },
     "output_type": "display_data"
    }
   ],
   "source": [
    "fig, ax = plot_heatmap_contrast_special_tf([s.sel(frequency=s.frequency>2) for s in tvals], \n",
    "                                         vmin=-3, vmax=3)"
   ]
  },
  {
   "cell_type": "code",
   "execution_count": 121,
   "metadata": {},
   "outputs": [],
   "source": [
    "# fig.savefig('figures_final/univar_tf_resample_ret.pdf', bbox_inches=\"tight\")"
   ]
  },
  {
   "cell_type": "code",
   "execution_count": null,
   "metadata": {},
   "outputs": [],
   "source": []
  },
  {
   "cell_type": "code",
   "execution_count": 16,
   "metadata": {},
   "outputs": [],
   "source": [
    "def FR2_univariate_tstats_over_serialpos_recbin(subject, task, ret_type='ci', t=None):\n",
    "    \n",
    "    # for encoding t is serialpos\n",
    "    # for retrieval t is retrieval bin (7.5s), 10 bins, numbered 1-10\n",
    "    \n",
    "    import os\n",
    "    import glob\n",
    "    import scipy.stats\n",
    "    import numpy as np\n",
    "    import pandas as pd\n",
    "    import xarray as xr\n",
    "    import pickle as pkl\n",
    "    \n",
    "    from constants import ROIs\n",
    "    from utils import load_feature, split_ROIs, get_eeg_sys\n",
    "    \n",
    "    features = load_feature(subject, task_phase=task, ret_type=ret_type,\n",
    "                            exclude_peripheral_channels=False, stack_feature=False)\n",
    "    if t is not None:\n",
    "        if task=='enc':\n",
    "            features = features.sel(events=(features.events.values['serialpos']==t))\n",
    "        elif task=='ret':\n",
    "            rectime_bins = np.arange(0, 75.1, 7.5)*1000\n",
    "            tmin = rectime_bins[t-1]\n",
    "            tmax = rectime_bins[t]\n",
    "            features = features.sel(events=(features.events.values['rectime']>tmin)&(features.events.values['rectime']<=tmax))\n",
    "    features = split_ROIs(features, sys=get_eeg_sys(subject)).mean('ROI')\n",
    "    \n",
    "    label = 'recalled' if task=='enc' else 'rec_label'\n",
    "    positive_events = features.sel(events=features.events.values[label]==1)\n",
    "    negative_events = features.sel(events=features.events.values[label]==0)\n",
    "    \n",
    "    try:\n",
    "        tvals = scipy.stats.ttest_ind(positive_events, negative_events, axis=0).statistic # along events axis\n",
    "        tvals = xr.DataArray(tvals, dims=['frequency'],\n",
    "                             coords={'frequency':negative_events.frequency.values})\n",
    "    except:\n",
    "        # no intrusion made...\n",
    "        # print(positive_events.shape, negative_events.shape)\n",
    "        return None\n",
    "    \n",
    "    return tvals\n",
    "\n",
    "def plot_heatmap_contrast_special(results, vmin, vmax, t):\n",
    "    \n",
    "    # made special for per serialpos/recbin plots... really just the xtick...\n",
    "    \n",
    "    def get_FDR_sigmatrix(X):\n",
    "        tvals, pvals = scipy.stats.ttest_1samp(X, 0, axis=0, nan_policy='omit')\n",
    "        reject, pval_corrected = mne.stats.fdr_correction(pvals.flatten())\n",
    "        sigmatrix = reject.reshape(pvals.shape)\n",
    "        return tvals, sigmatrix\n",
    "    \n",
    "    def imshow_wrapper(ax, valuematrix, sigmatrix, vmin, vmax, cmap):\n",
    "        \n",
    "        # expand to (1, len) shape for imshow (because we removed the ROI dim)\n",
    "        valuematrix = np.expand_dims(valuematrix,0).T\n",
    "        sigmatrix = np.expand_dims(sigmatrix,0).T\n",
    "        \n",
    "        sig_region = np.ma.masked_where(~sigmatrix, valuematrix)\n",
    "        nonsig_region = np.ma.masked_where(sigmatrix, valuematrix)\n",
    "        ax.imshow(sig_region, origin='lower', aspect='auto', cmap=cmap, vmin=vmin, vmax=vmax)\n",
    "        ax.imshow(nonsig_region, origin='lower', aspect='auto', cmap=cmap, alpha=1, vmin=-100000, vmax=100000)\n",
    "        hide_spines_and_ticks(ax)\n",
    "        return ax\n",
    "    \n",
    "    def hide_spines_and_ticks(ax):\n",
    "        ax.spines['right'].set_visible(False)\n",
    "        ax.spines['top'].set_visible(False)\n",
    "        ax.spines['left'].set_visible(False)\n",
    "        ax.spines['bottom'].set_visible(False)\n",
    "        ax.tick_params(axis=u'both', which=u'both',length=0)\n",
    "    \n",
    "    fig, ax = plt.subplots(figsize=[0.62,4])\n",
    "    \n",
    "    # concat along subject dim\n",
    "    X = xr.concat(results, dim='subjects')\n",
    "    tvals, sig_matrix = get_FDR_sigmatrix(X.values)\n",
    "    \n",
    "    # plot average relative t-test tstat\n",
    "    ax = imshow_wrapper(ax, X.mean('subjects').T, sig_matrix.T, vmin=vmin, vmax=vmax, cmap='RdBu_r')\n",
    "    \n",
    "    freqs = results[0].frequency.values\n",
    "    ax.set_yticklabels([])\n",
    "    ax.set_yticks(range(len(freqs))[::4])\n",
    "    ax.set_yticklabels(['%d'%f for f in freqs[::4]])\n",
    "    ax.set_xticks(range(1))\n",
    "    ax.set_xticklabels(['%d'%t])\n",
    "    ax.set_ylabel('Frequency (Hz)', size=12)\n",
    "\n",
    "    return fig, ax"
   ]
  },
  {
   "cell_type": "code",
   "execution_count": 8,
   "metadata": {},
   "outputs": [
    {
     "name": "stdout",
     "output_type": "stream",
     "text": [
      "1,"
     ]
    },
    {
     "data": {
      "image/png": "[encoded data removed]",
      "text/plain": [
       "<Figure size 44.64x288 with 1 Axes>"
      ]
     },
     "metadata": {
      "needs_background": "light"
     },
     "output_type": "display_data"
    }
   ],
   "source": [
    "# for t in range(1,25):\n",
    "t = 1\n",
    "print(t, end=',')\n",
    "tstats = [FR2_univariate_tstats_over_serialpos_recbin(s, task='enc', ret_type='ci', t=t) for s in FR2_valid_subjects]\n",
    "fig, ax = plot_heatmap_contrast_special([s.sel(frequency=s.frequency>2) for s in tstats], \n",
    "                                         vmin=-3, vmax=3, t=t)\n",
    "\n",
    "# fig.savefig('figures_final/univar_enc_sp%d.pdf'%t, bbox_inches=\"tight\")"
   ]
  },
  {
   "cell_type": "code",
   "execution_count": 17,
   "metadata": {},
   "outputs": [
    {
     "name": "stdout",
     "output_type": "stream",
     "text": [
      "1,"
     ]
    },
    {
     "data": {
      "image/png": "[encoded data removed]",
      "text/plain": [
       "<Figure size 44.64x288 with 1 Axes>"
      ]
     },
     "metadata": {
      "needs_background": "light"
     },
     "output_type": "display_data"
    }
   ],
   "source": [
    "# for t in range(6,11):\n",
    "t = 1\n",
    "print(t, end=',')\n",
    "tstats = [FR2_univariate_tstats_over_serialpos_recbin(s, task='ret', ret_type='ci', t=t) for s in FR2_valid_subjects]\n",
    "tstats = [x for x in tstats if x is not None]\n",
    "# bin 6 - 2 subjects\n",
    "# bin 7 - 1 subject\n",
    "# bin 8 - 4 subjects\n",
    "# bin 9 - 6 subjects\n",
    "# bin 10 - 8 subjects\n",
    "fig, ax = plot_heatmap_contrast_special([s.sel(frequency=s.frequency>2) for s in tstats], vmin=-3, vmax=3, t=t)\n",
    "\n",
    "# fig.savefig('figures_final/univar_retci_bin%d.pdf'%t, bbox_inches=\"tight\")"
   ]
  },
  {
   "cell_type": "markdown",
   "metadata": {},
   "source": [
    "### alternative classification: re-sample events to ensure the same proportion of positive/negative events across serial positions or recall bins"
   ]
  },
  {
   "cell_type": "code",
   "execution_count": 223,
   "metadata": {},
   "outputs": [],
   "source": [
    "def FR2_individual_classifier_resample(subject):\n",
    "    \n",
    "    # global flags\n",
    "    train_phase = 'ret'\n",
    "    test_phase = 'ret'\n",
    "    ret_type = ['ci', 'cp', 'ce', 'pe'][0] # 'correct vs. incorrect', 'correct vs. pli', 'correct vs. eli', 'pli vs. eli'\n",
    "    train_label = 'recalled' if train_phase=='enc' else 'rec_label'\n",
    "    test_label = 'recalled' if test_phase=='enc' else 'rec_label'\n",
    "    \n",
    "    import pickle as pkl\n",
    "    import numpy as np\n",
    "    import pandas as pd\n",
    "    import xarray as xr\n",
    "    from sklearn.metrics import roc_auc_score\n",
    "    \n",
    "    from constants import best_C\n",
    "    from utils import load_feature, divide_folds, compute_activation, leave_one_session_out_forward_model, \\\n",
    "                      resample_enc_events, resample_ret_events\n",
    "\n",
    "    for run_id in range(1,21):\n",
    "        \n",
    "        train_features = load_feature(subject, task_phase=train_phase, ret_type=ret_type,\n",
    "                                      exclude_sessions=[23], exclude_freq=[2.0], \n",
    "                                      exclude_peripheral_channels=True, stack_feature=True)\n",
    "        test_features = load_feature(subject, task_phase=test_phase, ret_type=ret_type,\n",
    "                                      exclude_sessions=[23], exclude_freq=[2.0], \n",
    "                                      exclude_peripheral_channels=True, stack_feature=True)\n",
    "        \n",
    "        if train_phase == 'enc':\n",
    "            train_features = resample_enc_events(train_features) # resample events to ensure similar pos/neg ratio at each serialpos\n",
    "        if train_phase == 'ret':\n",
    "            train_features = resample_ret_events(train_features) # resample events to ensure similar pos/neg ratio in each rectime bin\n",
    "            \n",
    "        # retrieval classifiers have this problem where events in sessions with very few intrusions doesn't get selected during the resampling process\n",
    "        # match test data sessions with resampled training data for cross-validation match\n",
    "        test_features = test_features.sel(events=np.in1d(test_features.events.values['session'], np.unique(train_features.events.values['session'])))\n",
    "\n",
    "        y_hat, y, weights, activations = leave_one_session_out_forward_model(train_features=train_features, \n",
    "                                                                             train_label=train_label, \n",
    "                                                                             test_features=test_features, \n",
    "                                                                             test_label=test_label,\n",
    "                                                                             C=best_C)\n",
    "        # compute average weights and average activation values\n",
    "        avgW = xr.DataArray(weights.mean(0), dims=('features'), coords={'features':test_features.features})\n",
    "        avgW = avgW.unstack('features')\n",
    "        avgA = xr.DataArray(activations.mean(0), dims=('features'), coords={'features':test_features.features})\n",
    "        avgA = avgA.unstack('features')\n",
    "\n",
    "        auc = roc_auc_score(y, y_hat)\n",
    "\n",
    "        subject_loso_result = {}\n",
    "        subject_loso_result['auc'] = auc\n",
    "        subject_loso_result['y'] = y\n",
    "        subject_loso_result['yhat'] = y_hat\n",
    "        subject_loso_result['train_events'] = train_features.events.values\n",
    "        subject_loso_result['test_events'] = test_features.events.values\n",
    "        subject_loso_result['avgW'] = avgW\n",
    "        subject_loso_result['avgA'] = avgA\n",
    "\n",
    "        if train_phase == 'ret':\n",
    "            train_phase_outstr = train_phase + ret_type\n",
    "        if test_phase == 'ret':\n",
    "            test_phase_outstr = test_phase + ret_type\n",
    "        \n",
    "        outputf = 'scratch/mtpower/%s/%s_%s_%s_clsf_resample_run%d_result.pkl' % \\\n",
    "                  (subject, subject, train_phase_outstr, test_phase_outstr, run_id)\n",
    "        # pkl.dump(subject_loso_result, open(outputf, 'wb'))\n",
    "\n",
    "def FR2_classifier_resample_nullauc(subject):\n",
    "    \n",
    "    # global flags\n",
    "    train_phase = 'ret'\n",
    "    test_phase = 'ret'\n",
    "    ret_type = ['ci', 'cp', 'ce', 'pe'][0] # 'correct vs. incorrect', 'correct vs. pli', 'correct vs. eli', 'pli vs. eli'\n",
    "    n_tests = 10\n",
    "    \n",
    "    train_label = 'recalled' if train_phase=='enc' else 'rec_label'\n",
    "    test_label = 'recalled' if test_phase=='enc' else 'rec_label'\n",
    "\n",
    "    import pickle as pkl\n",
    "    import numpy as np\n",
    "    import pandas as pd\n",
    "    import xarray as xr\n",
    "    from sklearn.metrics import roc_auc_score\n",
    "    \n",
    "    from constants import best_C\n",
    "    from utils import load_feature, divide_folds, compute_activation, shuffle_labels, \\\n",
    "                      leave_one_session_out_forward_model, resample_enc_events, resample_ret_events\n",
    "    \n",
    "    # perform n_tests many of permutation tests\n",
    "    aucs_null = np.zeros(n_tests)\n",
    "    for i in range(len(aucs_null)):\n",
    "        \n",
    "        train_features = load_feature(subject, task_phase=train_phase, ret_type=ret_type,\n",
    "                                      exclude_sessions=[23], exclude_freq=[2.0], \n",
    "                                      exclude_peripheral_channels=True, stack_feature=True)\n",
    "        test_features = load_feature(subject, task_phase=test_phase, ret_type=ret_type,\n",
    "                                      exclude_sessions=[23], exclude_freq=[2.0], \n",
    "                                      exclude_peripheral_channels=True, stack_feature=True)\n",
    "        \n",
    "        if train_phase == 'enc':\n",
    "            train_features = resample_enc_events(train_features) # resample events to ensure similar pos/neg ratio at each serialpos\n",
    "        if train_phase == 'ret':\n",
    "            train_features = resample_ret_events(train_features) # resample events to ensure similar pos/neg ratio in each rectime bin\n",
    "        \n",
    "        # retrieval classifiers have this problem where events in sessions with very few intrusions doesn't get selected during the resampling process\n",
    "        # match test data sessions with resampled training data for cross-validation match\n",
    "        test_features = test_features.sel(events=np.in1d(test_features.events.values['session'], np.unique(train_features.events.values['session'])))\n",
    "        \n",
    "        shuffled_events = shuffle_labels(train_features.events.values.copy(), train_label)\n",
    "        train_features.coords['events'] = shuffled_events\n",
    "\n",
    "        y_hat, y, weights, activations = leave_one_session_out_forward_model(train_features=train_features, \n",
    "                                                                             train_label=train_label, \n",
    "                                                                             test_features=test_features, \n",
    "                                                                             test_label=test_label,\n",
    "                                                                             C=best_C)\n",
    "        \n",
    "        aucs_null[i] = roc_auc_score(y, y_hat)\n",
    "    \n",
    "    if train_phase == 'ret':\n",
    "        train_phase = train_phase + ret_type\n",
    "    if test_phase == 'ret':\n",
    "        test_phase = test_phase + ret_type\n",
    "\n",
    "    outputf = 'scratch/mtpower/%s/%s_%s_%s_resample_null_aucs.npy' % (subject, subject, train_phase, test_phase)\n",
    "    # np.save(outputf, aucs_null)"
   ]
  },
  {
   "cell_type": "code",
   "execution_count": null,
   "metadata": {
    "tags": []
   },
   "outputs": [],
   "source": [
    "subjects = FR2_valid_subjects\n",
    "njobs = len(subjects)\n",
    "cpj = 1\n",
    "with cluster_helper.cluster.cluster_view(scheduler='sge', queue='RAM.q', \n",
    "                                         num_jobs=njobs, cores_per_job=cpj) as view:\n",
    "    result = view.map(FR2_classifier_resample, subjects)"
   ]
  },
  {
   "cell_type": "code",
   "execution_count": 192,
   "metadata": {},
   "outputs": [
    {
     "data": {
      "text/plain": [
       "[<matplotlib.lines.Line2D at 0x2b5638bc25f8>]"
      ]
     },
     "execution_count": 192,
     "metadata": {},
     "output_type": "execute_result"
    },
    {
     "data": {
      "image/png": "[encoded data removed]",
      "text/plain": [
       "<Figure size 432x288 with 1 Axes>"
      ]
     },
     "metadata": {
      "needs_background": "light"
     },
     "output_type": "display_data"
    }
   ],
   "source": [
    "plt.figure()\n",
    "rectime_bins = np.arange(0, 75.1, 7.5)*1000\n",
    "plt.plot(range(10), [np.mean(events[(events['rectime']>rectime_bins[b-1])&(events['rectime']<=rectime_bins[b])]['rec_label']) \n",
    "                     for b in range(1,11)], color='C0', label='original')\n",
    "plt.plot(range(10), [np.mean(resampled_events[(resampled_events['rectime']>rectime_bins[b-1])&(resampled_events['rectime']<=rectime_bins[b])]['rec_label']) \n",
    "                     for b in range(1,11)], color='C1', label='resampled')"
   ]
  },
  {
   "cell_type": "code",
   "execution_count": 167,
   "metadata": {},
   "outputs": [
    {
     "data": {
      "text/plain": [
       "[<matplotlib.lines.Line2D at 0x2b5637e71588>]"
      ]
     },
     "execution_count": 167,
     "metadata": {},
     "output_type": "execute_result"
    },
    {
     "data": {
      "image/png": "[encoded data removed]",
      "text/plain": [
       "<Figure size 432x288 with 1 Axes>"
      ]
     },
     "metadata": {
      "needs_background": "light"
     },
     "output_type": "display_data"
    }
   ],
   "source": [
    "plt.figure()\n",
    "plt.plot(range(24), [np.mean(events[events['serialpos']==sp]['recalled']) for sp in range(1,25)], color='C0', label='original')\n",
    "plt.plot(range(24), [np.mean(resampled_events[resampled_events['serialpos']==sp]['recalled']) for sp in range(1,25)], color='C1', label='resampled')"
   ]
  },
  {
   "cell_type": "code",
   "execution_count": 51,
   "metadata": {},
   "outputs": [
    {
     "data": {
      "text/plain": [
       "[<matplotlib.lines.Line2D at 0x2b12beff94a8>]"
      ]
     },
     "execution_count": 51,
     "metadata": {},
     "output_type": "execute_result"
    },
    {
     "data": {
      "image/png": "[encoded data removed]",
      "text/plain": [
       "<Figure size 432x288 with 1 Axes>"
      ]
     },
     "metadata": {
      "needs_background": "light"
     },
     "output_type": "display_data"
    }
   ],
   "source": [
    "events, resampled_events = FR2_classifier_resample_nullauc('LTP357')\n",
    "\n",
    "plt.figure()\n",
    "plt.plot(range(24), [np.mean(events[events['serialpos']==sp]['recalled']) for sp in range(1,25)], color='C0', label='original')\n",
    "plt.plot(range(24), [np.mean(resampled_events[resampled_events['serialpos']==sp]['recalled']) for sp in range(1,25)], color='C1', label='resampled')"
   ]
  },
  {
   "cell_type": "code",
   "execution_count": null,
   "metadata": {},
   "outputs": [],
   "source": [
    "# on average, how much of all events were excluded in resampling?"
   ]
  },
  {
   "cell_type": "code",
   "execution_count": 244,
   "metadata": {},
   "outputs": [
    {
     "name": "stdout",
     "output_type": "stream",
     "text": [
      "0.7665936096873117 0.03945123377479124\n"
     ]
    }
   ],
   "source": [
    "resample_proportion = np.ones(len(FR2_valid_subjects))*np.nan\n",
    "for i, s in enumerate(FR2_valid_subjects):\n",
    "    files = glob.glob('scratch/mtpower/%s/%s_enc_enc_clsf_resample_run*_result.pkl'%(s,s))\n",
    "    x = pkl.load(open(files[0],'rb'))\n",
    "    resample_proportion[i] = len(x['train_events'])/len(x['test_events'])\n",
    "print(np.mean(resample_proportion), np.std(resample_proportion))"
   ]
  },
  {
   "cell_type": "code",
   "execution_count": 252,
   "metadata": {},
   "outputs": [
    {
     "name": "stdout",
     "output_type": "stream",
     "text": [
      "0.5320779547259019 0.11052250399845381\n"
     ]
    }
   ],
   "source": [
    "resample_proportion = np.ones(len(FR2_valid_subjects))*np.nan\n",
    "for i, s in enumerate(FR2_valid_subjects):\n",
    "    files = glob.glob('scratch/mtpower/%s/%s_retci_retci_clsf_resample_run*_result.pkl'%(s,s))\n",
    "    x = pkl.load(open(files[0],'rb'))\n",
    "    resample_proportion[i] = len(x['train_events'])/len(x['test_events'])\n",
    "print(np.mean(resample_proportion), np.std(resample_proportion))"
   ]
  },
  {
   "cell_type": "code",
   "execution_count": 330,
   "metadata": {},
   "outputs": [],
   "source": [
    "def get_resampled_enc_pc(events):\n",
    "    pc = []\n",
    "    for sess in np.unique(events['session']):\n",
    "        sess_events = events[events['session']==sess]\n",
    "        sess_pc = [np.mean(sess_events[sess_events['serialpos']==i]['recalled']) for i in range(1,25)]\n",
    "        pc.append(sess_pc)\n",
    "    return np.nanmean(pc, 0)\n",
    "\n",
    "def get_resampled_ret_pc(events):\n",
    "    rectime_bins = np.arange(0, 75.1, 7.5)*1000\n",
    "    pc = []\n",
    "    for sess in np.unique(events['session']):\n",
    "        sess_events = events[events['session']==sess]\n",
    "        sess_pc = [np.mean(events[(events['rectime']>rectime_bins[b-1])&(events['rectime']<=rectime_bins[b])]['intrusion']==0) \n",
    "                     for b in range(1,11)]\n",
    "        pc.append(sess_pc)\n",
    "    return np.nanmean(pc, 0)"
   ]
  },
  {
   "cell_type": "code",
   "execution_count": 323,
   "metadata": {},
   "outputs": [],
   "source": [
    "resample_spc = np.ones((len(FR2_valid_subjects),24))*np.nan\n",
    "for i, s in enumerate(FR2_valid_subjects):\n",
    "    f = 'scratch/mtpower/%s/%s_enc_enc_clsf_resample_run1_result.pkl'%(s,s)\n",
    "    x = pkl.load(open(f,'rb'))['train_events']\n",
    "    resample_spc[i] = get_resampled_enc_pc(x)"
   ]
  },
  {
   "cell_type": "code",
   "execution_count": 335,
   "metadata": {},
   "outputs": [
    {
     "data": {
      "text/plain": [
       "(0.4, 0.6)"
      ]
     },
     "execution_count": 335,
     "metadata": {},
     "output_type": "execute_result"
    },
    {
     "data": {
      "image/png": "[encoded data removed]",
      "text/plain": [
       "<Figure size 432x288 with 1 Axes>"
      ]
     },
     "metadata": {
      "needs_background": "light"
     },
     "output_type": "display_data"
    }
   ],
   "source": [
    "plt.figure()\n",
    "plt.plot(range(1,25), np.mean(resample_spc,0))\n",
    "plt.ylim([0.4,0.6])"
   ]
  },
  {
   "cell_type": "code",
   "execution_count": 332,
   "metadata": {},
   "outputs": [],
   "source": [
    "resample_rpc = np.ones((len(FR2_valid_subjects),10))*np.nan\n",
    "for i, s in enumerate(FR2_valid_subjects):\n",
    "    f = 'scratch/mtpower/%s/%s_retci_retci_clsf_resample_run1_result.pkl'%(s,s)\n",
    "    x = pkl.load(open(f,'rb'))['train_events']\n",
    "    resample_rpc[i] = get_resampled_ret_pc(x)"
   ]
  },
  {
   "cell_type": "code",
   "execution_count": 334,
   "metadata": {},
   "outputs": [
    {
     "data": {
      "text/plain": [
       "(0.9, 1)"
      ]
     },
     "execution_count": 334,
     "metadata": {},
     "output_type": "execute_result"
    },
    {
     "data": {
      "image/png": "[encoded data removed]",
      "text/plain": [
       "<Figure size 432x288 with 1 Axes>"
      ]
     },
     "metadata": {
      "needs_background": "light"
     },
     "output_type": "display_data"
    }
   ],
   "source": [
    "plt.figure()\n",
    "plt.plot(range(1,11), np.mean(resample_rpc,0))\n",
    "plt.ylim([0.9,1])"
   ]
  },
  {
   "cell_type": "markdown",
   "metadata": {},
   "source": [
    "#### check performance"
   ]
  },
  {
   "cell_type": "code",
   "execution_count": 253,
   "metadata": {},
   "outputs": [
    {
     "name": "stdout",
     "output_type": "stream",
     "text": [
      "LTP093,LTP106,LTP115,LTP117,LTP123,LTP133,LTP138,LTP207,LTP210,LTP228,LTP229,LTP236,LTP246,LTP249,LTP250,LTP251,LTP258,LTP259,LTP265,LTP269,LTP273,LTP278,LTP279,LTP280,LTP283,LTP285,LTP287,LTP293,LTP296,LTP297,LTP299,LTP301,LTP302,LTP303,LTP304,LTP305,LTP306,LTP307,LTP310,LTP311,LTP312,LTP316,LTP317,LTP318,LTP321,LTP322,LTP323,LTP324,LTP325,LTP326,LTP327,LTP328,LTP329,LTP331,LTP334,LTP336,LTP339,LTP341,LTP342,LTP343,LTP344,LTP346,LTP347,LTP348,LTP349,LTP354,LTP355,LTP357,LTP360,LTP361,LTP362,LTP364,LTP365,LTP366,LTP367,LTP371,LTP372,LTP373,LTP374,LTP376,LTP377,LTP385,LTP386,LTP387,LTP389,LTP390,LTP391,LTP393,"
     ]
    }
   ],
   "source": [
    "# concat auc across all\n",
    "\n",
    "phase = 'retci'\n",
    "n_run = 20\n",
    "\n",
    "aucs = np.ones((len(FR2_valid_subjects), n_run))*np.nan\n",
    "for i, subject in enumerate(FR2_valid_subjects):\n",
    "    print(subject, end=',')\n",
    "    files = glob.glob('scratch/mtpower/%s/%s_%s_%s_clsf_resample_run*_result.pkl' % (subject, subject, phase, phase))\n",
    "    aucs[i] = [pkl.load(open(f, 'rb'))['auc'] for f in files]\n",
    "\n",
    "aucs = np.array(aucs)\n",
    "# np.save('scratch/mtpower/%s_%s_resample_auc.npy'%(phase,phase), aucs)"
   ]
  },
  {
   "cell_type": "code",
   "execution_count": 254,
   "metadata": {},
   "outputs": [],
   "source": [
    "def test_resample_clsf_significance(trainphase, testphase):\n",
    "    \n",
    "    def binomial_test(pvals, alpha=0.05):\n",
    "        count = (pvals < alpha).sum()\n",
    "        group_p = sp.stats.binom_test(count, len(pvals), 0.05, alternative='greater')\n",
    "        return group_p\n",
    "    \n",
    "    subjects = FR2_valid_subjects\n",
    "    print('Evaluating FR2 classifier performance for %d subjects...' % (len(subjects)))\n",
    "    print('    Train phase: %s    Test phase: %s' % (trainphase, testphase))\n",
    "    \n",
    "    true_aucs = np.load('scratch/mtpower/%s_%s_resample_auc.npy'%(trainphase, testphase))\n",
    "    true_aucs = np.mean(true_aucs, 1) # mean over all 20 resample runs\n",
    "    print('    Mean AUC:', '%.2f'%np.mean(true_aucs), '  +-SE:', sp.stats.sem(true_aucs))\n",
    "    \n",
    "    null_aucs = np.array([np.load('scratch/mtpower/%s/%s_%s_%s_resample_null_aucs.npy'% (subject, subject, trainphase, testphase))\n",
    "                          for subject in subjects])\n",
    "    \n",
    "    pvals = np.array([ (null_aucs[i]>true_aucs[i]).sum()/float(len(null_aucs)) for i in range(len(true_aucs))])\n",
    "    all_alpha = [0.01, 0.05]\n",
    "    counts = []\n",
    "    \n",
    "    for alpha in all_alpha:\n",
    "        count = (pvals < alpha).sum()\n",
    "        counts.append(count)\n",
    "    \n",
    "    # remove overlaps \n",
    "    # - those who are significant at 0.001 are subtracted from 0.01 and 0.05\n",
    "    # - those who are significant at 0.01 are subtracted from 0.05\n",
    "    counts[1] = counts[1]-counts[0]\n",
    "    \n",
    "    for i, alpha in enumerate(all_alpha):\n",
    "        print('    alpha=%.03f: \\t %0.2f significant' % (alpha, counts[i]))\n",
    "    \n",
    "    print('    p<0.05: ', len(subjects[pvals<0.05])) # subjects[pvals<0.05])\n",
    "    \n",
    "    group_p = binomial_test(pvals)\n",
    "    print('    group binomial test:  p=%.11f, %s' % (group_p, 'significant' if group_p<0.05 else'non significant'))\n",
    "    group_t, group_p = scipy.stats.ttest_rel(true_aucs, null_aucs.mean(1))\n",
    "    print('    group t-test: t=%f, p=%f, %s' % (group_t, group_p, 'significant' if group_p<0.05 else'non significant'))\n",
    "    \n",
    "    return (subjects[pvals<0.05], subjects[pvals>=0.05])"
   ]
  },
  {
   "cell_type": "code",
   "execution_count": 255,
   "metadata": {},
   "outputs": [
    {
     "name": "stdout",
     "output_type": "stream",
     "text": [
      "Evaluating FR2 classifier performance for 88 subjects...\n",
      "    Train phase: enc    Test phase: enc\n",
      "    Mean AUC: 0.59   +-SE: 0.003825460701743545\n",
      "    alpha=0.010: \t 85.00 significant\n",
      "    alpha=0.050: \t 2.00 significant\n",
      "    p<0.05:  87\n",
      "    group binomial test:  p=0.00000000000, significant\n",
      "    group t-test: t=24.124153, p=0.000000, significant\n",
      "Evaluating FR2 classifier performance for 88 subjects...\n",
      "    Train phase: retci    Test phase: retci\n",
      "    Mean AUC: 0.57   +-SE: 0.0062514149778344205\n",
      "    alpha=0.010: \t 26.00 significant\n",
      "    alpha=0.050: \t 22.00 significant\n",
      "    p<0.05:  48\n",
      "    group binomial test:  p=0.00000000000, significant\n",
      "    group t-test: t=10.236359, p=0.000000, significant\n"
     ]
    }
   ],
   "source": [
    "x = test_resample_clsf_significance('enc', 'enc')\n",
    "x = test_resample_clsf_significance('retci', 'retci')"
   ]
  },
  {
   "cell_type": "code",
   "execution_count": 258,
   "metadata": {},
   "outputs": [],
   "source": [
    "def get_subject_ROC_resample(subject, trainphase, testphase):\n",
    "    \n",
    "    files = glob.glob('scratch/mtpower/%s/%s_%s_%s_clsf_resample_run*_result.pkl' % (subject,subject,trainphase,testphase))\n",
    "    roc_subj = np.ones((len(files), 200))*np.nan\n",
    "    for i, f in enumerate(files):\n",
    "        x = pkl.load(open(f,'rb'))\n",
    "        roc_subj[i] = compute_ROC_AUC(x['y'], x['yhat'], base=200)[0]\n",
    "    return roc_subj.mean(0)"
   ]
  },
  {
   "cell_type": "code",
   "execution_count": 67,
   "metadata": {},
   "outputs": [
    {
     "data": {
      "text/plain": [
       "<matplotlib.axes._subplots.AxesSubplot at 0x2b12a112fac8>"
      ]
     },
     "execution_count": 67,
     "metadata": {},
     "output_type": "execute_result"
    },
    {
     "data": {
      "image/png": "[encoded data removed]",
      "text/plain": [
       "<Figure size 216x172.8 with 1 Axes>"
      ]
     },
     "metadata": {
      "needs_background": "light"
     },
     "output_type": "display_data"
    }
   ],
   "source": [
    "phase = 'enc'\n",
    "roc_all = np.ones((len(FR2_valid_subjects),200))\n",
    "for i, s in enumerate(FR2_valid_subjects):\n",
    "    roc_all[i] = get_subject_ROC_resample(s, phase, phase)\n",
    "\n",
    "fig, ax = plt.subplots(1, 1,figsize=[3, 2.4])\n",
    "plot_ROC(ax, roc=roc_all.mean(0))\n",
    "# fig.savefig('figures_final/clsf_resample_%s.pdf'%phase)"
   ]
  },
  {
   "cell_type": "code",
   "execution_count": 259,
   "metadata": {},
   "outputs": [
    {
     "data": {
      "text/plain": [
       "<matplotlib.axes._subplots.AxesSubplot at 0x2b56398eb6a0>"
      ]
     },
     "execution_count": 259,
     "metadata": {},
     "output_type": "execute_result"
    },
    {
     "data": {
      "image/png": "[encoded data removed]",
      "text/plain": [
       "<Figure size 216x172.8 with 1 Axes>"
      ]
     },
     "metadata": {
      "needs_background": "light"
     },
     "output_type": "display_data"
    }
   ],
   "source": [
    "phase = 'retci'\n",
    "roc_all = np.ones((len(FR2_valid_subjects),200))\n",
    "for i, s in enumerate(FR2_valid_subjects):\n",
    "    roc_all[i] = get_subject_ROC_resample(s, phase, phase)\n",
    "\n",
    "fig, ax = plt.subplots(1, 1,figsize=[3, 2.4])\n",
    "plot_ROC(ax, roc=roc_all.mean(0))\n",
    "# fig.savefig('figures_final/clsf_resample_%s.pdf'%phase)"
   ]
  },
  {
   "cell_type": "code",
   "execution_count": 260,
   "metadata": {},
   "outputs": [],
   "source": [
    "# fig.savefig('figures_final/clsf_resample_%s.pdf'%phase)"
   ]
  },
  {
   "cell_type": "code",
   "execution_count": 20,
   "metadata": {},
   "outputs": [
    {
     "data": {
      "image/png": "[encoded data removed]",
      "text/plain": [
       "<Figure size 144x86.4 with 1 Axes>"
      ]
     },
     "metadata": {
      "needs_background": "light"
     },
     "output_type": "display_data"
    }
   ],
   "source": [
    "phase = 'enc'\n",
    "observed_aucs = np.load('scratch/mtpower/%s_%s_resample_auc.npy'%(phase, phase)).mean(1) # mean over runs\n",
    "null_aucs = np.array([np.load('scratch/mtpower/%s/%s_%s_%s_resample_null_aucs.npy'%(s,s,phase,phase)).mean()\n",
    "                      for s in FR2_valid_subjects])\n",
    "fig, ax = plot_auc_null(observed_aucs, null_aucs)\n",
    "# fig.savefig('figures_final/clsf_resample_%s_aucnull.pdf'%phase, transparent=True)"
   ]
  },
  {
   "cell_type": "code",
   "execution_count": 262,
   "metadata": {},
   "outputs": [
    {
     "data": {
      "image/png": "[encoded data removed]",
      "text/plain": [
       "<Figure size 144x86.4 with 1 Axes>"
      ]
     },
     "metadata": {
      "needs_background": "light"
     },
     "output_type": "display_data"
    }
   ],
   "source": [
    "phase = 'retci'\n",
    "observed_aucs = np.load('scratch/mtpower/%s_%s_resample_auc.npy'%(phase, phase)).mean(1) # mean over runs\n",
    "null_aucs = np.array([np.load('scratch/mtpower/%s/%s_%s_%s_resample_null_aucs.npy'%(s,s,phase,phase)).mean()\n",
    "                      for s in FR2_valid_subjects])\n",
    "fig, ax = plot_auc_null(observed_aucs, null_aucs)\n",
    "# fig.savefig('figures_final/clsf_resample_%s_aucnull.pdf'%phase, transparent=True)"
   ]
  },
  {
   "cell_type": "code",
   "execution_count": 79,
   "metadata": {},
   "outputs": [
    {
     "name": "stdout",
     "output_type": "stream",
     "text": [
      "Evaluating FR2 classifier performance for 88 subjects...\n",
      "    Train phase: enc    Test phase: enc\n",
      "    Mean AUC: 0.59   +-SE: 0.003825460701743545\n",
      "    alpha=0.010: \t 85.00 significant\n",
      "    alpha=0.050: \t 2.00 significant\n",
      "    p<0.05:  87\n",
      "    group binomial test:  p=0.00000000000, significant\n",
      "    group t-test: t=24.124153, p=0.000000, significant\n"
     ]
    }
   ],
   "source": [
    "phase = 'enc'\n",
    "sig_subjects = test_resample_clsf_significance(phase, phase)[0] # subjects whose classifier is significant with p<0.05\n",
    "\n",
    "result = []\n",
    "for subject in sig_subjects:\n",
    "    files = glob.glob('scratch/mtpower/%s/%s_%s_%s_clsf_resample_run*_result.pkl' % (subject, subject, phase, phase))\n",
    "    values = [pkl.load(open(f, 'rb'))['avgA'] for f in files]\n",
    "    values = xr.concat(values, dim='run').mean('run')\n",
    "    values = split_ROIs(values, sys=get_eeg_sys(subject))\n",
    "    result.append(values)"
   ]
  },
  {
   "cell_type": "code",
   "execution_count": 82,
   "metadata": {},
   "outputs": [
    {
     "data": {
      "image/png": "[encoded data removed]",
      "text/plain": [
       "<Figure size 302.4x259.2 with 1 Axes>"
      ]
     },
     "metadata": {
      "needs_background": "light"
     },
     "output_type": "display_data"
    }
   ],
   "source": [
    "# encoding\n",
    "fig, ax = plot_heatmap_contrast(result, vmin=-1.2, vmax=1.2, colorbar=False, figsize=[4.2,3.6])\n",
    "# fig.savefig('figures_final/clsf_resample_atv_%s.pdf'%phase)"
   ]
  },
  {
   "cell_type": "code",
   "execution_count": 5,
   "metadata": {},
   "outputs": [],
   "source": [
    "files = glob.glob('scratch/mtpower/%s/%s_%s_%s_clsf_resample_run*_result.pkl' % ('LTP093', 'LTP093', 'enc', 'enc'))"
   ]
  },
  {
   "cell_type": "code",
   "execution_count": 263,
   "metadata": {},
   "outputs": [
    {
     "name": "stdout",
     "output_type": "stream",
     "text": [
      "Evaluating FR2 classifier performance for 88 subjects...\n",
      "    Train phase: retci    Test phase: retci\n",
      "    Mean AUC: 0.57   +-SE: 0.0062514149778344205\n",
      "    alpha=0.010: \t 26.00 significant\n",
      "    alpha=0.050: \t 22.00 significant\n",
      "    p<0.05:  48\n",
      "    group binomial test:  p=0.00000000000, significant\n",
      "    group t-test: t=10.236359, p=0.000000, significant\n"
     ]
    }
   ],
   "source": [
    "phase = 'retci'\n",
    "sig_subjects = test_resample_clsf_significance(phase, phase)[0] # subjects whose classifier is significant with p<0.05\n",
    "\n",
    "result = []\n",
    "for subject in sig_subjects:\n",
    "    files = glob.glob('scratch/mtpower/%s/%s_%s_%s_clsf_resample_run*_result.pkl' % (subject, subject, phase, phase))\n",
    "    values = [pkl.load(open(f, 'rb'))['avgA'] for f in files]\n",
    "    values = xr.concat(values, dim='run').mean('run')\n",
    "    values = split_ROIs(values, sys=get_eeg_sys(subject))\n",
    "    result.append(values)"
   ]
  },
  {
   "cell_type": "code",
   "execution_count": 267,
   "metadata": {},
   "outputs": [
    {
     "data": {
      "image/png": "[encoded data removed]",
      "text/plain": [
       "<Figure size 302.4x259.2 with 1 Axes>"
      ]
     },
     "metadata": {
      "needs_background": "light"
     },
     "output_type": "display_data"
    }
   ],
   "source": [
    "# retrieval\n",
    "fig, ax = plot_heatmap_contrast(result, vmin=-1.2, vmax=1.2, colorbar=False, figsize=[4.2,3.6])\n",
    "# fig.savefig('figures_final/clsf_resample_atv_%s.pdf'%phase)"
   ]
  },
  {
   "cell_type": "markdown",
   "metadata": {},
   "source": [
    "### re-plot example subjects and list output"
   ]
  },
  {
   "cell_type": "code",
   "execution_count": 2,
   "metadata": {},
   "outputs": [
    {
     "data": {
      "image/png": "[encoded data removed]",
      "text/plain": [
       "<Figure size 468x288 with 6 Axes>"
      ]
     },
     "metadata": {
      "needs_background": "light"
     },
     "output_type": "display_data"
    }
   ],
   "source": [
    "example_subjects = ['LTP366', 'LTP354', 'LTP207']\n",
    "from plot_utils import plot_example_lists\n",
    "lists = [['LTP366', 12, 24],\n",
    "         ['LTP354', 3, 23],\n",
    "         ['LTP207', 2, 21]]\n",
    "fig, axes = plot_example_lists(lists, resample=True, figsize=[6.5,4])"
   ]
  },
  {
   "cell_type": "code",
   "execution_count": 3,
   "metadata": {},
   "outputs": [],
   "source": [
    "# fig.savefig('figures_final/examplelist_resample.pdf')"
   ]
  },
  {
   "cell_type": "code",
   "execution_count": 47,
   "metadata": {},
   "outputs": [],
   "source": [
    "def get_subject_ROC(subject, trainphase, testphase):\n",
    "    \n",
    "    files = glob.glob('scratch/mtpower/%s/%s_%s_%s_clsf_resample_run*_result.pkl'%(subject, subject, trainphase, testphase))\n",
    "    rocs = []\n",
    "    aucs = []\n",
    "    for f in files:\n",
    "        resultpack = pkl.load(open(f,'rb'))\n",
    "        y = resultpack['y']\n",
    "        yhat = resultpack['yhat']\n",
    "        roc, aucscore = compute_ROC_AUC(y, yhat, base=200)\n",
    "        rocs.append(roc)\n",
    "        aucs.append(aucscore)\n",
    "    roc = np.mean(rocs, 0)\n",
    "\n",
    "    return roc, np.mean(aucs)\n",
    "\n",
    "def get_classifier_pval_1subj(subject, trainphase, testphase):\n",
    "    aucs = np.load('scratch/mtpower/%s_%s_resample_auc.npy'%(trainphase, testphase)).mean(1)\n",
    "    aucscore = aucs[FR2_valid_subjects.tolist().index(subject)]\n",
    "    f = 'scratch/mtpower/%s/%s_%s_%s_resample_null_aucs.npy' % (subject, subject, trainphase, testphase)\n",
    "    null_aucs = np.load(f)\n",
    "\n",
    "    return np.sum(null_aucs>aucscore)/len(null_aucs)"
   ]
  },
  {
   "cell_type": "code",
   "execution_count": 54,
   "metadata": {},
   "outputs": [
    {
     "data": {
      "text/plain": [
       "0.26"
      ]
     },
     "execution_count": 54,
     "metadata": {},
     "output_type": "execute_result"
    }
   ],
   "source": [
    "get_classifier_pval_1subj(example_subjects[3-1], 'retci', 'retci')"
   ]
  },
  {
   "cell_type": "code",
   "execution_count": 57,
   "metadata": {},
   "outputs": [
    {
     "data": {
      "image/png": "[encoded data removed]",
      "text/plain": [
       "<Figure size 288x144 with 2 Axes>"
      ]
     },
     "metadata": {
      "needs_background": "light"
     },
     "output_type": "display_data"
    }
   ],
   "source": [
    "# Example ROC plot\n",
    "subj_ind = 2\n",
    "s = example_subjects[subj_ind-1]\n",
    "\n",
    "fig, axes = plt.subplots(1,2,figsize=[4,2])\n",
    "\n",
    "subj_ROC, subj_auc = get_subject_ROC(s, 'enc', 'enc')\n",
    "plot_ROC(axes[0], roc=subj_ROC, text='AUC=%.2f\\n'%subj_auc+r'$\\it{p}$'+'<0.01')\n",
    "\n",
    "subj_ROC, subj_auc = get_subject_ROC(s, 'retci', 'retci')\n",
    "plot_ROC(axes[1], roc=subj_ROC, text='AUC=%.2f\\n'%subj_auc+r'$\\it{p}$'+'<0.01') # p=0.26 for subj_ind=3\n",
    "\n",
    "fig.tight_layout(h_pad=0)"
   ]
  },
  {
   "cell_type": "code",
   "execution_count": 58,
   "metadata": {},
   "outputs": [],
   "source": [
    "# fig.savefig('figures_final/s%d_rocauc_resample.pdf'%subj_ind)"
   ]
  },
  {
   "cell_type": "code",
   "execution_count": 11,
   "metadata": {},
   "outputs": [],
   "source": [
    "def plot_auc_null_1subj(observed_auc, null_aucs):\n",
    "    fig, ax = plt.subplots(1, 1, figsize=[2,1.2])\n",
    "    ax.axvline(observed_auc, ymax=0.8, color='k')\n",
    "    ax.hist(null_aucs, color='w', edgecolor='gray', bins=np.arange(0.35,0.75,0.01))\n",
    "    ax.set_xlim([0.34, 0.75])\n",
    "    ax.set_xticks([0.4,0.5,0.6,0.7])\n",
    "    ax.set_ylim([0, 25])\n",
    "    ax.set_yticks([])\n",
    "    ax.spines['left'].set_visible(False)\n",
    "    ax.spines['top'].set_visible(False)\n",
    "    ax.spines['right'].set_visible(False)\n",
    "    fig.tight_layout()\n",
    "    return fig, ax"
   ]
  },
  {
   "cell_type": "code",
   "execution_count": 18,
   "metadata": {},
   "outputs": [
    {
     "data": {
      "image/png": "[encoded data removed]",
      "text/plain": [
       "<Figure size 144x86.4 with 1 Axes>"
      ]
     },
     "metadata": {
      "needs_background": "light"
     },
     "output_type": "display_data"
    }
   ],
   "source": [
    "subj_ind = 1\n",
    "s = example_subjects[subj_ind-1]\n",
    "phase = 'retci'\n",
    "observed_auc = get_subject_ROC(s, phase, phase)[1]\n",
    "null_aucs = np.load('scratch/mtpower/%s/%s_%s_%s_resample_null_aucs.npy'%(s,s,phase,phase))\n",
    "fig, ax = plot_auc_null_1subj(observed_auc, null_aucs)\n",
    "\n",
    "# fig.savefig('figures_final/s%d_%s_aucnull_resample.pdf'%(subj_ind, phase),\n",
    "#              transparent=True, bbox_inches=\"tight\")"
   ]
  },
  {
   "cell_type": "markdown",
   "metadata": {},
   "source": [
    "#### check classifier output per clutser type & time"
   ]
  },
  {
   "cell_type": "code",
   "execution_count": 268,
   "metadata": {},
   "outputs": [],
   "source": [
    "labeled_events = pkl.load(open('FR2_all_events_clustered.pkl','rb'))\n",
    "enc_labeled_events = labeled_events[labeled_events['type']=='WORD']\n",
    "ret_labeled_events = labeled_events[labeled_events['type']=='REC_WORD']"
   ]
  },
  {
   "cell_type": "markdown",
   "metadata": {},
   "source": [
    "encoding list dynamics"
   ]
  },
  {
   "cell_type": "code",
   "execution_count": 582,
   "metadata": {},
   "outputs": [
    {
     "name": "stdout",
     "output_type": "stream",
     "text": [
      "Evaluating FR2 classifier performance for 88 subjects...\n",
      "    Train phase: enc    Test phase: enc\n",
      "    Mean AUC: 0.59   +-SE: 0.003825460701743545\n",
      "    alpha=0.010: \t 85.00 significant\n",
      "    alpha=0.050: \t 2.00 significant\n",
      "    p<0.05:  87\n",
      "    group binomial test:  p=0.00000000000, significant\n",
      "    group t-test: t=24.124153, p=0.000000, significant\n"
     ]
    }
   ],
   "source": [
    "enc_sig_subjects = test_resample_clsf_significance('enc', 'enc')[0]"
   ]
  },
  {
   "cell_type": "code",
   "execution_count": 583,
   "metadata": {},
   "outputs": [
    {
     "name": "stdout",
     "output_type": "stream",
     "text": [
      "LTP093,LTP106,LTP115,LTP117,LTP123,LTP133,LTP138,LTP207,LTP210,LTP228,LTP229,LTP236,LTP246,LTP249,LTP250,LTP251,LTP258,LTP259,LTP265,LTP269,LTP273,LTP278,LTP279,LTP280,LTP283,LTP285,LTP287,LTP293,LTP296,LTP297,LTP299,LTP301,LTP302,LTP303,LTP304,LTP305,LTP306,LTP307,LTP310,LTP311,LTP312,LTP316,LTP317,LTP318,LTP321,LTP322,LTP323,LTP324,LTP325,LTP326,LTP327,LTP328,LTP329,LTP331,LTP334,LTP336,LTP339,LTP341,LTP342,LTP343,LTP344,LTP346,LTP347,LTP348,LTP349,LTP354,LTP355,LTP357,LTP360,LTP361,LTP362,LTP364,LTP365,LTP366,LTP367,LTP371,LTP372,LTP373,LTP374,LTP376,LTP377,LTP385,LTP386,LTP387,LTP390,LTP391,LTP393,"
     ]
    }
   ],
   "source": [
    "encresults = []\n",
    "for subject in enc_sig_subjects:\n",
    "    print(subject, end=',')\n",
    "    files = glob.glob('scratch/mtpower/%s/%s_enc_enc_clsf_resample_run*_result.pkl'%(subject,subject))\n",
    "    encresults.append([pkl.load(open(f,'rb')) for f in files])"
   ]
  },
  {
   "cell_type": "code",
   "execution_count": 92,
   "metadata": {},
   "outputs": [
    {
     "name": "stdout",
     "output_type": "stream",
     "text": [
      "LTP093,LTP106,LTP115,LTP117,LTP123,LTP133,LTP138,LTP207,LTP210,LTP228,LTP229,LTP236,LTP246,LTP249,LTP250,LTP251,LTP258,LTP259,LTP265,LTP269,LTP273,LTP278,LTP279,LTP280,LTP283,LTP285,LTP287,LTP293,LTP296,LTP297,LTP299,LTP301,LTP302,LTP303,LTP304,LTP305,LTP306,LTP307,LTP310,LTP311,LTP312,LTP316,LTP317,LTP318,LTP321,LTP322,LTP323,LTP324,LTP325,LTP326,LTP327,LTP328,LTP329,LTP331,LTP334,LTP336,LTP339,LTP341,LTP342,LTP343,LTP344,LTP346,LTP347,LTP348,LTP349,LTP354,LTP355,LTP357,LTP360,LTP361,LTP362,LTP364,LTP365,LTP366,LTP367,LTP371,LTP372,LTP373,LTP374,LTP376,LTP377,LTP385,LTP386,LTP387,LTP390,LTP391,LTP393,"
     ]
    }
   ],
   "source": [
    "# encoding output by clustering type and serial position - data \n",
    "BCall = []\n",
    "TCall = []\n",
    "SCall = []\n",
    "NCall = []\n",
    "NRall = []\n",
    "for i, subject in enumerate(enc_sig_subjects):\n",
    "    print(subject, end=',')\n",
    "    \n",
    "    def get_cluster_type(select_events, all_events):\n",
    "        subject_data = all_events[all_events['subject']==subject]\n",
    "        subject_data = subject_data.sort_values('mstime')\n",
    "        events_index = np.in1d(subject_data['mstime'].values, select_events['mstime'])\n",
    "        return subject_data['cluster_type'][events_index]\n",
    "    \n",
    "    def mean_yhat(all_yhat, events):\n",
    "        result = []\n",
    "        for sess in np.unique(events['session']):\n",
    "            # if clean data: some sessions are missing items\n",
    "            if subject == 'LTP246' and sess == 6: # LTP246 sess 6 trial 4 has only one item\n",
    "                sess_index = (events['session']==sess) & (events['trial']!=4)\n",
    "            elif subject == 'LTP258' and sess == 17: # LTP258 sess 17 trial 1 has only 14 items\n",
    "                sess_index = (events['session']==sess) & (events['trial']!=1)\n",
    "            else:\n",
    "                sess_index = events['session']==sess\n",
    "            n_list = len(np.unique(events[sess_index]['trial']))\n",
    "            yhat = all_yhat[sess_index].reshape(n_list, 24)\n",
    "            result.append(np.nanmean(yhat, 0))\n",
    "        return np.nanmean(result, 0)\n",
    "    \n",
    "    def extract_one_type(yhat, events, conditions, ctype):\n",
    "        x = yhat.copy()\n",
    "        x[conditions!=ctype] = np.nan\n",
    "        x = mean_yhat(x, events)\n",
    "        return x\n",
    "    \n",
    "    subj_results = encresults[i]\n",
    "    subj_BC = []\n",
    "    subj_TC = []\n",
    "    subj_SC = []\n",
    "    subj_NC = []\n",
    "    subj_NR = []\n",
    "    for x in subj_results: # prediction from one run of resample classifier\n",
    "        \n",
    "        yhat = x['yhat']\n",
    "        events = x['test_events']\n",
    "        conditions = get_cluster_type(events, enc_labeled_events)\n",
    "        subj_BC.append(extract_one_type(yhat, events, conditions, 'BC'))\n",
    "        subj_TC.append(extract_one_type(yhat, events, conditions, 'TC'))\n",
    "        subj_SC.append(extract_one_type(yhat, events, conditions, 'SC'))\n",
    "        subj_NC.append(extract_one_type(yhat, events, conditions, 'NC'))\n",
    "        subj_NR.append(extract_one_type(yhat, events, conditions, 'NR'))\n",
    "    \n",
    "    BCall.append(np.nanmean(np.array(subj_BC), 0)) # take mean over subject runs\n",
    "    TCall.append(np.nanmean(np.array(subj_TC), 0))\n",
    "    SCall.append(np.nanmean(np.array(subj_SC), 0))\n",
    "    NCall.append(np.nanmean(np.array(subj_NC), 0))\n",
    "    NRall.append(np.nanmean(np.array(subj_NR), 0))\n",
    "\n",
    "BCall = np.array(BCall)\n",
    "TCall = np.array(TCall)\n",
    "SCall = np.array(SCall)\n",
    "NCall = np.array(NCall)\n",
    "NRall = np.array(NRall)"
   ]
  },
  {
   "cell_type": "code",
   "execution_count": 93,
   "metadata": {},
   "outputs": [],
   "source": [
    "x = {'BCall':BCall, 'TCall':TCall, 'SCall':SCall, 'NCall':NCall, 'NRall':NRall}\n",
    "# pkl.dump(x, open('data/clsf_resample_enc_output_ctypes.pkl','wb'))"
   ]
  },
  {
   "cell_type": "code",
   "execution_count": 283,
   "metadata": {},
   "outputs": [],
   "source": [
    "x = pkl.load(open('data/clsf_resample_enc_output_ctypes.pkl','rb'))\n",
    "BCall = x['BCall']\n",
    "TCall = x['TCall']\n",
    "SCall = x['SCall']\n",
    "NCall = x['NCall']\n",
    "NRall = x['NRall']"
   ]
  },
  {
   "cell_type": "code",
   "execution_count": 24,
   "metadata": {},
   "outputs": [
    {
     "data": {
      "text/plain": [
       "Text(11.75, 0.5, 'Classifier Output')"
      ]
     },
     "execution_count": 24,
     "metadata": {},
     "output_type": "execute_result"
    },
    {
     "data": {
      "image/png": "[encoded data removed]",
      "text/plain": [
       "<Figure size 360x252 with 1 Axes>"
      ]
     },
     "metadata": {
      "needs_background": "light"
     },
     "output_type": "display_data"
    }
   ],
   "source": [
    "from plot_utils import plot_list_dynamics\n",
    "\n",
    "values = [BCall, TCall, SCall, NCall, NRall]\n",
    "labels=['BC','TC','SC','NC','NR']\n",
    "colors=['k','#555555','#888888','#adadad','#c6c6c6']\n",
    "markers=['P','^','o','D','']\n",
    "markersizes=[7.5,6.5,6.5,5.5,0]\n",
    "linestyles=['-','-','-','-','--']\n",
    "xticks=np.arange(24)\n",
    "jitters=[0]*len(values)\n",
    "\n",
    "value_dict = {}\n",
    "for i, label in enumerate(labels):\n",
    "    value_dict[label] = {'value':values[i], 'color':colors[i], 'linestyle':linestyles[i],\n",
    "                         'marker':markers[i], 'markersize':markersizes[i],\n",
    "                         'xticks':xticks, 'jitter':jitters[i]}\n",
    "\n",
    "fig, ax = plot_list_dynamics(value_dict)\n",
    "\n",
    "ax.set_ylim([0.50,0.54])\n",
    "ax.set_ylabel('Encoding Classifier Output')\n",
    "\n",
    "ax.axhline(y=0.5, ls='--', lw=0.75, color='gray')\n",
    "\n",
    "ax.set_xticks(range(24)[1::2])\n",
    "ax.set_xticklabels(np.arange(1,25,1)[1::2])\n",
    "ax.set_ylim([0.475,0.547])\n",
    "ax.set_xlabel('Serial Position')\n",
    "ax.set_ylabel('Classifier Output')"
   ]
  },
  {
   "cell_type": "code",
   "execution_count": 25,
   "metadata": {},
   "outputs": [],
   "source": [
    "# fig.savefig('figures_final/yhat_resample_enc.pdf', bbox_inches=\"tight\")"
   ]
  },
  {
   "cell_type": "code",
   "execution_count": 287,
   "metadata": {},
   "outputs": [],
   "source": [
    "# mixed model data\n",
    "data = pd.DataFrame(pd.Series(enc_sig_subjects,name='subject'))\n",
    "\n",
    "data['BC_early'] = np.nanmean(BCall[:, :4], axis=1)\n",
    "data['BC_mid'] = np.nanmean(BCall[:, 4:-4], axis=1)\n",
    "data['BC_late'] = np.nanmean(BCall[:, -4:], axis=1)\n",
    "\n",
    "data['TC_early'] = np.nanmean(TCall[:, :4], axis=1)\n",
    "data['TC_mid'] = np.nanmean(TCall[:, 4:-4], axis=1)\n",
    "data['TC_late'] = np.nanmean(TCall[:, -4:], axis=1)\n",
    "\n",
    "data['SC_early'] = np.nanmean(SCall[:, :4], axis=1)\n",
    "data['SC_mid'] = np.nanmean(SCall[:, 4:-4], axis=1)\n",
    "data['SC_late'] = np.nanmean(SCall[:, -4:], axis=1)\n",
    "\n",
    "data['NC_early'] = np.nanmean(NCall[:, :4], axis=1)\n",
    "data['NC_mid'] = np.nanmean(NCall[:, 4:-4], axis=1)\n",
    "data['NC_late'] = np.nanmean(NCall[:, -4:], axis=1)\n",
    "\n",
    "data['NR_early'] = np.nanmean(NRall[:, :4], axis=1)\n",
    "data['NR_mid'] = np.nanmean(NRall[:, 4:-4], axis=1)\n",
    "data['NR_late'] = np.nanmean(NRall[:, -4:], axis=1)"
   ]
  },
  {
   "cell_type": "code",
   "execution_count": 288,
   "metadata": {},
   "outputs": [
    {
     "data": {
      "text/html": [
       "<div>\n",
       "<style scoped>\n",
       "    .dataframe tbody tr th:only-of-type {\n",
       "        vertical-align: middle;\n",
       "    }\n",
       "\n",
       "    .dataframe tbody tr th {\n",
       "        vertical-align: top;\n",
       "    }\n",
       "\n",
       "    .dataframe thead th {\n",
       "        text-align: right;\n",
       "    }\n",
       "</style>\n",
       "<table border=\"1\" class=\"dataframe\">\n",
       "  <thead>\n",
       "    <tr style=\"text-align: right;\">\n",
       "      <th></th>\n",
       "      <th>subject</th>\n",
       "      <th>BC_early</th>\n",
       "      <th>BC_mid</th>\n",
       "      <th>BC_late</th>\n",
       "      <th>TC_early</th>\n",
       "      <th>TC_mid</th>\n",
       "      <th>TC_late</th>\n",
       "      <th>SC_early</th>\n",
       "      <th>SC_mid</th>\n",
       "      <th>SC_late</th>\n",
       "      <th>NC_early</th>\n",
       "      <th>NC_mid</th>\n",
       "      <th>NC_late</th>\n",
       "      <th>NR_early</th>\n",
       "      <th>NR_mid</th>\n",
       "      <th>NR_late</th>\n",
       "    </tr>\n",
       "  </thead>\n",
       "  <tbody>\n",
       "    <tr>\n",
       "      <th>0</th>\n",
       "      <td>LTP093</td>\n",
       "      <td>0.508537</td>\n",
       "      <td>0.513756</td>\n",
       "      <td>0.505778</td>\n",
       "      <td>0.511679</td>\n",
       "      <td>0.516473</td>\n",
       "      <td>0.502734</td>\n",
       "      <td>0.493748</td>\n",
       "      <td>0.513514</td>\n",
       "      <td>0.513912</td>\n",
       "      <td>0.510450</td>\n",
       "      <td>0.507046</td>\n",
       "      <td>0.494553</td>\n",
       "      <td>0.498963</td>\n",
       "      <td>0.496239</td>\n",
       "      <td>0.489883</td>\n",
       "    </tr>\n",
       "    <tr>\n",
       "      <th>1</th>\n",
       "      <td>LTP106</td>\n",
       "      <td>0.510082</td>\n",
       "      <td>0.509941</td>\n",
       "      <td>0.495745</td>\n",
       "      <td>0.510400</td>\n",
       "      <td>0.504625</td>\n",
       "      <td>0.494062</td>\n",
       "      <td>0.508939</td>\n",
       "      <td>0.502228</td>\n",
       "      <td>0.509723</td>\n",
       "      <td>0.507620</td>\n",
       "      <td>0.504792</td>\n",
       "      <td>0.497459</td>\n",
       "      <td>0.495136</td>\n",
       "      <td>0.488898</td>\n",
       "      <td>0.481358</td>\n",
       "    </tr>\n",
       "    <tr>\n",
       "      <th>2</th>\n",
       "      <td>LTP115</td>\n",
       "      <td>0.521981</td>\n",
       "      <td>0.508946</td>\n",
       "      <td>0.505768</td>\n",
       "      <td>0.514384</td>\n",
       "      <td>0.503160</td>\n",
       "      <td>0.499304</td>\n",
       "      <td>0.508862</td>\n",
       "      <td>0.502348</td>\n",
       "      <td>0.496635</td>\n",
       "      <td>0.504565</td>\n",
       "      <td>0.500725</td>\n",
       "      <td>0.498229</td>\n",
       "      <td>0.491203</td>\n",
       "      <td>0.496454</td>\n",
       "      <td>0.490810</td>\n",
       "    </tr>\n",
       "    <tr>\n",
       "      <th>3</th>\n",
       "      <td>LTP117</td>\n",
       "      <td>0.511881</td>\n",
       "      <td>0.516900</td>\n",
       "      <td>0.492819</td>\n",
       "      <td>0.502839</td>\n",
       "      <td>0.511540</td>\n",
       "      <td>0.491754</td>\n",
       "      <td>0.489840</td>\n",
       "      <td>0.508362</td>\n",
       "      <td>0.506383</td>\n",
       "      <td>0.487280</td>\n",
       "      <td>0.507271</td>\n",
       "      <td>0.493554</td>\n",
       "      <td>0.482571</td>\n",
       "      <td>0.496550</td>\n",
       "      <td>0.487152</td>\n",
       "    </tr>\n",
       "    <tr>\n",
       "      <th>4</th>\n",
       "      <td>LTP123</td>\n",
       "      <td>0.507378</td>\n",
       "      <td>0.513508</td>\n",
       "      <td>0.504796</td>\n",
       "      <td>0.509357</td>\n",
       "      <td>0.508684</td>\n",
       "      <td>0.501771</td>\n",
       "      <td>0.504100</td>\n",
       "      <td>0.501796</td>\n",
       "      <td>0.497285</td>\n",
       "      <td>0.510393</td>\n",
       "      <td>0.502307</td>\n",
       "      <td>0.496740</td>\n",
       "      <td>0.499792</td>\n",
       "      <td>0.495448</td>\n",
       "      <td>0.491708</td>\n",
       "    </tr>\n",
       "  </tbody>\n",
       "</table>\n",
       "</div>"
      ],
      "text/plain": [
       "  subject  BC_early    BC_mid   BC_late  TC_early    TC_mid   TC_late  \\\n",
       "0  LTP093  0.508537  0.513756  0.505778  0.511679  0.516473  0.502734   \n",
       "1  LTP106  0.510082  0.509941  0.495745  0.510400  0.504625  0.494062   \n",
       "2  LTP115  0.521981  0.508946  0.505768  0.514384  0.503160  0.499304   \n",
       "3  LTP117  0.511881  0.516900  0.492819  0.502839  0.511540  0.491754   \n",
       "4  LTP123  0.507378  0.513508  0.504796  0.509357  0.508684  0.501771   \n",
       "\n",
       "   SC_early    SC_mid   SC_late  NC_early    NC_mid   NC_late  NR_early  \\\n",
       "0  0.493748  0.513514  0.513912  0.510450  0.507046  0.494553  0.498963   \n",
       "1  0.508939  0.502228  0.509723  0.507620  0.504792  0.497459  0.495136   \n",
       "2  0.508862  0.502348  0.496635  0.504565  0.500725  0.498229  0.491203   \n",
       "3  0.489840  0.508362  0.506383  0.487280  0.507271  0.493554  0.482571   \n",
       "4  0.504100  0.501796  0.497285  0.510393  0.502307  0.496740  0.499792   \n",
       "\n",
       "     NR_mid   NR_late  \n",
       "0  0.496239  0.489883  \n",
       "1  0.488898  0.481358  \n",
       "2  0.496454  0.490810  \n",
       "3  0.496550  0.487152  \n",
       "4  0.495448  0.491708  "
      ]
     },
     "execution_count": 288,
     "metadata": {},
     "output_type": "execute_result"
    }
   ],
   "source": [
    "data.head()"
   ]
  },
  {
   "cell_type": "code",
   "execution_count": 289,
   "metadata": {},
   "outputs": [],
   "source": [
    "df = []\n",
    "for subject in np.unique(data['subject']):\n",
    "    yhat = data[data['subject']==subject].values[:,1:].T # first item is subject name\n",
    "    x = pd.DataFrame(data=yhat, columns=['yhat'])\n",
    "    x['subject'] = [subject] * len(yhat)\n",
    "    x['event_type'] = np.repeat(['BC','TC','SC','NC','NR'], 3)\n",
    "    x['listpos'] = np.tile(['early','mid','late'], 5)\n",
    "    df.append(x)\n",
    "df = pd.concat(df)"
   ]
  },
  {
   "cell_type": "code",
   "execution_count": 291,
   "metadata": {},
   "outputs": [],
   "source": [
    "# df.to_csv('data/enc_yhat_resampled.csv')"
   ]
  },
  {
   "cell_type": "code",
   "execution_count": null,
   "metadata": {},
   "outputs": [],
   "source": []
  },
  {
   "cell_type": "markdown",
   "metadata": {},
   "source": [
    "retrieval dynamics"
   ]
  },
  {
   "cell_type": "code",
   "execution_count": 293,
   "metadata": {},
   "outputs": [
    {
     "name": "stdout",
     "output_type": "stream",
     "text": [
      "Evaluating FR2 classifier performance for 88 subjects...\n",
      "    Train phase: retci    Test phase: retci\n",
      "    Mean AUC: 0.57   +-SE: 0.0062514149778344205\n",
      "    alpha=0.010: \t 26.00 significant\n",
      "    alpha=0.050: \t 22.00 significant\n",
      "    p<0.05:  48\n",
      "    group binomial test:  p=0.00000000000, significant\n",
      "    group t-test: t=10.236359, p=0.000000, significant\n"
     ]
    }
   ],
   "source": [
    "ret_sig_subjects = test_resample_clsf_significance('retci', 'retci')[0]"
   ]
  },
  {
   "cell_type": "code",
   "execution_count": 271,
   "metadata": {},
   "outputs": [
    {
     "name": "stdout",
     "output_type": "stream",
     "text": [
      "LTP093,LTP115,LTP117,LTP123,LTP133,LTP138,LTP229,LTP250,LTP251,LTP259,LTP273,LTP280,LTP285,LTP297,LTP301,LTP304,LTP306,LTP310,LTP312,LTP316,LTP317,LTP318,LTP322,LTP323,LTP326,LTP329,LTP334,LTP336,LTP341,LTP343,LTP346,LTP347,LTP348,LTP349,LTP354,LTP357,LTP361,LTP364,LTP365,LTP366,LTP367,LTP373,LTP377,LTP385,LTP387,LTP389,LTP390,LTP393,"
     ]
    }
   ],
   "source": [
    "retresults = []\n",
    "for subject in ret_sig_subjects:\n",
    "    print(subject, end=',')\n",
    "    files = glob.glob('scratch/mtpower/%s/%s_retci_retci_clsf_resample_run*_result.pkl'%(subject,subject))\n",
    "    retresults.append([pkl.load(open(f,'rb')) for f in files])"
   ]
  },
  {
   "cell_type": "code",
   "execution_count": 272,
   "metadata": {},
   "outputs": [
    {
     "name": "stdout",
     "output_type": "stream",
     "text": [
      "LTP093,LTP115,LTP117,LTP123,LTP133,LTP138,LTP229,LTP250,LTP251,LTP259,LTP273,LTP280,LTP285,LTP297,LTP301,LTP304,LTP306,LTP310,LTP312,LTP316,LTP317,LTP318,LTP322,LTP323,LTP326,LTP329,LTP334,LTP336,LTP341,LTP343,LTP346,LTP347,LTP348,LTP349,LTP354,LTP357,LTP361,LTP364,LTP365,LTP366,LTP367,LTP373,LTP377,LTP385,LTP387,LTP389,LTP390,LTP393,"
     ]
    }
   ],
   "source": [
    "# retrieval output by clustering type and recall time - data \n",
    "\n",
    "CRall = []\n",
    "BCall = []\n",
    "TCall = []\n",
    "SCall = []\n",
    "NCall = []\n",
    "INall = []\n",
    "PIall = []\n",
    "EIall = []\n",
    "\n",
    "for i, subject in enumerate(ret_sig_subjects):\n",
    "    print(subject, end=',')\n",
    "    \n",
    "    def get_cluster_type(select_events, all_events):\n",
    "        subject_data = all_events[all_events['subject']==subject]\n",
    "        subject_data = subject_data.sort_values('mstime')\n",
    "        events_index = np.in1d(subject_data['mstime'].values, select_events['mstime'])\n",
    "        return subject_data['cluster_type'][events_index]\n",
    "    \n",
    "    def find_bins(t, bins=np.arange(0, 75.1, 7.5)):\n",
    "        return np.where(t>bins)[0][-1]\n",
    "    \n",
    "    def bin_trial(trial_yhat, bins):\n",
    "        result = []\n",
    "        for b in range(10):\n",
    "            if b not in bins: # no recall in that bin\n",
    "                result.append(np.nan)\n",
    "            else:\n",
    "                result.append(np.nanmean(trial_yhat[bins==b]))\n",
    "        return np.array(result)\n",
    "    \n",
    "    def bin_session(sess_yhat, trial, bins):\n",
    "        result = []\n",
    "        for t in np.unique(trial):\n",
    "            index = trial==t\n",
    "            trial_result = bin_trial(sess_yhat[index], bins[index])\n",
    "            result.append(trial_result)\n",
    "        result = np.array(result)\n",
    "        return np.nanmean(result,0)\n",
    "    \n",
    "    def extract_one_type(yhat, events, conditions, ctype, bins):\n",
    "        x = yhat.copy()\n",
    "        if ctype=='CR':\n",
    "            x[events['intrusion']!=0] = np.nan\n",
    "        elif ctype=='IN':\n",
    "            x[events['intrusion']==0] = np.nan\n",
    "        elif ctype=='PI':\n",
    "            x[events['intrusion']<=0] = np.nan\n",
    "        elif ctype=='EI':\n",
    "            x[events['intrusion']>=0] = np.nan\n",
    "        else:\n",
    "            x[conditions!=ctype] = np.nan\n",
    "        session = events['session']\n",
    "        trial = events['trial']\n",
    "        binned_x = []\n",
    "        for sess in np.unique(session):\n",
    "            index = session==sess\n",
    "            sess_x = bin_session(x[index], trial[index], bins[index])\n",
    "            binned_x.append(sess_x)\n",
    "        return np.nanmean(binned_x,0)\n",
    "    \n",
    "    subj_results = retresults[i]\n",
    "    subj_CR = []\n",
    "    subj_BC = []\n",
    "    subj_TC = []\n",
    "    subj_SC = []\n",
    "    subj_NC = []\n",
    "    subj_IN = []\n",
    "    subj_PI = []\n",
    "    subj_EI = []\n",
    "    \n",
    "    for x in subj_results:\n",
    "\n",
    "        # correct and incorrect\n",
    "        yhat = x['yhat']\n",
    "        events = x['test_events']\n",
    "        conditions = get_cluster_type(events, ret_labeled_events)\n",
    "\n",
    "        session = events['session']\n",
    "        trial = events['trial']\n",
    "        bins = np.array([find_bins(t/1000.0) for t in events['rectime']])\n",
    "        \n",
    "        subj_CR.append(extract_one_type(yhat, events, conditions, 'CR', bins))\n",
    "        subj_BC.append(extract_one_type(yhat, events, conditions, 'BC', bins))\n",
    "        subj_TC.append(extract_one_type(yhat, events, conditions, 'TC', bins))\n",
    "        subj_SC.append(extract_one_type(yhat, events, conditions, 'SC', bins))\n",
    "        subj_NC.append(extract_one_type(yhat, events, conditions, 'NC', bins))\n",
    "        subj_IN.append(extract_one_type(yhat, events, conditions, 'IN', bins))\n",
    "        subj_PI.append(extract_one_type(yhat, events, conditions, 'PI', bins))\n",
    "        subj_EI.append(extract_one_type(yhat, events, conditions, 'EI', bins))\n",
    "    \n",
    "    CRall.append(np.nanmean(subj_CR,0))# take mean over subject runs\n",
    "    BCall.append(np.nanmean(subj_BC,0))\n",
    "    TCall.append(np.nanmean(subj_TC,0))\n",
    "    SCall.append(np.nanmean(subj_SC,0))\n",
    "    NCall.append(np.nanmean(subj_NC,0))\n",
    "    INall.append(np.nanmean(subj_IN,0))\n",
    "    PIall.append(np.nanmean(subj_PI,0))\n",
    "    EIall.append(np.nanmean(subj_EI,0))\n",
    "    \n",
    "CRall = np.array(CRall)\n",
    "INall = np.array(INall)\n",
    "PIall = np.array(PIall)\n",
    "EIall = np.array(EIall)\n",
    "BCall = np.array(BCall)\n",
    "TCall = np.array(TCall)\n",
    "SCall = np.array(SCall)\n",
    "NCall = np.array(NCall)"
   ]
  },
  {
   "cell_type": "code",
   "execution_count": 281,
   "metadata": {},
   "outputs": [],
   "source": [
    "# saving them cuz they take so long to run...\n",
    "x = {'CRall':CRall, 'INall':INall, 'PIall':PIall, 'EIall':EIall,\n",
    "     'BCall':BCall, 'TCall':TCall, 'SCall':SCall, 'NCall':NCall}\n",
    "# pkl.dump(x, open('data/resample_clsf_retci_output_ctypes.pkl','wb'))"
   ]
  },
  {
   "cell_type": "code",
   "execution_count": 292,
   "metadata": {},
   "outputs": [],
   "source": [
    "x = pkl.load(open('data/resample_clsf_retci_output_ctypes.pkl','rb'))\n",
    "CRall = x['CRall']\n",
    "BCall = x['BCall']\n",
    "TCall = x['TCall']\n",
    "SCall = x['SCall']\n",
    "NCall = x['NCall']\n",
    "INall = x['INall']\n",
    "PIall = x['PIall']\n",
    "EIall = x['EIall']"
   ]
  },
  {
   "cell_type": "code",
   "execution_count": 279,
   "metadata": {},
   "outputs": [
    {
     "data": {
      "image/png": "[encoded data removed]",
      "text/plain": [
       "<Figure size 360x252 with 1 Axes>"
      ]
     },
     "metadata": {
      "needs_background": "light"
     },
     "output_type": "display_data"
    }
   ],
   "source": [
    "from plot_utils import plot_list_dynamics\n",
    "\n",
    "values = [BCall, TCall, SCall, NCall, PIall, EIall]\n",
    "labels=['BC','TC','SC','NC','PLI','ELI']\n",
    "colors=['k','#555555','#888888','#adadad','#c6c6c6','#c6c6c6']\n",
    "markers=['P','^','o','D','','']\n",
    "markersizes=[7.5,6.5,6.5,5.5,0,0]\n",
    "linestyles=['-','-','-','-','--',':']\n",
    "xticks = np.arange(7.5, 75.1, 7.5)-7.5/2\n",
    "jitters = [-0.9,-0.3,0.3,0.9,0,0]\n",
    "\n",
    "value_dict = {}\n",
    "for i, label in enumerate(labels):\n",
    "    value_dict[label] = {'value':values[i], 'color':colors[i], 'linestyle':linestyles[i],\n",
    "                         'marker':markers[i], 'markersize':markersizes[i],\n",
    "                         'xticks':xticks, 'jitter':jitters[i]}\n",
    "\n",
    "fig, ax = plot_list_dynamics(value_dict)\n",
    "\n",
    "ax.axhline(0.5, ls='--', lw=0.75, color='gray')\n",
    "# ax.set_ylim([0.43,0.524])\n",
    "ax.set_xticks(np.arange(0,76,15))\n",
    "ax.set_xticklabels(np.arange(0,76,15))\n",
    "ax.set_xlabel('Recall Time (s)')\n",
    "ax.set_ylabel('Classifier Output')\n",
    "\n",
    "# ax.legend(loc=3, fontsize='medium')\n",
    "fig.tight_layout()"
   ]
  },
  {
   "cell_type": "code",
   "execution_count": 280,
   "metadata": {},
   "outputs": [],
   "source": [
    "# fig.savefig('figures_final/yhat_resample_retci.pdf', bbox_inches=\"tight\")"
   ]
  },
  {
   "cell_type": "code",
   "execution_count": 295,
   "metadata": {},
   "outputs": [],
   "source": [
    "# mixed model data\n",
    "retdata = pd.DataFrame(pd.Series(ret_sig_subjects, name='subject'))\n",
    "\n",
    "retdata['BC_early'] = np.nanmean(BCall[:, :3], axis=1)\n",
    "retdata['BC_mid'] = np.nanmean(BCall[:, 3:-3], axis=1)\n",
    "retdata['BC_late'] = np.nanmean(BCall[:, -3:], axis=1)\n",
    "\n",
    "retdata['TC_early'] = np.nanmean(TCall[:, :3], axis=1)\n",
    "retdata['TC_mid'] = np.nanmean(TCall[:, 3:-3], axis=1)\n",
    "retdata['TC_late'] = np.nanmean(TCall[:, -3:], axis=1)\n",
    "\n",
    "retdata['SC_early'] = np.nanmean(SCall[:, :3], axis=1)\n",
    "retdata['SC_mid'] = np.nanmean(SCall[:, 3:-3], axis=1)\n",
    "retdata['SC_late'] = np.nanmean(SCall[:, -3:], axis=1)\n",
    "\n",
    "retdata['NC_early'] = np.nanmean(NCall[:, :3], axis=1)\n",
    "retdata['NC_mid'] = np.nanmean(NCall[:, 3:-3], axis=1)\n",
    "retdata['NC_late'] = np.nanmean(NCall[:, -3:], axis=1)\n",
    "\n",
    "retdata['IN_early'] = np.nanmean(INall[:, :3], axis=1)\n",
    "retdata['IN_mid'] = np.nanmean(INall[:, 3:-3], axis=1)\n",
    "retdata['IN_late'] = np.nanmean(INall[:, -3:], axis=1)\n",
    "\n",
    "retdata['PI_early'] = np.nanmean(PIall[:, :3], axis=1)\n",
    "retdata['PI_mid'] = np.nanmean(PIall[:, 3:-3], axis=1)\n",
    "retdata['PI_late'] = np.nanmean(PIall[:, -3:], axis=1)\n",
    "\n",
    "retdata['EI_early'] = np.nanmean(EIall[:, :3], axis=1)\n",
    "retdata['EI_mid'] = np.nanmean(EIall[:, 3:-3], axis=1)\n",
    "retdata['EI_late'] = np.nanmean(EIall[:, -3:], axis=1)"
   ]
  },
  {
   "cell_type": "code",
   "execution_count": 296,
   "metadata": {},
   "outputs": [
    {
     "data": {
      "text/html": [
       "<div>\n",
       "<style scoped>\n",
       "    .dataframe tbody tr th:only-of-type {\n",
       "        vertical-align: middle;\n",
       "    }\n",
       "\n",
       "    .dataframe tbody tr th {\n",
       "        vertical-align: top;\n",
       "    }\n",
       "\n",
       "    .dataframe thead th {\n",
       "        text-align: right;\n",
       "    }\n",
       "</style>\n",
       "<table border=\"1\" class=\"dataframe\">\n",
       "  <thead>\n",
       "    <tr style=\"text-align: right;\">\n",
       "      <th></th>\n",
       "      <th>subject</th>\n",
       "      <th>BC_early</th>\n",
       "      <th>BC_mid</th>\n",
       "      <th>BC_late</th>\n",
       "      <th>TC_early</th>\n",
       "      <th>TC_mid</th>\n",
       "      <th>TC_late</th>\n",
       "      <th>SC_early</th>\n",
       "      <th>SC_mid</th>\n",
       "      <th>SC_late</th>\n",
       "      <th>...</th>\n",
       "      <th>NC_late</th>\n",
       "      <th>IN_early</th>\n",
       "      <th>IN_mid</th>\n",
       "      <th>IN_late</th>\n",
       "      <th>PI_early</th>\n",
       "      <th>PI_mid</th>\n",
       "      <th>PI_late</th>\n",
       "      <th>EI_early</th>\n",
       "      <th>EI_mid</th>\n",
       "      <th>EI_late</th>\n",
       "    </tr>\n",
       "  </thead>\n",
       "  <tbody>\n",
       "    <tr>\n",
       "      <th>0</th>\n",
       "      <td>LTP093</td>\n",
       "      <td>0.503249</td>\n",
       "      <td>0.484918</td>\n",
       "      <td>0.504150</td>\n",
       "      <td>0.499701</td>\n",
       "      <td>0.512255</td>\n",
       "      <td>0.520202</td>\n",
       "      <td>0.490581</td>\n",
       "      <td>0.508631</td>\n",
       "      <td>0.571349</td>\n",
       "      <td>...</td>\n",
       "      <td>0.505192</td>\n",
       "      <td>0.485790</td>\n",
       "      <td>0.492090</td>\n",
       "      <td>0.499440</td>\n",
       "      <td>0.476994</td>\n",
       "      <td>0.517342</td>\n",
       "      <td>0.513853</td>\n",
       "      <td>0.482603</td>\n",
       "      <td>0.463798</td>\n",
       "      <td>0.470614</td>\n",
       "    </tr>\n",
       "    <tr>\n",
       "      <th>1</th>\n",
       "      <td>LTP115</td>\n",
       "      <td>0.510398</td>\n",
       "      <td>0.493948</td>\n",
       "      <td>0.474923</td>\n",
       "      <td>0.507648</td>\n",
       "      <td>0.492662</td>\n",
       "      <td>0.495997</td>\n",
       "      <td>0.501712</td>\n",
       "      <td>0.496576</td>\n",
       "      <td>0.486097</td>\n",
       "      <td>...</td>\n",
       "      <td>0.485726</td>\n",
       "      <td>0.492302</td>\n",
       "      <td>0.467879</td>\n",
       "      <td>0.462695</td>\n",
       "      <td>0.485273</td>\n",
       "      <td>0.464213</td>\n",
       "      <td>0.446148</td>\n",
       "      <td>0.499472</td>\n",
       "      <td>0.472526</td>\n",
       "      <td>0.457378</td>\n",
       "    </tr>\n",
       "    <tr>\n",
       "      <th>2</th>\n",
       "      <td>LTP117</td>\n",
       "      <td>0.512361</td>\n",
       "      <td>0.523450</td>\n",
       "      <td>0.526046</td>\n",
       "      <td>0.501467</td>\n",
       "      <td>0.512099</td>\n",
       "      <td>0.531083</td>\n",
       "      <td>0.496272</td>\n",
       "      <td>0.504592</td>\n",
       "      <td>0.560695</td>\n",
       "      <td>...</td>\n",
       "      <td>0.520025</td>\n",
       "      <td>0.476040</td>\n",
       "      <td>0.476225</td>\n",
       "      <td>0.495930</td>\n",
       "      <td>0.472822</td>\n",
       "      <td>0.488655</td>\n",
       "      <td>0.508901</td>\n",
       "      <td>0.483552</td>\n",
       "      <td>0.474700</td>\n",
       "      <td>0.483019</td>\n",
       "    </tr>\n",
       "    <tr>\n",
       "      <th>3</th>\n",
       "      <td>LTP123</td>\n",
       "      <td>0.514387</td>\n",
       "      <td>0.505209</td>\n",
       "      <td>0.499681</td>\n",
       "      <td>0.514422</td>\n",
       "      <td>0.499530</td>\n",
       "      <td>0.488297</td>\n",
       "      <td>0.512978</td>\n",
       "      <td>0.503496</td>\n",
       "      <td>0.487804</td>\n",
       "      <td>...</td>\n",
       "      <td>0.490595</td>\n",
       "      <td>0.487947</td>\n",
       "      <td>0.472701</td>\n",
       "      <td>0.461123</td>\n",
       "      <td>0.482527</td>\n",
       "      <td>0.472430</td>\n",
       "      <td>0.462460</td>\n",
       "      <td>0.492545</td>\n",
       "      <td>0.475120</td>\n",
       "      <td>0.451347</td>\n",
       "    </tr>\n",
       "    <tr>\n",
       "      <th>4</th>\n",
       "      <td>LTP133</td>\n",
       "      <td>0.512787</td>\n",
       "      <td>0.502694</td>\n",
       "      <td>0.490914</td>\n",
       "      <td>0.504298</td>\n",
       "      <td>0.501351</td>\n",
       "      <td>0.505832</td>\n",
       "      <td>0.506713</td>\n",
       "      <td>0.518210</td>\n",
       "      <td>0.560180</td>\n",
       "      <td>...</td>\n",
       "      <td>0.498602</td>\n",
       "      <td>0.480540</td>\n",
       "      <td>0.454713</td>\n",
       "      <td>0.474685</td>\n",
       "      <td>0.486743</td>\n",
       "      <td>0.446622</td>\n",
       "      <td>0.475050</td>\n",
       "      <td>0.462505</td>\n",
       "      <td>0.470971</td>\n",
       "      <td>0.482183</td>\n",
       "    </tr>\n",
       "  </tbody>\n",
       "</table>\n",
       "<p>5 rows × 22 columns</p>\n",
       "</div>"
      ],
      "text/plain": [
       "  subject  BC_early    BC_mid   BC_late  TC_early    TC_mid   TC_late  \\\n",
       "0  LTP093  0.503249  0.484918  0.504150  0.499701  0.512255  0.520202   \n",
       "1  LTP115  0.510398  0.493948  0.474923  0.507648  0.492662  0.495997   \n",
       "2  LTP117  0.512361  0.523450  0.526046  0.501467  0.512099  0.531083   \n",
       "3  LTP123  0.514387  0.505209  0.499681  0.514422  0.499530  0.488297   \n",
       "4  LTP133  0.512787  0.502694  0.490914  0.504298  0.501351  0.505832   \n",
       "\n",
       "   SC_early    SC_mid   SC_late  ...   NC_late  IN_early    IN_mid   IN_late  \\\n",
       "0  0.490581  0.508631  0.571349  ...  0.505192  0.485790  0.492090  0.499440   \n",
       "1  0.501712  0.496576  0.486097  ...  0.485726  0.492302  0.467879  0.462695   \n",
       "2  0.496272  0.504592  0.560695  ...  0.520025  0.476040  0.476225  0.495930   \n",
       "3  0.512978  0.503496  0.487804  ...  0.490595  0.487947  0.472701  0.461123   \n",
       "4  0.506713  0.518210  0.560180  ...  0.498602  0.480540  0.454713  0.474685   \n",
       "\n",
       "   PI_early    PI_mid   PI_late  EI_early    EI_mid   EI_late  \n",
       "0  0.476994  0.517342  0.513853  0.482603  0.463798  0.470614  \n",
       "1  0.485273  0.464213  0.446148  0.499472  0.472526  0.457378  \n",
       "2  0.472822  0.488655  0.508901  0.483552  0.474700  0.483019  \n",
       "3  0.482527  0.472430  0.462460  0.492545  0.475120  0.451347  \n",
       "4  0.486743  0.446622  0.475050  0.462505  0.470971  0.482183  \n",
       "\n",
       "[5 rows x 22 columns]"
      ]
     },
     "execution_count": 296,
     "metadata": {},
     "output_type": "execute_result"
    }
   ],
   "source": [
    "retdata.head()"
   ]
  },
  {
   "cell_type": "code",
   "execution_count": 297,
   "metadata": {},
   "outputs": [],
   "source": [
    "df = []\n",
    "for subject in np.unique(retdata['subject']):\n",
    "    yhat = retdata[retdata['subject']==subject].values[:,1:].T # first item is subject name\n",
    "    x = pd.DataFrame(data=yhat, columns=['yhat'])\n",
    "    x['subject'] = [subject] * len(yhat)\n",
    "    x['event_type'] = np.repeat(['BC','TC','SC','NC','IN','PI','EI'], 3)\n",
    "    x['listpos'] = np.tile(['early','mid','late'], 7)\n",
    "    df.append(x)\n",
    "df = pd.concat(df)"
   ]
  },
  {
   "cell_type": "code",
   "execution_count": 298,
   "metadata": {},
   "outputs": [
    {
     "data": {
      "text/html": [
       "<div>\n",
       "<style scoped>\n",
       "    .dataframe tbody tr th:only-of-type {\n",
       "        vertical-align: middle;\n",
       "    }\n",
       "\n",
       "    .dataframe tbody tr th {\n",
       "        vertical-align: top;\n",
       "    }\n",
       "\n",
       "    .dataframe thead th {\n",
       "        text-align: right;\n",
       "    }\n",
       "</style>\n",
       "<table border=\"1\" class=\"dataframe\">\n",
       "  <thead>\n",
       "    <tr style=\"text-align: right;\">\n",
       "      <th></th>\n",
       "      <th>yhat</th>\n",
       "      <th>subject</th>\n",
       "      <th>event_type</th>\n",
       "      <th>listpos</th>\n",
       "    </tr>\n",
       "  </thead>\n",
       "  <tbody>\n",
       "    <tr>\n",
       "      <th>0</th>\n",
       "      <td>0.503249</td>\n",
       "      <td>LTP093</td>\n",
       "      <td>BC</td>\n",
       "      <td>early</td>\n",
       "    </tr>\n",
       "    <tr>\n",
       "      <th>1</th>\n",
       "      <td>0.484918</td>\n",
       "      <td>LTP093</td>\n",
       "      <td>BC</td>\n",
       "      <td>mid</td>\n",
       "    </tr>\n",
       "    <tr>\n",
       "      <th>2</th>\n",
       "      <td>0.50415</td>\n",
       "      <td>LTP093</td>\n",
       "      <td>BC</td>\n",
       "      <td>late</td>\n",
       "    </tr>\n",
       "    <tr>\n",
       "      <th>3</th>\n",
       "      <td>0.499701</td>\n",
       "      <td>LTP093</td>\n",
       "      <td>TC</td>\n",
       "      <td>early</td>\n",
       "    </tr>\n",
       "    <tr>\n",
       "      <th>4</th>\n",
       "      <td>0.512255</td>\n",
       "      <td>LTP093</td>\n",
       "      <td>TC</td>\n",
       "      <td>mid</td>\n",
       "    </tr>\n",
       "  </tbody>\n",
       "</table>\n",
       "</div>"
      ],
      "text/plain": [
       "       yhat subject event_type listpos\n",
       "0  0.503249  LTP093         BC   early\n",
       "1  0.484918  LTP093         BC     mid\n",
       "2   0.50415  LTP093         BC    late\n",
       "3  0.499701  LTP093         TC   early\n",
       "4  0.512255  LTP093         TC     mid"
      ]
     },
     "execution_count": 298,
     "metadata": {},
     "output_type": "execute_result"
    }
   ],
   "source": [
    "df.head()"
   ]
  },
  {
   "cell_type": "code",
   "execution_count": 299,
   "metadata": {},
   "outputs": [],
   "source": [
    "# df.to_csv('data/ret_yhat_resampled.csv')"
   ]
  },
  {
   "cell_type": "code",
   "execution_count": null,
   "metadata": {},
   "outputs": [],
   "source": []
  },
  {
   "cell_type": "markdown",
   "metadata": {},
   "source": [
    "#### check correlation with behavioral indexes"
   ]
  },
  {
   "cell_type": "code",
   "execution_count": 2,
   "metadata": {},
   "outputs": [],
   "source": [
    "behavioral_scores = pkl.load(open('data/behvaioral_scores.pkl','rb'))\n",
    "precs = np.array([x['prec'] for x in behavioral_scores])\n",
    "primacy_factors = np.array([x['primacy'] for x in behavioral_scores])\n",
    "temp_factors = np.array([x['temp'] for x in behavioral_scores])\n",
    "sem_factors = np.array([x['sem'] for x in behavioral_scores])"
   ]
  },
  {
   "cell_type": "code",
   "execution_count": 584,
   "metadata": {},
   "outputs": [],
   "source": [
    "# match encoding yhat with events\n",
    "merged_yhat_events_all = []\n",
    "for i, subject in enumerate(enc_sig_subjects):\n",
    "    \n",
    "    def get_recall_status(select_events, all_events):\n",
    "        subject_data = all_events[all_events['subject']==subject]\n",
    "        subject_data = subject_data.sort_values('mstime')\n",
    "        events_index = np.in1d(subject_data['mstime'].values, select_events['mstime'])\n",
    "        return subject_data[['subject','session','trial','serialpos','cluster_type']][events_index]\n",
    "    \n",
    "    yhat = np.mean([x['yhat'] for x in encresults[i]], 0) # across multiple resample runs\n",
    "    events = encresults[i][0]['test_events'] # same test events for all runs\n",
    "    matching_events = get_recall_status(events, enc_labeled_events)\n",
    "    merged_yhat_events = pd.DataFrame(matching_events)\n",
    "    merged_yhat_events['yhat'] = yhat\n",
    "    merged_yhat_events_all.append(merged_yhat_events)\n",
    "\n",
    "merged_yhat_events_all = pd.concat(merged_yhat_events_all)"
   ]
  },
  {
   "cell_type": "code",
   "execution_count": 585,
   "metadata": {},
   "outputs": [],
   "source": [
    "aucs = []\n",
    "tc_nc_t = []\n",
    "sc_nc_t = []\n",
    "early_middle_t = []\n",
    "for i, s in enumerate(enc_sig_subjects):\n",
    "    x = merged_yhat_events_all[merged_yhat_events_all['subject']==s]\n",
    "    if s == 'LTP258':\n",
    "        # trial missing serialpos 1-10\n",
    "        x = x[~((x['session']==17)&(x['trial']==1))]\n",
    "    \n",
    "    aucs.append(np.mean([x['auc'] for x in encresults[i]]))\n",
    "    # tc vs. nc\n",
    "    t, p = sp.stats.ttest_ind(x['yhat'][x['cluster_type']=='TC'], \n",
    "                              x['yhat'][x['cluster_type']=='NC'])\n",
    "    tc_nc_t.append(t)\n",
    "    # sc vs. nc\n",
    "    t, p = sp.stats.ttest_ind(x['yhat'][x['cluster_type']=='SC'], \n",
    "                              x['yhat'][x['cluster_type']=='NC'])\n",
    "    sc_nc_t.append(t)\n",
    "    # early vs. middle\n",
    "    early = np.mean(np.array([x['yhat'][x['serialpos'].values==i] for i in range(1,5)]).T, 1)\n",
    "    middle = np.mean(np.array([x['yhat'][x['serialpos'].values==i] for i in range(5,21)]).T, 1)\n",
    "        \n",
    "    t, p = sp.stats.ttest_ind(early, middle)\n",
    "    early_middle_t.append(t)"
   ]
  },
  {
   "cell_type": "code",
   "execution_count": 586,
   "metadata": {},
   "outputs": [],
   "source": [
    "enc_stats = pd.DataFrame(data=enc_sig_subjects, columns=['subject'])\n",
    "enc_stats['prec'] = precs[np.in1d(FR2_valid_subjects, enc_sig_subjects)]\n",
    "enc_stats['primacy_factors'] = primacy_factors[np.in1d(FR2_valid_subjects, enc_sig_subjects)]\n",
    "enc_stats['temp_factors'] = temp_factors[np.in1d(FR2_valid_subjects, enc_sig_subjects)]\n",
    "enc_stats['sem_factors'] = sem_factors[np.in1d(FR2_valid_subjects, enc_sig_subjects)]\n",
    "enc_stats['auc'] = aucs\n",
    "enc_stats['tc_nc_t'] = tc_nc_t\n",
    "enc_stats['sc_nc_t'] = sc_nc_t\n",
    "enc_stats['early_middle_t'] = early_middle_t"
   ]
  },
  {
   "cell_type": "code",
   "execution_count": 591,
   "metadata": {},
   "outputs": [],
   "source": [
    "# pkl.dump(enc_stats, open('data/enc_corr_stats_resampled.pkl','wb'))"
   ]
  },
  {
   "cell_type": "code",
   "execution_count": 589,
   "metadata": {},
   "outputs": [
    {
     "name": "stdout",
     "output_type": "stream",
     "text": [
      "(0.2064469173846324, 0.05505032634969271)\n",
      "(0.3387846127747556, 0.00132851149781277)\n",
      "(0.23716669372656232, 0.026979990841425883)\n"
     ]
    }
   ],
   "source": [
    "print(sp.stats.pearsonr(enc_stats['early_middle_t'], enc_stats['primacy_factors']))\n",
    "print(sp.stats.pearsonr(enc_stats['tc_nc_t'], enc_stats['temp_factors']))\n",
    "print(sp.stats.pearsonr(enc_stats['sc_nc_t'], enc_stats['sem_factors']))"
   ]
  },
  {
   "cell_type": "code",
   "execution_count": 126,
   "metadata": {},
   "outputs": [
    {
     "data": {
      "image/png": "[encoded data removed]",
      "text/plain": [
       "<Figure size 720x216 with 3 Axes>"
      ]
     },
     "metadata": {
      "needs_background": "light"
     },
     "output_type": "display_data"
    }
   ],
   "source": [
    "fig, axes = plt.subplots(1, 3, figsize=[10,3])\n",
    "\n",
    "ax = axes[0]\n",
    "ax.scatter(enc_stats['early_middle_t'], enc_stats['primacy_factors'], color='black', s=23, alpha=0.3)\n",
    "ax.set_xlabel('Neural Primacy Score')\n",
    "ax.set_ylabel('Behavioral Primacy Score')\n",
    "ax.text(19, -0.072, r'$\\it{r}$'+'(86)=0.21\\n'+r'$\\it{p}$=0.055', ha='right', va='center', color='C0')\n",
    "ax.set_yticks(np.arange(-0.1, 0.41, 0.1))\n",
    "ax.text(-0.25, 1.09, 'A', transform=ax.transAxes, fontsize=14, fontweight='bold', va='top', ha='right')\n",
    "\n",
    "ax = axes[1]\n",
    "ax.scatter(enc_stats['tc_nc_t'], enc_stats['temp_factors'], color='black', s=23, alpha=0.3)\n",
    "ax.set_xlabel('Neural Temporal Clustering Score')\n",
    "ax.set_ylabel('Behavioral Temporal\\nClustering Score')\n",
    "ax.text(13.2, 0.55, r'$\\it{r}$'+'(86)=0.34\\n'+r'$\\it{p}$=0.001', ha='right', va='center', color='C0')\n",
    "ax.set_yticks(np.arange(0.5, 1.01, 0.1))\n",
    "ax.text(-0.25, 1.09, 'B', transform=ax.transAxes, fontsize=14, fontweight='bold', va='top', ha='right')\n",
    "\n",
    "ax = axes[2]\n",
    "axes[2].scatter(enc_stats['sc_nc_t'], enc_stats['sem_factors'], color='black', s=23, alpha=0.3)\n",
    "ax.set_xlabel('Neural Semantic Clustering Score')\n",
    "ax.set_ylabel('Behavioral Semantic\\nClustering Score')\n",
    "ax.text(3.8, 0.52, r'$\\it{r}$'+'(86)=0.24\\n'+r'$\\it{p}$=0.027', ha='right', va='center', color='C0')\n",
    "ax.set_yticks(np.arange(0.5, 0.71, 0.05))\n",
    "ax.text(-0.25, 1.09, 'C', transform=ax.transAxes, fontsize=14, fontweight='bold', va='top', ha='right')\n",
    "\n",
    "fig.tight_layout()"
   ]
  },
  {
   "cell_type": "code",
   "execution_count": 127,
   "metadata": {},
   "outputs": [],
   "source": [
    "# fig.savefig('figures_final/corr_resample.pdf')"
   ]
  },
  {
   "cell_type": "markdown",
   "metadata": {},
   "source": [
    "#### test difference between correlations"
   ]
  },
  {
   "cell_type": "code",
   "execution_count": 3,
   "metadata": {},
   "outputs": [],
   "source": [
    "enc_stats_reampled = pkl.load(open('data/enc_corr_stats_resampled.pkl','rb'))\n",
    "enc_stats = pkl.load(open('data/enc_corr_stats.pkl','rb'))"
   ]
  },
  {
   "cell_type": "code",
   "execution_count": 4,
   "metadata": {},
   "outputs": [
    {
     "name": "stdout",
     "output_type": "stream",
     "text": [
      "(0.5620240950416232, 1.2147660024130266e-08)\n",
      "(0.20557733821526472, 0.054670015574951394)\n",
      "(0.2003606341998443, 0.06124776374621015)\n"
     ]
    }
   ],
   "source": [
    "print(sp.stats.pearsonr(enc_stats['early_middle_t'], enc_stats['primacy_factors']))\n",
    "print(sp.stats.pearsonr(enc_stats['tc_nc_t'], enc_stats['temp_factors']))\n",
    "print(sp.stats.pearsonr(enc_stats['sc_nc_t'], enc_stats['sem_factors']))"
   ]
  },
  {
   "cell_type": "code",
   "execution_count": 5,
   "metadata": {},
   "outputs": [
    {
     "name": "stdout",
     "output_type": "stream",
     "text": [
      "(0.2064469173846324, 0.05505032634969271)\n",
      "(0.3387846127747556, 0.00132851149781277)\n",
      "(0.23716669372656232, 0.026979990841425883)\n"
     ]
    }
   ],
   "source": [
    "print(sp.stats.pearsonr(enc_stats_reampled['early_middle_t'], enc_stats_reampled['primacy_factors']))\n",
    "print(sp.stats.pearsonr(enc_stats_reampled['tc_nc_t'], enc_stats_reampled['temp_factors']))\n",
    "print(sp.stats.pearsonr(enc_stats_reampled['sc_nc_t'], enc_stats_reampled['sem_factors']))"
   ]
  },
  {
   "cell_type": "code",
   "execution_count": 59,
   "metadata": {},
   "outputs": [],
   "source": [
    "def boot_corr_test(x, y1, y2, n_test=1000):\n",
    "    result = np.zeros(n_test)\n",
    "    n = len(x)\n",
    "    for i in range(n_test):\n",
    "        samples = np.random.choice(list(range(n)), size=n, replace=True)\n",
    "        cor1 = sp.stats.pearsonr(x[samples], y1[samples])[0]\n",
    "        cor2 = sp.stats.pearsonr(x[samples], y2[samples])[0]\n",
    "        result[i] = cor1-cor2\n",
    "    result = np.sort(result)\n",
    "    CI = [result[24], result[-25]]\n",
    "    return result, np.mean(result), CI"
   ]
  },
  {
   "cell_type": "code",
   "execution_count": 55,
   "metadata": {},
   "outputs": [
    {
     "data": {
      "text/plain": [
       "(0.3075080784031517, [0.1554525110533475, 0.4568611748546187])"
      ]
     },
     "execution_count": 55,
     "metadata": {},
     "output_type": "execute_result"
    }
   ],
   "source": [
    "boot_corr_test(x = enc_stats_reampled['primacy_factors'], \n",
    "               y1 = enc_stats['early_middle_t'],\n",
    "               y2 = enc_stats_reampled['early_middle_t'],\n",
    "               n_test=1000)"
   ]
  },
  {
   "cell_type": "code",
   "execution_count": 56,
   "metadata": {},
   "outputs": [
    {
     "data": {
      "text/plain": [
       "(-0.07749047655719636, [-0.19294964382075286, 0.04849788406973421])"
      ]
     },
     "execution_count": 56,
     "metadata": {},
     "output_type": "execute_result"
    }
   ],
   "source": [
    "boot_corr_test(x = enc_stats_reampled['temp_factors'], \n",
    "               y1 = enc_stats['tc_nc_t'],\n",
    "               y2 = enc_stats_reampled['tc_nc_t'],\n",
    "               n_test=1000)"
   ]
  },
  {
   "cell_type": "code",
   "execution_count": 57,
   "metadata": {},
   "outputs": [
    {
     "data": {
      "text/plain": [
       "(-0.06585436732636844, [-0.1611995072990193, 0.021070607226487292])"
      ]
     },
     "execution_count": 57,
     "metadata": {},
     "output_type": "execute_result"
    }
   ],
   "source": [
    "boot_corr_test(x = enc_stats_reampled['sem_factors'], \n",
    "               y1 = enc_stats['sc_nc_t'],\n",
    "               y2 = enc_stats_reampled['sc_nc_t'],\n",
    "               n_test=1000)"
   ]
  },
  {
   "cell_type": "code",
   "execution_count": null,
   "metadata": {},
   "outputs": [],
   "source": []
  },
  {
   "cell_type": "markdown",
   "metadata": {},
   "source": [
    "### null-classifiers by shuffling within session x serialpos"
   ]
  },
  {
   "cell_type": "code",
   "execution_count": null,
   "metadata": {},
   "outputs": [],
   "source": [
    "def FR2_classifier_shuffle_session_serialpos_nullauc(subject):\n",
    "    \n",
    "    # global flags\n",
    "    train_phase = 'ret'\n",
    "    test_phase = 'ret'\n",
    "    ret_type = ['ci', 'cp', 'ce', 'pe'][0] # 'correct vs. incorrect', 'correct vs. pli', 'correct vs. eli', 'pli vs. eli'\n",
    "    n_tests = 100\n",
    "    \n",
    "    train_label = 'recalled' if train_phase=='enc' else 'rec_label'\n",
    "    test_label = 'recalled' if test_phase=='enc' else 'rec_label'\n",
    "    \n",
    "    import pickle as pkl\n",
    "    import numpy as np\n",
    "    import pandas as pd\n",
    "    import xarray as xr\n",
    "    from sklearn.metrics import roc_auc_score\n",
    "    \n",
    "    from constants import best_C\n",
    "    from utils import load_feature, divide_folds, compute_activation, \\\n",
    "                      leave_one_session_out_forward_model\n",
    "    \n",
    "    def shuffle_labels(events):\n",
    "        shuffled_labels = np.zeros(len(events)).astype(int)\n",
    "        for s in np.unique(events['session']):\n",
    "            for sp in np.unique(events['serialpos']):\n",
    "                events_index = (events['session']==s) & (events['serialpos']==sp)\n",
    "                labels = events[events_index][train_label]\n",
    "                np.random.shuffle(labels)\n",
    "                shuffled_labels[events_index] = labels\n",
    "\n",
    "        events[train_label] = shuffled_labels\n",
    "        return events\n",
    "    \n",
    "    train_features = load_feature(subject, task_phase=train_phase, ret_type=ret_type,\n",
    "                                  exclude_sessions=[23], exclude_freq=[2.0], \n",
    "                                  exclude_peripheral_channels=True, stack_feature=True)\n",
    "    test_features = load_feature(subject, task_phase=test_phase, ret_type=ret_type,\n",
    "                                  exclude_sessions=[23], exclude_freq=[2.0], \n",
    "                                  exclude_peripheral_channels=True, stack_feature=True)\n",
    "    \n",
    "    # save a copy of original events\n",
    "    original_events = train_features.events.values.copy()\n",
    "    \n",
    "    # perform n_tests many of permutation tests\n",
    "    aucs_null = np.zeros(n_tests)\n",
    "    for i in range(len(aucs_null)):\n",
    "\n",
    "        shuffled_events = shuffle_labels(original_events.copy(), train_label)\n",
    "        train_features.coords['events'] = shuffled_events\n",
    "\n",
    "        y_hat, y, weights, activations = leave_one_session_out_forward_model(train_features=train_features, \n",
    "                                                                             train_label=train_label, \n",
    "                                                                             test_features=test_features, \n",
    "                                                                             test_label=test_label,\n",
    "                                                                             C=best_C)\n",
    "        aucs_null[i] = roc_auc_score(y, y_hat)\n",
    "    \n",
    "    print(aucs_null)\n",
    "    \n",
    "    if train_phase == 'ret':\n",
    "        train_phase = train_phase + ret_type\n",
    "    if test_phase == 'ret':\n",
    "        test_phase = test_phase + ret_type\n",
    "\n",
    "    outputf = 'scratch/mtpower/%s/%s_%s_%s_sessspshuffle_null_aucs.npy' % (subject, subject, train_phase, test_phase)\n",
    "    # np.save(outputf, aucs_null)"
   ]
  },
  {
   "cell_type": "code",
   "execution_count": 128,
   "metadata": {},
   "outputs": [],
   "source": [
    "def test_clsf_significance_sessspshuffle(trainphase, testphase):\n",
    "    \n",
    "    def binomial_test(pvals, alpha=0.05):\n",
    "        count = (pvals < alpha).sum()\n",
    "        group_p = sp.stats.binom_test(count, len(pvals), 0.05, alternative='greater')\n",
    "        return group_p\n",
    "    \n",
    "    subjects = FR2_valid_subjects\n",
    "    print('Evaluating FR2 classifier performance for %d subjects...' % (len(subjects)))\n",
    "    print('    Train phase: %s    Test phase: %s' % (trainphase, testphase))\n",
    "    \n",
    "    true_aucs = np.load('scratch/mtpower/%s_%s_auc.npy'%(trainphase, testphase))\n",
    "    print('    Mean AUC:', '%.2f'%np.mean(true_aucs), '  +-SE:', sp.stats.sem(true_aucs))\n",
    "    \n",
    "    null_aucs = np.array([np.load('scratch/mtpower/%s/%s_%s_%s_sessspshuffle_null_aucs.npy'% (subject, subject, trainphase, testphase))\n",
    "                          for subject in subjects])\n",
    "    \n",
    "    pvals = np.array([ (null_aucs[i]>true_aucs[i]).sum()/float(len(null_aucs)) for i in range(len(true_aucs))])\n",
    "    all_alpha = [0.01, 0.05]\n",
    "    counts = []\n",
    "    \n",
    "    for alpha in all_alpha:\n",
    "        count = (pvals < alpha).sum()\n",
    "        counts.append(count)\n",
    "    \n",
    "    # remove overlaps \n",
    "    # - those who are significant at 0.001 are subtracted from 0.01 and 0.05\n",
    "    # - those who are significant at 0.01 are subtracted from 0.05\n",
    "    counts[1] = counts[1]-counts[0]\n",
    "    \n",
    "    for i, alpha in enumerate(all_alpha):\n",
    "        print('    alpha=%.03f: \\t %0.2f significant' % (alpha, counts[i]))\n",
    "    \n",
    "    print('    p<0.05: ', len(subjects[pvals<0.05])) # subjects[pvals<0.05])\n",
    "    \n",
    "    group_p = binomial_test(pvals)\n",
    "    print('    group binomial test:  p=%.11f, %s' % (group_p, 'significant' if group_p<0.05 else'non significant'))\n",
    "    group_t, group_p = scipy.stats.ttest_rel(true_aucs, null_aucs.mean(1))\n",
    "    print('    group t-test: t=%f, p=%f, %s' % (group_t, group_p, 'significant' if group_p<0.05 else'non significant'))\n",
    "    \n",
    "    return (subjects[pvals<0.05], subjects[pvals>=0.05])"
   ]
  },
  {
   "cell_type": "code",
   "execution_count": 131,
   "metadata": {},
   "outputs": [
    {
     "name": "stdout",
     "output_type": "stream",
     "text": [
      "Evaluating FR2 classifier performance for 88 subjects...\n",
      "    Train phase: enc    Test phase: enc\n",
      "    Mean AUC: 0.60   +-SE: 0.003678861857653041\n",
      "    alpha=0.010: \t 88.00 significant\n",
      "    alpha=0.050: \t 0.00 significant\n",
      "    p<0.05:  88\n",
      "    group binomial test:  p=0.00000000000, significant\n",
      "    group t-test: t=20.057623, p=0.000000, significant\n"
     ]
    }
   ],
   "source": [
    "x = test_clsf_significance_sessspshuffle('enc', 'enc')"
   ]
  },
  {
   "cell_type": "code",
   "execution_count": 3,
   "metadata": {},
   "outputs": [
    {
     "data": {
      "image/png": "[encoded data removed]",
      "text/plain": [
       "<Figure size 144x86.4 with 1 Axes>"
      ]
     },
     "metadata": {
      "needs_background": "light"
     },
     "output_type": "display_data"
    }
   ],
   "source": [
    "phase = 'enc'\n",
    "observed_aucs = np.load('scratch/mtpower/%s_%s_auc.npy'%(phase, phase))\n",
    "null_aucs = np.array([np.load('scratch/mtpower/%s/%s_%s_%s_sessspshuffle_null_aucs.npy'%(s,s,phase,phase)).mean()\n",
    "                      for s in FR2_valid_subjects])\n",
    "fig, ax = plot_auc_null(observed_aucs, null_aucs)\n",
    "\n",
    "# fig.savefig('figures_final/clsf_sessspshuffle_%s_aucnull.pdf'%phase)"
   ]
  },
  {
   "cell_type": "code",
   "execution_count": 4,
   "metadata": {},
   "outputs": [
    {
     "name": "stdout",
     "output_type": "stream",
     "text": [
      "0.5460118734036168 0.0036215148478131727\n"
     ]
    }
   ],
   "source": [
    "print(np.mean(null_aucs), sp.stats.sem(null_aucs))"
   ]
  },
  {
   "cell_type": "code",
   "execution_count": null,
   "metadata": {},
   "outputs": [],
   "source": []
  },
  {
   "cell_type": "markdown",
   "metadata": {},
   "source": [
    "### compare original classifier outcomes for forgotten words in serialpos 7 and remembered words in serialpos 17"
   ]
  },
  {
   "cell_type": "code",
   "execution_count": 62,
   "metadata": {},
   "outputs": [],
   "source": [
    "encresults = [pkl.load(open('scratch/mtpower/%s/%s_enc_enc_clsf_result.pkl'%(subject,subject),'rb')) \n",
    "               for subject in FR2_valid_subjects]"
   ]
  },
  {
   "cell_type": "code",
   "execution_count": 63,
   "metadata": {},
   "outputs": [],
   "source": [
    "sp7forgotten = []\n",
    "sp17remember = []\n",
    "for i, subject in enumerate(FR2_valid_subjects):\n",
    "    yhat = encresults[i]['yhat']\n",
    "    events = encresults[i]['events']\n",
    "    x = yhat[(events['serialpos']==7)&(events['recalled']==0)]\n",
    "    y = yhat[(events['serialpos']==17)&(events['recalled']==1)]\n",
    "    sp7forgotten.append(x.mean())\n",
    "    sp17remember.append(y.mean())"
   ]
  },
  {
   "cell_type": "code",
   "execution_count": 64,
   "metadata": {},
   "outputs": [
    {
     "data": {
      "text/plain": [
       "Ttest_relResult(statistic=-2.676032196239318, pvalue=0.008901492117129569)"
      ]
     },
     "execution_count": 64,
     "metadata": {},
     "output_type": "execute_result"
    }
   ],
   "source": [
    "scipy.stats.ttest_rel(sp7forgotten, sp17remember)"
   ]
  },
  {
   "cell_type": "code",
   "execution_count": 65,
   "metadata": {},
   "outputs": [
    {
     "data": {
      "text/plain": [
       "Text(0, 0.5, 'Classifier Output')"
      ]
     },
     "execution_count": 65,
     "metadata": {},
     "output_type": "execute_result"
    },
    {
     "data": {
      "image/png": "[encoded data removed]",
      "text/plain": [
       "<Figure size 432x288 with 1 Axes>"
      ]
     },
     "metadata": {
      "needs_background": "light"
     },
     "output_type": "display_data"
    }
   ],
   "source": [
    "fig, ax = plt.subplots()\n",
    "ax.errorbar([0,1], [np.mean(sp7forgotten), np.mean(sp17remember)], yerr=[scipy.stats.sem(sp7forgotten), scipy.stats.sem(sp17remember)])\n",
    "ax.set_xticks([0,1])\n",
    "ax.set_xticklabels(['serialpos 7\\nforgotten words','serialpos 17\\nremembered words'])\n",
    "ax.set_xlim([-0.5,1.5])\n",
    "ax.set_ylabel('Classifier Output')"
   ]
  },
  {
   "cell_type": "code",
   "execution_count": 577,
   "metadata": {},
   "outputs": [],
   "source": [
    "# fig.savefig('figures_final/7n17.pdf')"
   ]
  },
  {
   "cell_type": "markdown",
   "metadata": {},
   "source": [
    "### alternative classification: one per list position"
   ]
  },
  {
   "cell_type": "code",
   "execution_count": null,
   "metadata": {},
   "outputs": [],
   "source": [
    "def FR2_individual_classifier_persp(subject):\n",
    "    \n",
    "    # global flags\n",
    "    train_phase = 'enc'\n",
    "    test_phase = 'ret'\n",
    "    ret_type = ['ci', 'cp', 'ce', 'pe'][0] # 'correct vs. incorrect', 'correct vs. pli', 'correct vs. eli', 'pli vs. eli'\n",
    "\n",
    "    import pickle as pkl\n",
    "    import numpy as np\n",
    "    import pandas as pd\n",
    "    import xarray as xr\n",
    "    from sklearn.metrics import roc_auc_score\n",
    "    \n",
    "    from constants import best_C\n",
    "    from utils import load_feature, divide_folds, compute_activation, leave_one_session_out_forward_model\n",
    "\n",
    "    train_features = load_feature(subject, task_phase=train_phase, ret_type=ret_type,\n",
    "                                  exclude_sessions=[23], exclude_freq=[2.0], \n",
    "                                  exclude_peripheral_channels=True, stack_feature=True)\n",
    "    test_features = load_feature(subject, task_phase=test_phase, ret_type=ret_type,\n",
    "                                  exclude_sessions=[23], exclude_freq=[2.0], \n",
    "                                  exclude_peripheral_channels=True, stack_feature=True)\n",
    "    \n",
    "    train_label = 'recalled' if train_phase=='enc' else 'rec_label'\n",
    "    test_label = 'recalled' if test_phase=='enc' else 'rec_label'\n",
    "    \n",
    "    for serialpos in range(1,25):\n",
    "        \n",
    "        train_features = train_features.sel(events=train_features.events.values['serialpos']==serialpos)\n",
    "        test_features = test_features.sel(events=test_features.events.values['serialpos']==serialpos)\n",
    "        \n",
    "        y_hat, y, weights, activations = leave_one_session_out_forward_model(train_features=train_features, \n",
    "                                                                             train_label=train_label, \n",
    "                                                                             test_features=test_features, \n",
    "                                                                             test_label=test_label,\n",
    "                                                                             C=best_C)\n",
    "        # compute average weights and average activation values\n",
    "        avgW = xr.DataArray(weights.mean(0), dims=('features'), coords={'features':test_features.features})\n",
    "        avgW = avgW.unstack('features')\n",
    "        avgA = xr.DataArray(activations.mean(0), dims=('features'), coords={'features':test_features.features})\n",
    "        avgA = avgA.unstack('features')\n",
    "\n",
    "        auc = roc_auc_score(y, y_hat)\n",
    "\n",
    "        subject_loso_result = {}\n",
    "        subject_loso_result['auc'] = auc\n",
    "        subject_loso_result['y'] = y\n",
    "        subject_loso_result['yhat'] = y_hat\n",
    "        subject_loso_result['events'] = test_features.events.values\n",
    "        subject_loso_result['avgW'] = avgW\n",
    "        subject_loso_result['avgA'] = avgA\n",
    "\n",
    "        if train_phase == 'ret':\n",
    "            train_phase = train_phase + ret_type\n",
    "        if test_phase == 'ret':\n",
    "            test_phase = test_phase + ret_type\n",
    "\n",
    "        outputf = 'scratch/mtpower/%s/%s_%s_%s_sp%d_clsf_result.pkl' % (subject, subject, train_phase, test_phase, serialpos)\n",
    "        # pkl.dump(subject_loso_result, open(outputf, 'wb'))\n",
    "        \n",
    "def FR2_individual_classifier_listpos(subject):\n",
    "    \n",
    "    # global flags\n",
    "    train_phase = 'enc'\n",
    "    test_phase = 'ret'\n",
    "    ret_type = ['ci', 'cp', 'ce', 'pe'][0] # 'correct vs. incorrect', 'correct vs. pli', 'correct vs. eli', 'pli vs. eli'\n",
    "\n",
    "    import pickle as pkl\n",
    "    import numpy as np\n",
    "    import pandas as pd\n",
    "    import xarray as xr\n",
    "    from sklearn.metrics import roc_auc_score\n",
    "    \n",
    "    from constants import best_C\n",
    "    from utils import load_feature, divide_folds, compute_activation, leave_one_session_out_forward_model\n",
    "\n",
    "    train_features = load_feature(subject, task_phase=train_phase, ret_type=ret_type,\n",
    "                                  exclude_sessions=[23], exclude_freq=[2.0], \n",
    "                                  exclude_peripheral_channels=True, stack_feature=True)\n",
    "    test_features = load_feature(subject, task_phase=test_phase, ret_type=ret_type,\n",
    "                                  exclude_sessions=[23], exclude_freq=[2.0], \n",
    "                                  exclude_peripheral_channels=True, stack_feature=True)\n",
    "    \n",
    "    train_label = 'recalled' if train_phase=='enc' else 'rec_label'\n",
    "    test_label = 'recalled' if test_phase=='enc' else 'rec_label'\n",
    "    \n",
    "    # truncate the events within a serialposition range or recall time range\n",
    "    if train_phase=='enc':\n",
    "        train_features = train_features.sel(events=(train_features.events.values['serialpos']>=21)&(train_features.events.values['serialpos']<=24))\n",
    "    if test_phase=='enc':\n",
    "        test_features = test_features.sel(events=(test_features.events.values['serialpos']>=21)&(test_features.events.values['serialpos']<=24))\n",
    "    if train_phase=='ret':\n",
    "        train_features = train_features.sel(events=(train_features.events.values['rectime']>52500)&(train_features.events.values['rectime']<=75000))\n",
    "    if test_phase=='ret':\n",
    "        test_features = test_features.sel(events=(test_features.events.values['rectime']>52500)&(test_features.events.values['rectime']<=75000))\n",
    "\n",
    "    y_hat, y, weights, activations = leave_one_session_out_forward_model(train_features=train_features, \n",
    "                                                                         train_label=train_label, \n",
    "                                                                         test_features=test_features, \n",
    "                                                                         test_label=test_label,\n",
    "                                                                         C=best_C)\n",
    "    # compute average weights and average activation values\n",
    "    avgW = xr.DataArray(weights.mean(0), dims=('features'), coords={'features':test_features.features})\n",
    "    avgW = avgW.unstack('features')\n",
    "    avgA = xr.DataArray(activations.mean(0), dims=('features'), coords={'features':test_features.features})\n",
    "    avgA = avgA.unstack('features')\n",
    "\n",
    "    auc = roc_auc_score(y, y_hat)\n",
    "\n",
    "    subject_loso_result = {}\n",
    "    subject_loso_result['auc'] = auc\n",
    "    subject_loso_result['y'] = y\n",
    "    subject_loso_result['yhat'] = y_hat\n",
    "    subject_loso_result['events'] = test_features.events.values\n",
    "    subject_loso_result['avgW'] = avgW\n",
    "    subject_loso_result['avgA'] = avgA\n",
    "\n",
    "    if train_phase == 'ret':\n",
    "        train_phase = train_phase + ret_type\n",
    "    if test_phase == 'ret':\n",
    "        test_phase = test_phase + ret_type\n",
    "\n",
    "    # outputf = 'scratch/mtpower/%s/%s_%s_%s_sp21-24_clsf_result.pkl' % (subject, subject, train_phase, test_phase)\n",
    "    outputf = 'scratch/mtpower/%s/%s_%s_%s_rt52500-75000_clsf_result.pkl' % (subject, subject, train_phase, test_phase)\n",
    "    # pkl.dump(subject_loso_result, open(outputf, 'wb'))"
   ]
  },
  {
   "cell_type": "code",
   "execution_count": null,
   "metadata": {
    "tags": []
   },
   "outputs": [],
   "source": [
    "subjects = FR2_valid_subjects\n",
    "njobs = len(subjects)\n",
    "cpj = 1\n",
    "with cluster_helper.cluster.cluster_view(scheduler='sge', queue='RAM.q', \n",
    "                                         num_jobs=njobs, cores_per_job=cpj) as view:\n",
    "    result = view.map(FR2_individual_classifier_listpos, subjects)"
   ]
  },
  {
   "cell_type": "code",
   "execution_count": 23,
   "metadata": {},
   "outputs": [],
   "source": [
    "# concat auc across all\n",
    "\n",
    "phase = 'enc'\n",
    "sp_aucs = np.ones((24, 88)) * np.nan\n",
    "for sp in range(1,25):\n",
    "    for i, subject in enumerate(FR2_valid_subjects):\n",
    "        f = 'scratch/mtpower/%s/%s_%s_%s_sp%d_clsf_result.pkl' % (subject, subject, phase, phase, sp)\n",
    "        sp_aucs[sp-1, i] = pkl.load(open(f, 'rb'))['auc']"
   ]
  },
  {
   "cell_type": "code",
   "execution_count": 24,
   "metadata": {},
   "outputs": [
    {
     "data": {
      "text/plain": [
       "(0.5, 0.6)"
      ]
     },
     "execution_count": 24,
     "metadata": {},
     "output_type": "execute_result"
    },
    {
     "data": {
      "image/png": "[encoded data removed]",
      "text/plain": [
       "<Figure size 432x288 with 1 Axes>"
      ]
     },
     "metadata": {
      "needs_background": "light"
     },
     "output_type": "display_data"
    }
   ],
   "source": [
    "fig, ax = plt.subplots()\n",
    "ax.plot(range(1,25), sp_aucs.mean(1), color='k')\n",
    "ax.errorbar(range(1,25), sp_aucs.mean(1), yerr=scipy.stats.sem(sp_aucs, 1), color='k')\n",
    "ax.set_ylim((0.5, 0.6))"
   ]
  },
  {
   "cell_type": "code",
   "execution_count": 44,
   "metadata": {},
   "outputs": [
    {
     "data": {
      "image/png": "[encoded data removed]",
      "text/plain": [
       "<Figure size 331.2x288 with 2 Axes>"
      ]
     },
     "metadata": {
      "needs_background": "light"
     },
     "output_type": "display_data"
    }
   ],
   "source": [
    "phase = 'enc'\n",
    "\n",
    "result = []\n",
    "for subject in FR2_valid_subjects:\n",
    "\n",
    "    try:\n",
    "        f = 'scratch/mtpower/%s/%s_%s_%s_rt52500-75000_clsf_result.pkl' % (subject, subject, phase, phase)\n",
    "        values = pkl.load(open(f, 'rb'))['avgA']\n",
    "\n",
    "        values = split_ROIs(values, sys='biosemi' if int(subject[-3:])>330 else 'egi')\n",
    "        result.append(values)\n",
    "    except:\n",
    "        continue\n",
    "\n",
    "fig, ax = plot_heatmap_contrast(result, vmin=-1.2, vmax=1.2)\n",
    "# fig.savefig('figures/clsf_ret_rt52500-75000.pdf')"
   ]
  },
  {
   "cell_type": "code",
   "execution_count": null,
   "metadata": {},
   "outputs": [],
   "source": []
  },
  {
   "cell_type": "markdown",
   "metadata": {},
   "source": [
    "### Classification with L1 penalty"
   ]
  },
  {
   "cell_type": "code",
   "execution_count": null,
   "metadata": {},
   "outputs": [],
   "source": [
    "def search_regularization_hyperparam(sys='egi'):\n",
    "    \n",
    "    import warnings\n",
    "    warnings.filterwarnings('ignore')\n",
    "    from sklearn.linear_model import LogisticRegression\n",
    "    from sklearn.metrics import auc, roc_curve, roc_auc_score\n",
    "    \n",
    "    from constants import non_peripheral_egi, non_peripheral_biosemi\n",
    "    from utils import special_concat, load_feature\n",
    "    \n",
    "    # use the 24th session to search for good inverse regularization param\n",
    "    # separately for egi and biosemi sessions\n",
    "    \n",
    "    # candidate Cs\n",
    "    Cs = np.logspace(np.log10(1e-7),np.log10(1e0), num = 10)\n",
    "    \n",
    "    if sys == 'egi':\n",
    "        subjects_all = FR2_valid_subjects[:53]\n",
    "    \n",
    "    elif sys == 'biosemi':\n",
    "        subjects_all = FR2_valid_subjects[53:]\n",
    "    \n",
    "    def get_enc_features():\n",
    "        # 24th session from all participants + leave one subject out\n",
    "        \n",
    "        power_all = []\n",
    "        for subject in subjects_all:\n",
    "            x = load_feature(subject, task_phase='enc', \n",
    "                             exclude_peripheral_channels=True, stack_feature=True)\n",
    "            \n",
    "            if 23 not in np.unique(x.events.values['session']): continue\n",
    "            x = x.sel(events=x.events.values['session']==23)\n",
    "            power_all.append(x)\n",
    "        \n",
    "        power_all = special_concat(power_all)\n",
    "        return power_all\n",
    "    \n",
    "    def divide_folds(subjects, nfold):\n",
    "        n = int(np.floor(len(subjects) / nfold))\n",
    "        folds = []\n",
    "        for i in range(0, len(subjects), n):\n",
    "            folds.append(subjects[i:i+n])\n",
    "        return np.array(folds)\n",
    "    \n",
    "    def leave_one_subject_out(train_features, test_features, C):\n",
    "        \n",
    "        probas = np.empty(len(test_features)) # however many events in data\n",
    "        labels = np.empty(len(test_features))\n",
    "        probas.fill(np.nan)\n",
    "        labels.fill(np.nan)\n",
    "        \n",
    "        folds = divide_folds(np.unique(train_features.events.values['subject']),\n",
    "                             len(np.unique(train_features.events.values['subject']))) # LOSO\n",
    "\n",
    "        for fold in folds:\n",
    "\n",
    "            train = np.array([False if s in fold else True for s in train_features.events.values['subject']])\n",
    "            test = np.array([True if s in fold else False for s in test_features.events.values['subject']])\n",
    "\n",
    "            train_data = train_features.sel(events=train).copy()\n",
    "            test_data = test_features.sel(events=test).copy()\n",
    "\n",
    "            X = train_data.values\n",
    "            y = train_data.events.values['recalled']\n",
    "\n",
    "            lr = LogisticRegression(C=C, class_weight='balanced',\n",
    "                                    penalty='l1', solver='liblinear')\n",
    "            lr = lr.fit(X, y)\n",
    "\n",
    "            probas[test] = lr.predict_proba(test_data)[:, 1]\n",
    "            labels[test] = test_data.events.values['recalled']\n",
    "\n",
    "        return (probas, labels)\n",
    "    \n",
    "    train_features = get_enc_features()\n",
    "    test_features = train_features.copy()\n",
    "    \n",
    "    aucs = {}\n",
    "    for i, C in enumerate(Cs):\n",
    "        print(C)\n",
    "        y_hat, y = leave_one_subject_out(train_features=train_features, \n",
    "                                         test_features=test_features,\n",
    "                                         C=C)\n",
    "        auc = roc_auc_score(y, y_hat)\n",
    "        aucs[i] = {'C':C, 'auc':auc}\n",
    "        \n",
    "    return aucs"
   ]
  },
  {
   "cell_type": "code",
   "execution_count": null,
   "metadata": {},
   "outputs": [
    {
     "name": "stdout",
     "output_type": "stream",
     "text": [
      "1e-07\n",
      "5.994842503189409e-07\n",
      "3.5938136638046257e-06\n",
      "2.1544346900318867e-05\n",
      "0.0001291549665014884\n",
      "0.000774263682681127\n",
      "0.004641588833612782\n"
     ]
    }
   ],
   "source": [
    "egi_aucs = search_regularization_hyperparam(sys='egi')\n",
    "biosemi_aucs = search_regularization_hyperparam(sys='biosemi')"
   ]
  },
  {
   "cell_type": "code",
   "execution_count": null,
   "metadata": {},
   "outputs": [],
   "source": [
    "# egi_aucs\n",
    "# {0: {'C': 1e-07, 'auc': 0.5},\n",
    "#  1: {'C': 5.994842503189409e-07, 'auc': 0.5},\n",
    "#  2: {'C': 3.5938136638046257e-06, 'auc': 0.5},\n",
    "#  3: {'C': 2.1544346900318867e-05, 'auc': 0.5},\n",
    "#  4: {'C': 0.0001291549665014884, 'auc': 0.5},\n",
    "#  5: {'C': 0.000774263682681127, 'auc': 0.5},\n",
    "#  6: {'C': 0.004641588833612782, 'auc': 0.5488933406861408},\n",
    "#  7: {'C': 0.02782559402207126, 'auc': 0.5436093384953409},\n",
    "#  8: {'C': 0.1668100537200059, 'auc': 0.5297229723214072}}"
   ]
  },
  {
   "cell_type": "code",
   "execution_count": null,
   "metadata": {},
   "outputs": [],
   "source": [
    "# biosemi_aucs\n",
    "# {0: {'C': 1e-07, 'auc': 0.5},\n",
    "#  1: {'C': 5.994842503189409e-07, 'auc': 0.5},\n",
    "#  2: {'C': 3.5938136638046257e-06, 'auc': 0.5},\n",
    "#  3: {'C': 2.1544346900318867e-05, 'auc': 0.5},\n",
    "#  4: {'C': 0.0001291549665014884, 'auc': 0.5},\n",
    "#  5: {'C': 0.000774263682681127, 'auc': 0.5},\n",
    "#  6: {'C': 0.004641588833612782, 'auc': 0.5445443713204438},\n",
    "#  7: {'C': 0.02782559402207126, 'auc': 0.5399761538997616},\n",
    "#  8: {'C': 0.1668100537200059, 'auc': 0.5184124643091247}}"
   ]
  },
  {
   "cell_type": "code",
   "execution_count": 137,
   "metadata": {},
   "outputs": [],
   "source": [
    "def FR2_individual_classifier_l1_penalty(subject):\n",
    "    \n",
    "    # global flags\n",
    "    train_phase = 'enc'\n",
    "    test_phase = 'ret'\n",
    "    ret_type = ['ci', 'cp', 'ce', 'pe'][0] # 'correct vs. incorrect', 'correct vs. pli', 'correct vs. eli', 'pli vs. eli'\n",
    "\n",
    "    import pickle as pkl\n",
    "    import numpy as np\n",
    "    import pandas as pd\n",
    "    import xarray as xr\n",
    "    from sklearn.metrics import roc_auc_score\n",
    "    \n",
    "    from utils import load_feature, divide_folds, compute_activation, leave_one_session_out_forward_model\n",
    "\n",
    "    train_features = load_feature(subject, task_phase=train_phase, ret_type=ret_type,\n",
    "                                  exclude_sessions=[23], exclude_freq=[2.0], \n",
    "                                  exclude_peripheral_channels=True, stack_feature=True)\n",
    "    test_features = load_feature(subject, task_phase=test_phase, ret_type=ret_type,\n",
    "                                  exclude_sessions=[23], exclude_freq=[2.0], \n",
    "                                  exclude_peripheral_channels=True, stack_feature=True)\n",
    "    \n",
    "    train_label = 'recalled' if train_phase=='enc' else 'rec_label'\n",
    "    test_label = 'recalled' if test_phase=='enc' else 'rec_label'\n",
    "    \n",
    "    y_hat, y, weights, activations = leave_one_session_out_forward_model(train_features=train_features, \n",
    "                                                                         train_label=train_label, \n",
    "                                                                         test_features=test_features, \n",
    "                                                                         test_label=test_label,\n",
    "                                                                         C=np.logspace(np.log10(1e-7),np.log10(1e0),num=10)[6],\n",
    "                                                                         regularization='l1')\n",
    "    # compute average weights and average activation values\n",
    "    avgW = xr.DataArray(weights.mean(0), dims=('features'), coords={'features':test_features.features})\n",
    "    avgW = avgW.unstack('features')\n",
    "    avgA = xr.DataArray(activations.mean(0), dims=('features'), coords={'features':test_features.features})\n",
    "    avgA = avgA.unstack('features')\n",
    "    \n",
    "    auc = roc_auc_score(y, y_hat)\n",
    "    \n",
    "    subject_loso_result = {}\n",
    "    subject_loso_result['auc'] = auc\n",
    "    subject_loso_result['y'] = y\n",
    "    subject_loso_result['yhat'] = y_hat\n",
    "    subject_loso_result['events'] = test_features.events.values\n",
    "    subject_loso_result['avgW'] = avgW\n",
    "    subject_loso_result['avgA'] = avgA\n",
    "    \n",
    "    if train_phase == 'ret':\n",
    "        train_phase = train_phase + ret_type\n",
    "    if test_phase == 'ret':\n",
    "        test_phase = test_phase + ret_type\n",
    "\n",
    "    outputf = 'scratch/mtpower/%s/%s_%s_%s_l1_clsf_result.pkl' % (subject, subject, train_phase, test_phase)\n",
    "    # pkl.dump(subject_loso_result, open(outputf, 'wb'))\n",
    "    \n",
    "    return auc\n",
    "\n",
    "def FR2_individual_classifier_l1_nullauc(subject):\n",
    "    \n",
    "    # global flags\n",
    "    train_phase = 'enc'\n",
    "    test_phase = 'enc'\n",
    "    ret_type = ['ci', 'cp', 'ce', 'pe'][0] # 'correct vs. incorrect', 'correct vs. pli', 'correct vs. eli', 'pli vs. eli'\n",
    "    n_tests = 100\n",
    "    \n",
    "    import pickle as pkl\n",
    "    import numpy as np\n",
    "    import pandas as pd\n",
    "    import xarray as xr\n",
    "    from sklearn.metrics import roc_auc_score\n",
    "    \n",
    "    from utils import load_feature, divide_folds, compute_activation, \\\n",
    "                      leave_one_session_out_forward_model, shuffle_labels\n",
    "    \n",
    "    train_features = load_feature(subject, task_phase=train_phase, ret_type=ret_type,\n",
    "                                  exclude_sessions=[23], exclude_freq=[2.0], \n",
    "                                  exclude_peripheral_channels=True, stack_feature=True)\n",
    "    test_features = load_feature(subject, task_phase=test_phase, ret_type=ret_type,\n",
    "                                  exclude_sessions=[23], exclude_freq=[2.0], \n",
    "                                  exclude_peripheral_channels=True, stack_feature=True)\n",
    "    \n",
    "    train_label = 'recalled' if train_phase=='enc' else 'rec_label'\n",
    "    test_label = 'recalled' if test_phase=='enc' else 'rec_label'\n",
    "    \n",
    "    # save a copy of original events\n",
    "    original_events = train_features.events.values.copy()\n",
    "    \n",
    "    # perform n_tests many of permutation tests\n",
    "    aucs_null = np.zeros(n_tests)\n",
    "    for i in range(len(aucs_null)):\n",
    "\n",
    "        shuffled_events = shuffle_labels(original_events.copy(), train_label)\n",
    "        train_features.coords['events'] = shuffled_events\n",
    "\n",
    "        y_hat, y, weights, activations = leave_one_session_out_forward_model(train_features=train_features, \n",
    "                                                                             train_label=train_label, \n",
    "                                                                             test_features=test_features, \n",
    "                                                                             test_label=test_label,\n",
    "                                                                             C=np.logspace(np.log10(1e-7),np.log10(1e0),num=10)[6],\n",
    "                                                                             regularization='l1')\n",
    "        aucs_null[i] = roc_auc_score(y, y_hat)\n",
    "    \n",
    "    if train_phase == 'ret':\n",
    "        train_phase = train_phase + ret_type\n",
    "    if test_phase == 'ret':\n",
    "        test_phase = test_phase + ret_type\n",
    "\n",
    "    outputf = 'scratch/mtpower/%s/%s_%s_%s_l1_null_aucs.npy' % (subject, subject, train_phase, test_phase)\n",
    "    # np.save(outputf, aucs_null)\n",
    "    \n",
    "def test_l1_clsf_significance(trainphase, testphase):\n",
    "    \n",
    "    def binomial_test(pvals, alpha=0.05):\n",
    "        count = (pvals < alpha).sum()\n",
    "        group_p = sp.stats.binom_test(count, len(pvals), 0.05, alternative='greater')\n",
    "        return group_p\n",
    "    \n",
    "    subjects = FR2_valid_subjects\n",
    "    print('Evaluating FR2 L1 classifier performance for %d subjects...' % (len(subjects)))\n",
    "    print('    Train phase: %s    Test phase: %s' % (trainphase, testphase))\n",
    "    \n",
    "    true_aucs = np.load('scratch/mtpower/%s_%s_l1_auc.npy'%(trainphase, testphase))\n",
    "    print('    Mean AUC:', '%.2f'%np.mean(true_aucs), '  +-SE:', sp.stats.sem(true_aucs))\n",
    "    \n",
    "    null_aucs = np.array([np.load('scratch/mtpower/%s/%s_%s_%s_l1_null_aucs.npy'% (subject, subject, trainphase, testphase))\n",
    "                          for subject in subjects])\n",
    "    \n",
    "    pvals = np.array([ (null_aucs[i]>true_aucs[i]).sum()/float(len(null_aucs)) for i in range(len(true_aucs))])\n",
    "    all_alpha = [0.01, 0.05]\n",
    "    counts = []\n",
    "    \n",
    "    for alpha in all_alpha:\n",
    "        count = (pvals < alpha).sum()\n",
    "        counts.append(count)\n",
    "    \n",
    "    # remove overlaps \n",
    "    # - those who are significant at 0.001 are subtracted from 0.01 and 0.05\n",
    "    # - those who are significant at 0.01 are subtracted from 0.05\n",
    "    counts[1] = counts[1]-counts[0]\n",
    "    \n",
    "    for i, alpha in enumerate(all_alpha):\n",
    "        print('    alpha=%.03f: \\t %0.2f significant' % (alpha, counts[i]))\n",
    "    \n",
    "    print('    p<0.05: ', len(subjects[pvals<0.05])) # subjects[pvals<0.05])\n",
    "    \n",
    "    group_p = binomial_test(pvals)\n",
    "    print('    group binomial test:  p=%.11f, %s' % (group_p, 'significant' if group_p<0.05 else'non significant'))\n",
    "    group_t, group_p = scipy.stats.ttest_rel(true_aucs, null_aucs.mean(1))\n",
    "    print('    group t-test: t=%f, p=%f, %s' % (group_t, group_p, 'significant' if group_p<0.05 else'non significant'))\n",
    "    \n",
    "    return (subjects[pvals<0.05], subjects[pvals>=0.05])"
   ]
  },
  {
   "cell_type": "code",
   "execution_count": 24,
   "metadata": {
    "collapsed": true,
    "jupyter": {
     "outputs_hidden": true
    },
    "tags": []
   },
   "outputs": [
    {
     "name": "stdout",
     "output_type": "stream",
     "text": [
      "57 Engines running\n",
      "Sending a shutdown signal to the controller and engines.\n"
     ]
    },
    {
     "ename": "OSError",
     "evalue": "[Errno 16] Device or resource busy: '.nfs0000004a00c818100000ef09'",
     "output_type": "error",
     "traceback": [
      "\u001b[0;31m---------------------------------------------------------------------------\u001b[0m",
      "\u001b[0;31mOSError\u001b[0m                                   Traceback (most recent call last)",
      "\u001b[0;32m<ipython-input-24-77b8ef8c91aa>\u001b[0m in \u001b[0;36m<module>\u001b[0;34m\u001b[0m\n\u001b[1;32m      4\u001b[0m with cluster_helper.cluster.cluster_view(scheduler='sge', queue='RAM.q', \n\u001b[1;32m      5\u001b[0m                                          num_jobs=njobs, cores_per_job=cpj) as view:\n\u001b[0;32m----> 6\u001b[0;31m     \u001b[0mresult\u001b[0m \u001b[0;34m=\u001b[0m \u001b[0mview\u001b[0m\u001b[0;34m.\u001b[0m\u001b[0mmap\u001b[0m\u001b[0;34m(\u001b[0m\u001b[0mFR2_classifier\u001b[0m\u001b[0;34m,\u001b[0m \u001b[0msubjects\u001b[0m\u001b[0;34m)\u001b[0m\u001b[0;34m\u001b[0m\u001b[0;34m\u001b[0m\u001b[0m\n\u001b[0m",
      "\u001b[0;32m~/anaconda3/envs/PTSA3.6/lib/python3.6/contextlib.py\u001b[0m in \u001b[0;36m__exit__\u001b[0;34m(self, type, value, traceback)\u001b[0m\n\u001b[1;32m     86\u001b[0m         \u001b[0;32mif\u001b[0m \u001b[0mtype\u001b[0m \u001b[0;32mis\u001b[0m \u001b[0;32mNone\u001b[0m\u001b[0;34m:\u001b[0m\u001b[0;34m\u001b[0m\u001b[0;34m\u001b[0m\u001b[0m\n\u001b[1;32m     87\u001b[0m             \u001b[0;32mtry\u001b[0m\u001b[0;34m:\u001b[0m\u001b[0;34m\u001b[0m\u001b[0;34m\u001b[0m\u001b[0m\n\u001b[0;32m---> 88\u001b[0;31m                 \u001b[0mnext\u001b[0m\u001b[0;34m(\u001b[0m\u001b[0mself\u001b[0m\u001b[0;34m.\u001b[0m\u001b[0mgen\u001b[0m\u001b[0;34m)\u001b[0m\u001b[0;34m\u001b[0m\u001b[0;34m\u001b[0m\u001b[0m\n\u001b[0m\u001b[1;32m     89\u001b[0m             \u001b[0;32mexcept\u001b[0m \u001b[0mStopIteration\u001b[0m\u001b[0;34m:\u001b[0m\u001b[0;34m\u001b[0m\u001b[0;34m\u001b[0m\u001b[0m\n\u001b[1;32m     90\u001b[0m                 \u001b[0;32mreturn\u001b[0m \u001b[0;32mFalse\u001b[0m\u001b[0;34m\u001b[0m\u001b[0;34m\u001b[0m\u001b[0m\n",
      "\u001b[0;32m~/anaconda3/envs/PTSA3.6/lib/python3.6/site-packages/cluster_helper/cluster.py\u001b[0m in \u001b[0;36mcluster_view\u001b[0;34m(scheduler, queue, num_jobs, cores_per_job, profile, start_wait, extra_params, retries, direct, wait_for_all_engines)\u001b[0m\n\u001b[1;32m   1151\u001b[0m         \u001b[0;32myield\u001b[0m \u001b[0mcluster_view\u001b[0m\u001b[0;34m.\u001b[0m\u001b[0mview\u001b[0m\u001b[0;34m\u001b[0m\u001b[0;34m\u001b[0m\u001b[0m\n\u001b[1;32m   1152\u001b[0m     \u001b[0;32mfinally\u001b[0m\u001b[0;34m:\u001b[0m\u001b[0;34m\u001b[0m\u001b[0;34m\u001b[0m\u001b[0m\n\u001b[0;32m-> 1153\u001b[0;31m         \u001b[0mcluster_view\u001b[0m\u001b[0;34m.\u001b[0m\u001b[0mstop\u001b[0m\u001b[0;34m(\u001b[0m\u001b[0;34m)\u001b[0m\u001b[0;34m\u001b[0m\u001b[0;34m\u001b[0m\u001b[0m\n\u001b[0m\u001b[1;32m   1154\u001b[0m \u001b[0;34m\u001b[0m\u001b[0m\n\u001b[1;32m   1155\u001b[0m \u001b[0;32mdef\u001b[0m \u001b[0m_nengines_up\u001b[0m\u001b[0;34m(\u001b[0m\u001b[0murl_file\u001b[0m\u001b[0;34m)\u001b[0m\u001b[0;34m:\u001b[0m\u001b[0;34m\u001b[0m\u001b[0;34m\u001b[0m\u001b[0m\n",
      "\u001b[0;32m~/anaconda3/envs/PTSA3.6/lib/python3.6/site-packages/cluster_helper/cluster.py\u001b[0m in \u001b[0;36mstop\u001b[0;34m(self)\u001b[0m\n\u001b[1;32m   1121\u001b[0m             \u001b[0m_stop\u001b[0m\u001b[0;34m(\u001b[0m\u001b[0mself\u001b[0m\u001b[0;34m.\u001b[0m\u001b[0mprofile\u001b[0m\u001b[0;34m,\u001b[0m \u001b[0mself\u001b[0m\u001b[0;34m.\u001b[0m\u001b[0mcluster_id\u001b[0m\u001b[0;34m)\u001b[0m\u001b[0;34m\u001b[0m\u001b[0;34m\u001b[0m\u001b[0m\n\u001b[1;32m   1122\u001b[0m             \u001b[0;32mif\u001b[0m \u001b[0mself\u001b[0m\u001b[0;34m.\u001b[0m\u001b[0mhas_throwaway\u001b[0m\u001b[0;34m:\u001b[0m\u001b[0;34m\u001b[0m\u001b[0;34m\u001b[0m\u001b[0m\n\u001b[0;32m-> 1123\u001b[0;31m                 \u001b[0mdelete_profile\u001b[0m\u001b[0;34m(\u001b[0m\u001b[0mself\u001b[0m\u001b[0;34m.\u001b[0m\u001b[0mprofile\u001b[0m\u001b[0;34m)\u001b[0m\u001b[0;34m\u001b[0m\u001b[0;34m\u001b[0m\u001b[0m\n\u001b[0m\u001b[1;32m   1124\u001b[0m             \u001b[0mself\u001b[0m\u001b[0;34m.\u001b[0m\u001b[0mstopped\u001b[0m \u001b[0;34m=\u001b[0m \u001b[0;32mTrue\u001b[0m\u001b[0;34m\u001b[0m\u001b[0;34m\u001b[0m\u001b[0m\n\u001b[1;32m   1125\u001b[0m \u001b[0;34m\u001b[0m\u001b[0m\n",
      "\u001b[0;32m~/anaconda3/envs/PTSA3.6/lib/python3.6/site-packages/cluster_helper/cluster.py\u001b[0m in \u001b[0;36mdelete_profile\u001b[0;34m(profile)\u001b[0m\n\u001b[1;32m   1234\u001b[0m         \u001b[0;32mwhile\u001b[0m \u001b[0;32mTrue\u001b[0m\u001b[0;34m:\u001b[0m\u001b[0;34m\u001b[0m\u001b[0;34m\u001b[0m\u001b[0m\n\u001b[1;32m   1235\u001b[0m             \u001b[0;32mtry\u001b[0m\u001b[0;34m:\u001b[0m\u001b[0;34m\u001b[0m\u001b[0;34m\u001b[0m\u001b[0m\n\u001b[0;32m-> 1236\u001b[0;31m                 \u001b[0mshutil\u001b[0m\u001b[0;34m.\u001b[0m\u001b[0mrmtree\u001b[0m\u001b[0;34m(\u001b[0m\u001b[0mdir_to_remove\u001b[0m\u001b[0;34m)\u001b[0m\u001b[0;34m\u001b[0m\u001b[0;34m\u001b[0m\u001b[0m\n\u001b[0m\u001b[1;32m   1237\u001b[0m                 \u001b[0;32mbreak\u001b[0m\u001b[0;34m\u001b[0m\u001b[0;34m\u001b[0m\u001b[0m\n\u001b[1;32m   1238\u001b[0m             \u001b[0;32mexcept\u001b[0m \u001b[0mOSError\u001b[0m\u001b[0;34m:\u001b[0m\u001b[0;34m\u001b[0m\u001b[0;34m\u001b[0m\u001b[0m\n",
      "\u001b[0;32m~/anaconda3/envs/PTSA3.6/lib/python3.6/shutil.py\u001b[0m in \u001b[0;36mrmtree\u001b[0;34m(path, ignore_errors, onerror)\u001b[0m\n\u001b[1;32m    484\u001b[0m         \u001b[0;32mtry\u001b[0m\u001b[0;34m:\u001b[0m\u001b[0;34m\u001b[0m\u001b[0;34m\u001b[0m\u001b[0m\n\u001b[1;32m    485\u001b[0m             \u001b[0;32mif\u001b[0m \u001b[0mos\u001b[0m\u001b[0;34m.\u001b[0m\u001b[0mpath\u001b[0m\u001b[0;34m.\u001b[0m\u001b[0msamestat\u001b[0m\u001b[0;34m(\u001b[0m\u001b[0morig_st\u001b[0m\u001b[0;34m,\u001b[0m \u001b[0mos\u001b[0m\u001b[0;34m.\u001b[0m\u001b[0mfstat\u001b[0m\u001b[0;34m(\u001b[0m\u001b[0mfd\u001b[0m\u001b[0;34m)\u001b[0m\u001b[0;34m)\u001b[0m\u001b[0;34m:\u001b[0m\u001b[0;34m\u001b[0m\u001b[0;34m\u001b[0m\u001b[0m\n\u001b[0;32m--> 486\u001b[0;31m                 \u001b[0m_rmtree_safe_fd\u001b[0m\u001b[0;34m(\u001b[0m\u001b[0mfd\u001b[0m\u001b[0;34m,\u001b[0m \u001b[0mpath\u001b[0m\u001b[0;34m,\u001b[0m \u001b[0monerror\u001b[0m\u001b[0;34m)\u001b[0m\u001b[0;34m\u001b[0m\u001b[0;34m\u001b[0m\u001b[0m\n\u001b[0m\u001b[1;32m    487\u001b[0m                 \u001b[0;32mtry\u001b[0m\u001b[0;34m:\u001b[0m\u001b[0;34m\u001b[0m\u001b[0;34m\u001b[0m\u001b[0m\n\u001b[1;32m    488\u001b[0m                     \u001b[0mos\u001b[0m\u001b[0;34m.\u001b[0m\u001b[0mrmdir\u001b[0m\u001b[0;34m(\u001b[0m\u001b[0mpath\u001b[0m\u001b[0;34m)\u001b[0m\u001b[0;34m\u001b[0m\u001b[0;34m\u001b[0m\u001b[0m\n",
      "\u001b[0;32m~/anaconda3/envs/PTSA3.6/lib/python3.6/shutil.py\u001b[0m in \u001b[0;36m_rmtree_safe_fd\u001b[0;34m(topfd, path, onerror)\u001b[0m\n\u001b[1;32m    422\u001b[0m                 \u001b[0;32mtry\u001b[0m\u001b[0;34m:\u001b[0m\u001b[0;34m\u001b[0m\u001b[0;34m\u001b[0m\u001b[0m\n\u001b[1;32m    423\u001b[0m                     \u001b[0;32mif\u001b[0m \u001b[0mos\u001b[0m\u001b[0;34m.\u001b[0m\u001b[0mpath\u001b[0m\u001b[0;34m.\u001b[0m\u001b[0msamestat\u001b[0m\u001b[0;34m(\u001b[0m\u001b[0morig_st\u001b[0m\u001b[0;34m,\u001b[0m \u001b[0mos\u001b[0m\u001b[0;34m.\u001b[0m\u001b[0mfstat\u001b[0m\u001b[0;34m(\u001b[0m\u001b[0mdirfd\u001b[0m\u001b[0;34m)\u001b[0m\u001b[0;34m)\u001b[0m\u001b[0;34m:\u001b[0m\u001b[0;34m\u001b[0m\u001b[0;34m\u001b[0m\u001b[0m\n\u001b[0;32m--> 424\u001b[0;31m                         \u001b[0m_rmtree_safe_fd\u001b[0m\u001b[0;34m(\u001b[0m\u001b[0mdirfd\u001b[0m\u001b[0;34m,\u001b[0m \u001b[0mfullname\u001b[0m\u001b[0;34m,\u001b[0m \u001b[0monerror\u001b[0m\u001b[0;34m)\u001b[0m\u001b[0;34m\u001b[0m\u001b[0;34m\u001b[0m\u001b[0m\n\u001b[0m\u001b[1;32m    425\u001b[0m                         \u001b[0;32mtry\u001b[0m\u001b[0;34m:\u001b[0m\u001b[0;34m\u001b[0m\u001b[0;34m\u001b[0m\u001b[0m\n\u001b[1;32m    426\u001b[0m                             \u001b[0mos\u001b[0m\u001b[0;34m.\u001b[0m\u001b[0mrmdir\u001b[0m\u001b[0;34m(\u001b[0m\u001b[0mname\u001b[0m\u001b[0;34m,\u001b[0m \u001b[0mdir_fd\u001b[0m\u001b[0;34m=\u001b[0m\u001b[0mtopfd\u001b[0m\u001b[0;34m)\u001b[0m\u001b[0;34m\u001b[0m\u001b[0;34m\u001b[0m\u001b[0m\n",
      "\u001b[0;32m~/anaconda3/envs/PTSA3.6/lib/python3.6/shutil.py\u001b[0m in \u001b[0;36m_rmtree_safe_fd\u001b[0;34m(topfd, path, onerror)\u001b[0m\n\u001b[1;32m    442\u001b[0m                 \u001b[0mos\u001b[0m\u001b[0;34m.\u001b[0m\u001b[0munlink\u001b[0m\u001b[0;34m(\u001b[0m\u001b[0mname\u001b[0m\u001b[0;34m,\u001b[0m \u001b[0mdir_fd\u001b[0m\u001b[0;34m=\u001b[0m\u001b[0mtopfd\u001b[0m\u001b[0;34m)\u001b[0m\u001b[0;34m\u001b[0m\u001b[0;34m\u001b[0m\u001b[0m\n\u001b[1;32m    443\u001b[0m             \u001b[0;32mexcept\u001b[0m \u001b[0mOSError\u001b[0m\u001b[0;34m:\u001b[0m\u001b[0;34m\u001b[0m\u001b[0;34m\u001b[0m\u001b[0m\n\u001b[0;32m--> 444\u001b[0;31m                 \u001b[0monerror\u001b[0m\u001b[0;34m(\u001b[0m\u001b[0mos\u001b[0m\u001b[0;34m.\u001b[0m\u001b[0munlink\u001b[0m\u001b[0;34m,\u001b[0m \u001b[0mfullname\u001b[0m\u001b[0;34m,\u001b[0m \u001b[0msys\u001b[0m\u001b[0;34m.\u001b[0m\u001b[0mexc_info\u001b[0m\u001b[0;34m(\u001b[0m\u001b[0;34m)\u001b[0m\u001b[0;34m)\u001b[0m\u001b[0;34m\u001b[0m\u001b[0;34m\u001b[0m\u001b[0m\n\u001b[0m\u001b[1;32m    445\u001b[0m \u001b[0;34m\u001b[0m\u001b[0m\n\u001b[1;32m    446\u001b[0m _use_fd_functions = ({os.open, os.stat, os.unlink, os.rmdir} <=\n",
      "\u001b[0;32m~/anaconda3/envs/PTSA3.6/lib/python3.6/shutil.py\u001b[0m in \u001b[0;36m_rmtree_safe_fd\u001b[0;34m(topfd, path, onerror)\u001b[0m\n\u001b[1;32m    440\u001b[0m         \u001b[0;32melse\u001b[0m\u001b[0;34m:\u001b[0m\u001b[0;34m\u001b[0m\u001b[0;34m\u001b[0m\u001b[0m\n\u001b[1;32m    441\u001b[0m             \u001b[0;32mtry\u001b[0m\u001b[0;34m:\u001b[0m\u001b[0;34m\u001b[0m\u001b[0;34m\u001b[0m\u001b[0m\n\u001b[0;32m--> 442\u001b[0;31m                 \u001b[0mos\u001b[0m\u001b[0;34m.\u001b[0m\u001b[0munlink\u001b[0m\u001b[0;34m(\u001b[0m\u001b[0mname\u001b[0m\u001b[0;34m,\u001b[0m \u001b[0mdir_fd\u001b[0m\u001b[0;34m=\u001b[0m\u001b[0mtopfd\u001b[0m\u001b[0;34m)\u001b[0m\u001b[0;34m\u001b[0m\u001b[0;34m\u001b[0m\u001b[0m\n\u001b[0m\u001b[1;32m    443\u001b[0m             \u001b[0;32mexcept\u001b[0m \u001b[0mOSError\u001b[0m\u001b[0;34m:\u001b[0m\u001b[0;34m\u001b[0m\u001b[0;34m\u001b[0m\u001b[0m\n\u001b[1;32m    444\u001b[0m                 \u001b[0monerror\u001b[0m\u001b[0;34m(\u001b[0m\u001b[0mos\u001b[0m\u001b[0;34m.\u001b[0m\u001b[0munlink\u001b[0m\u001b[0;34m,\u001b[0m \u001b[0mfullname\u001b[0m\u001b[0;34m,\u001b[0m \u001b[0msys\u001b[0m\u001b[0;34m.\u001b[0m\u001b[0mexc_info\u001b[0m\u001b[0;34m(\u001b[0m\u001b[0;34m)\u001b[0m\u001b[0;34m)\u001b[0m\u001b[0;34m\u001b[0m\u001b[0;34m\u001b[0m\u001b[0m\n",
      "\u001b[0;31mOSError\u001b[0m: [Errno 16] Device or resource busy: '.nfs0000004a00c818100000ef09'"
     ]
    }
   ],
   "source": [
    "subjects = FR2_valid_subjects\n",
    "njobs = len(subjects)\n",
    "cpj = 1\n",
    "with cluster_helper.cluster.cluster_view(scheduler='sge', queue='RAM.q', \n",
    "                                         num_jobs=njobs, cores_per_job=cpj) as view:\n",
    "    result = view.map(FR2_classifier_l1_penalty, subjects)"
   ]
  },
  {
   "cell_type": "code",
   "execution_count": 30,
   "metadata": {},
   "outputs": [],
   "source": [
    "# concat auc across all\n",
    "\n",
    "phase = 'retci'\n",
    "\n",
    "l1_aucs = []\n",
    "for subject in FR2_valid_subjects:\n",
    "    f = 'scratch/mtpower/%s/%s_%s_%s_l1_clsf_result.pkl' % (subject, subject, phase, phase)\n",
    "    l1_aucs.append(pkl.load(open(f, 'rb'))['auc'])\n",
    "\n",
    "l1_aucs = np.array(l1_aucs)\n",
    "# np.save('scratch/mtpower/%s_%s_l1_auc.npy'%(phase,phase), l1_aucs)"
   ]
  },
  {
   "cell_type": "code",
   "execution_count": 5,
   "metadata": {},
   "outputs": [],
   "source": [
    "aucs = np.load('scratch/mtpower/enc_enc_auc.npy')\n",
    "l1_aucs = np.load('scratch/mtpower/enc_enc_l1_auc.npy')"
   ]
  },
  {
   "cell_type": "code",
   "execution_count": 6,
   "metadata": {},
   "outputs": [
    {
     "data": {
      "image/png": "[encoded data removed]",
      "text/plain": [
       "<Figure size 432x288 with 1 Axes>"
      ]
     },
     "metadata": {
      "needs_background": "light"
     },
     "output_type": "display_data"
    }
   ],
   "source": [
    "fig, ax = plt.subplots()\n",
    "ax.scatter(aucs, l1_aucs)\n",
    "ax.plot([0.5,0.75],[0.5,0.75], '--', c='black', alpha=0.5)\n",
    "ax.set_xlabel('original AUCs (L2 penalty), mean:%.2f'%aucs.mean())\n",
    "ax.set_ylabel('AUCs (L1 penalty), mean:%.2f'%l1_aucs.mean())\n",
    "# fig.savefig('figures/l1_encoding_auc.pdf')"
   ]
  },
  {
   "cell_type": "code",
   "execution_count": 7,
   "metadata": {},
   "outputs": [],
   "source": [
    "aucs = np.load('scratch/mtpower/retci_retci_auc.npy')\n",
    "l1_aucs = np.load('scratch/mtpower/retci_retci_l1_auc.npy')"
   ]
  },
  {
   "cell_type": "code",
   "execution_count": 8,
   "metadata": {},
   "outputs": [
    {
     "data": {
      "text/plain": [
       "Text(0, 0.5, 'AUCs (L1 penalty), mean:0.56')"
      ]
     },
     "execution_count": 8,
     "metadata": {},
     "output_type": "execute_result"
    },
    {
     "data": {
      "image/png": "[encoded data removed]",
      "text/plain": [
       "<Figure size 432x288 with 1 Axes>"
      ]
     },
     "metadata": {
      "needs_background": "light"
     },
     "output_type": "display_data"
    }
   ],
   "source": [
    "fig, ax = plt.subplots()\n",
    "ax.scatter(aucs, l1_aucs)\n",
    "ax.plot([0.5,0.75],[0.5,0.75], '--', c='black', alpha=0.5)\n",
    "ax.set_xlabel('original AUCs (L2 penalty), mean:%.2f'%aucs.mean())\n",
    "ax.set_ylabel('AUCs (L1 penalty), mean:%.2f'%l1_aucs.mean())\n",
    "# fig.savefig('figures/l1_retrieval_auc.pdf')"
   ]
  },
  {
   "cell_type": "code",
   "execution_count": 143,
   "metadata": {},
   "outputs": [
    {
     "name": "stdout",
     "output_type": "stream",
     "text": [
      "Evaluating FR2 L1 classifier performance for 88 subjects...\n",
      "    Train phase: retci    Test phase: retci\n",
      "    Mean AUC: 0.56   +-SE: 0.007140369046883959\n",
      "    alpha=0.010: \t 44.00 significant\n",
      "    alpha=0.050: \t 14.00 significant\n",
      "    p<0.05:  58\n",
      "    group binomial test:  p=0.00000000000, significant\n",
      "    group t-test: t=8.828260, p=0.000000, significant\n"
     ]
    }
   ],
   "source": [
    "phase = 'retci'\n",
    "sig_subjects = test_l1_clsf_significance(phase, phase)[0] # subjects whose classifier is significant with p<0.05\n",
    "\n",
    "result = []\n",
    "for subject in sig_subjects:\n",
    "    f = 'scratch/mtpower/%s/%s_%s_%s_l1_clsf_result.pkl' % (subject, subject, phase, phase)\n",
    "    values = pkl.load(open(f, 'rb'))['avgA']\n",
    "    values = split_ROIs(values, sys=get_eeg_sys(subject))\n",
    "    result.append(values)"
   ]
  },
  {
   "cell_type": "code",
   "execution_count": 142,
   "metadata": {},
   "outputs": [
    {
     "data": {
      "image/png": "[encoded data removed]",
      "text/plain": [
       "<Figure size 302.4x259.2 with 1 Axes>"
      ]
     },
     "metadata": {
      "needs_background": "light"
     },
     "output_type": "display_data"
    }
   ],
   "source": [
    "# encoding\n",
    "fig, ax = plot_heatmap_contrast(result, vmin=-1.2, vmax=1.2, colorbar=False, figsize=[4.2,3.6])\n",
    "# fig.savefig('figures_final/l1_clsf_atv_%s.pdf'%phase)"
   ]
  },
  {
   "cell_type": "code",
   "execution_count": 144,
   "metadata": {},
   "outputs": [
    {
     "data": {
      "image/png": "[encoded data removed]",
      "text/plain": [
       "<Figure size 302.4x259.2 with 1 Axes>"
      ]
     },
     "metadata": {
      "needs_background": "light"
     },
     "output_type": "display_data"
    }
   ],
   "source": [
    "# retrieval\n",
    "fig, ax = plot_heatmap_contrast(result, vmin=-1.2, vmax=1.2, colorbar=False, figsize=[4.2,3.6])\n",
    "# fig.savefig('figures_final/l1_clsf_atv_%s.pdf'%phase)"
   ]
  },
  {
   "cell_type": "code",
   "execution_count": null,
   "metadata": {},
   "outputs": [],
   "source": []
  },
  {
   "cell_type": "markdown",
   "metadata": {},
   "source": [
    "#### L1 classifier list dynamics (including everyone, didn't run null AUCs yet"
   ]
  },
  {
   "cell_type": "code",
   "execution_count": 146,
   "metadata": {},
   "outputs": [
    {
     "name": "stdout",
     "output_type": "stream",
     "text": [
      "Evaluating FR2 L1 classifier performance for 88 subjects...\n",
      "    Train phase: enc    Test phase: enc\n",
      "    Mean AUC: 0.59   +-SE: 0.003978945279857634\n",
      "    alpha=0.010: \t 88.00 significant\n",
      "    alpha=0.050: \t 0.00 significant\n",
      "    p<0.05:  88\n",
      "    group binomial test:  p=0.00000000000, significant\n",
      "    group t-test: t=22.776402, p=0.000000, significant\n",
      "Evaluating FR2 L1 classifier performance for 88 subjects...\n",
      "    Train phase: retci    Test phase: retci\n",
      "    Mean AUC: 0.56   +-SE: 0.007140369046883959\n",
      "    alpha=0.010: \t 44.00 significant\n",
      "    alpha=0.050: \t 14.00 significant\n",
      "    p<0.05:  58\n",
      "    group binomial test:  p=0.00000000000, significant\n",
      "    group t-test: t=8.828260, p=0.000000, significant\n"
     ]
    }
   ],
   "source": [
    "l1_enc_sig_subjects = test_l1_clsf_significance('enc', 'enc')[0]\n",
    "l1_ret_sig_subjects = test_l1_clsf_significance('retci', 'retci')[0]"
   ]
  },
  {
   "cell_type": "code",
   "execution_count": 13,
   "metadata": {},
   "outputs": [],
   "source": [
    "labeled_events = pkl.load(open('FR2_all_events_clustered.pkl','rb'))\n",
    "enc_labeled_events = labeled_events[labeled_events['type']=='WORD']\n",
    "ret_labeled_events = labeled_events[labeled_events['type']=='REC_WORD']"
   ]
  },
  {
   "cell_type": "code",
   "execution_count": 145,
   "metadata": {},
   "outputs": [],
   "source": [
    "encresults = [pkl.load(open('scratch/mtpower/%s/%s_enc_enc_l1_clsf_result.pkl'%(subject,subject),'rb')) \n",
    "               for subject in FR2_valid_subjects]"
   ]
  },
  {
   "cell_type": "code",
   "execution_count": 15,
   "metadata": {},
   "outputs": [],
   "source": [
    "import warnings\n",
    "warnings.filterwarnings(\"ignore\")"
   ]
  },
  {
   "cell_type": "code",
   "execution_count": 154,
   "metadata": {},
   "outputs": [
    {
     "name": "stdout",
     "output_type": "stream",
     "text": [
      "LTP093,LTP106,LTP115,LTP117,LTP123,LTP133,LTP138,LTP207,LTP210,LTP228,LTP229,LTP236,LTP246,LTP249,LTP250,LTP251,LTP258,LTP259,LTP265,LTP269,LTP273,LTP278,LTP279,LTP280,LTP283,LTP285,LTP287,LTP293,LTP296,LTP297,LTP299,LTP301,LTP302,LTP303,LTP304,LTP305,LTP306,LTP307,LTP310,LTP311,LTP312,LTP316,LTP317,LTP318,LTP321,LTP322,LTP323,LTP324,LTP325,LTP326,LTP327,LTP328,LTP329,LTP331,LTP334,LTP336,LTP339,LTP341,LTP342,LTP343,LTP344,LTP346,LTP347,LTP348,LTP349,LTP354,LTP355,LTP357,LTP360,LTP361,LTP362,LTP364,LTP365,LTP366,LTP367,LTP371,LTP372,LTP373,LTP374,LTP376,LTP377,LTP385,LTP386,LTP387,LTP389,LTP390,LTP391,LTP393,"
     ]
    }
   ],
   "source": [
    "# encoding output by clustering type and serial position - data \n",
    "BCall = []\n",
    "TCall = []\n",
    "SCall = []\n",
    "NCall = []\n",
    "NRall = []\n",
    "for i, subject in enumerate(l1_enc_sig_subjects):\n",
    "    print(subject, end=',')\n",
    "    \n",
    "    def get_cluster_type(select_events, all_events):\n",
    "        subject_data = all_events[all_events['subject']==subject]\n",
    "        subject_data = subject_data.sort_values('mstime')\n",
    "        events_index = np.in1d(subject_data['mstime'].values, select_events['mstime'])\n",
    "        return subject_data['cluster_type'][events_index]\n",
    "    \n",
    "    def mean_yhat(all_yhat, events):\n",
    "        result = []\n",
    "        for sess in np.unique(events['session']):\n",
    "            # if clean data: some sessions are missing items\n",
    "            if subject == 'LTP246' and sess == 6: # LTP246 sess 6 trial 4 has only one item\n",
    "                sess_index = (events['session']==sess) & (events['trial']!=4)\n",
    "            elif subject == 'LTP258' and sess == 17: # LTP258 sess 17 trial 1 has only 14 items\n",
    "                sess_index = (events['session']==sess) & (events['trial']!=1)\n",
    "            else:\n",
    "                sess_index = events['session']==sess\n",
    "            n_list = len(np.unique(events[sess_index]['trial']))\n",
    "            yhat = all_yhat[sess_index].reshape(n_list, 24)\n",
    "            result.append(np.nanmean(yhat, 0))\n",
    "        return np.nanmean(result, 0)\n",
    "    \n",
    "    def extract_one_type(yhat, events, conditions, ctype):\n",
    "        x = yhat.copy()\n",
    "        x[conditions!=ctype] = np.nan\n",
    "        x = mean_yhat(x, events)\n",
    "        return x\n",
    "    \n",
    "    yhat = encresults[i]['yhat']\n",
    "    events = encresults[i]['events']\n",
    "    conditions = get_cluster_type(events, enc_labeled_events)\n",
    "    BCall.append(extract_one_type(yhat, events, conditions, 'BC'))\n",
    "    TCall.append(extract_one_type(yhat, events, conditions, 'TC'))\n",
    "    SCall.append(extract_one_type(yhat, events, conditions, 'SC'))\n",
    "    NCall.append(extract_one_type(yhat, events, conditions, 'NC'))\n",
    "    NRall.append(extract_one_type(yhat, events, conditions, 'NR'))\n",
    "\n",
    "BCall = np.array(BCall)\n",
    "TCall = np.array(TCall)\n",
    "SCall = np.array(SCall)\n",
    "NCall = np.array(NCall)\n",
    "NRall = np.array(NRall)"
   ]
  },
  {
   "cell_type": "code",
   "execution_count": 155,
   "metadata": {},
   "outputs": [
    {
     "data": {
      "text/plain": [
       "Text(11.75, 0.5, 'Classifier Output')"
      ]
     },
     "execution_count": 155,
     "metadata": {},
     "output_type": "execute_result"
    },
    {
     "data": {
      "image/png": "[encoded data removed]",
      "text/plain": [
       "<Figure size 360x252 with 1 Axes>"
      ]
     },
     "metadata": {
      "needs_background": "light"
     },
     "output_type": "display_data"
    }
   ],
   "source": [
    "from plot_utils import plot_list_dynamics\n",
    "\n",
    "values = [BCall, TCall, SCall, NCall, NRall]\n",
    "labels=['BC','TC','SC','NC','NR']\n",
    "colors=['k','#555555','#888888','#adadad','#c6c6c6']\n",
    "markers=['P','^','o','D','']\n",
    "markersizes=[7.5,6.5,6.5,5.5,0]\n",
    "linestyles=['-','-','-','-','--']\n",
    "xticks=np.arange(24)\n",
    "jitters=[0]*len(values)\n",
    "\n",
    "value_dict = {}\n",
    "for i, label in enumerate(labels):\n",
    "    value_dict[label] = {'value':values[i], 'color':colors[i], 'linestyle':linestyles[i],\n",
    "                         'marker':markers[i], 'markersize':markersizes[i],\n",
    "                         'xticks':xticks, 'jitter':jitters[i]}\n",
    "\n",
    "fig, ax = plot_list_dynamics(value_dict)\n",
    "\n",
    "ax.set_ylim([0.50,0.54])\n",
    "ax.set_ylabel('Encoding Classifier Output')\n",
    "\n",
    "ax.axhline(y=0.5, ls='--', lw=0.75, color='gray')\n",
    "\n",
    "ax.set_xticks(range(24)[1::2])\n",
    "ax.set_xticklabels(np.arange(1,25,1)[1::2])\n",
    "ax.set_ylim([0.475,0.547])\n",
    "ax.set_xlabel('Serial Position')\n",
    "ax.set_ylabel('Classifier Output')"
   ]
  },
  {
   "cell_type": "code",
   "execution_count": 156,
   "metadata": {},
   "outputs": [],
   "source": [
    "# fig.savefig('figures_final/l1_yhat_enc.pdf', bbox_inches=\"tight\")"
   ]
  },
  {
   "cell_type": "code",
   "execution_count": 150,
   "metadata": {},
   "outputs": [],
   "source": [
    "retciresults = [pkl.load(open('scratch/mtpower/%s/%s_retci_retci_l1_clsf_result.pkl'%(subject,subject),'rb')) \n",
    "                 for subject in FR2_valid_subjects]"
   ]
  },
  {
   "cell_type": "code",
   "execution_count": 157,
   "metadata": {},
   "outputs": [
    {
     "name": "stdout",
     "output_type": "stream",
     "text": [
      "LTP115,LTP117,LTP123,LTP133,LTP138,LTP207,LTP229,LTP250,LTP251,LTP258,LTP259,LTP265,LTP273,LTP278,LTP280,LTP283,LTP285,LTP287,LTP297,LTP301,LTP302,LTP303,LTP304,LTP306,LTP307,LTP310,LTP312,LTP316,LTP317,LTP318,LTP323,LTP325,LTP327,LTP329,LTP334,LTP336,LTP339,LTP341,LTP342,LTP343,LTP346,LTP348,LTP349,LTP354,LTP357,LTP361,LTP362,LTP364,LTP365,LTP366,LTP367,LTP373,LTP374,LTP377,LTP386,LTP387,LTP389,LTP393,"
     ]
    }
   ],
   "source": [
    "# retrieval output by clustering type and recall time - data \n",
    "\n",
    "CRall = []\n",
    "BCall = []\n",
    "TCall = []\n",
    "SCall = []\n",
    "NCall = []\n",
    "INall = []\n",
    "PIall = []\n",
    "EIall = []\n",
    "\n",
    "for i, subject in enumerate(l1_ret_sig_subjects):\n",
    "    print(subject, end=',')\n",
    "    \n",
    "    def get_cluster_type(select_events, all_events):\n",
    "        subject_data = all_events[all_events['subject']==subject]\n",
    "        subject_data = subject_data.sort_values('mstime')\n",
    "        events_index = np.in1d(subject_data['mstime'].values, select_events['mstime'])\n",
    "        return subject_data['cluster_type'][events_index]\n",
    "    \n",
    "    def find_bins(t, bins=np.arange(0, 75.1, 7.5)):\n",
    "        return np.where(t>bins)[0][-1]\n",
    "    \n",
    "    def bin_trial(trial_yhat, bins):\n",
    "        result = []\n",
    "        for b in range(10):\n",
    "            if b not in bins: # no recall in that bin\n",
    "                result.append(np.nan)\n",
    "            else:\n",
    "                result.append(np.nanmean(trial_yhat[bins==b]))\n",
    "        return np.array(result)\n",
    "    \n",
    "    def bin_session(sess_yhat, trial, bins):\n",
    "        result = []\n",
    "        for t in np.unique(trial):\n",
    "            index = trial==t\n",
    "            trial_result = bin_trial(sess_yhat[index], bins[index])\n",
    "            result.append(trial_result)\n",
    "        result = np.array(result)\n",
    "        return np.nanmean(result,0)\n",
    "    \n",
    "    def extract_one_type(yhat, events, conditions, ctype, bins):\n",
    "        x = yhat.copy()\n",
    "        if ctype=='CR':\n",
    "            x[events['intrusion']!=0] = np.nan\n",
    "        elif ctype=='IN':\n",
    "            x[events['intrusion']==0] = np.nan\n",
    "        elif ctype=='PI':\n",
    "            x[events['intrusion']<=0] = np.nan\n",
    "        elif ctype=='EI':\n",
    "            x[events['intrusion']>=0] = np.nan\n",
    "        else:\n",
    "            x[conditions!=ctype] = np.nan\n",
    "        session = events['session']\n",
    "        trial = events['trial']\n",
    "        binned_x = []\n",
    "        for sess in np.unique(session):\n",
    "            index = session==sess\n",
    "            sess_x = bin_session(x[index], trial[index], bins[index])\n",
    "            binned_x.append(sess_x)\n",
    "        return np.nanmean(binned_x,0)\n",
    "    \n",
    "    yhat = retciresults[i]['yhat']\n",
    "    events = retciresults[i]['events']\n",
    "    conditions = get_cluster_type(events, ret_labeled_events)\n",
    "\n",
    "    session = events['session']\n",
    "    trial = events['trial']\n",
    "    bins = np.array([find_bins(t/1000.0) for t in events['rectime']])\n",
    "        \n",
    "    CRall.append(extract_one_type(yhat, events, conditions, 'CR', bins))\n",
    "    BCall.append(extract_one_type(yhat, events, conditions, 'BC', bins))\n",
    "    TCall.append(extract_one_type(yhat, events, conditions, 'TC', bins))\n",
    "    SCall.append(extract_one_type(yhat, events, conditions, 'SC', bins))\n",
    "    NCall.append(extract_one_type(yhat, events, conditions, 'NC', bins))\n",
    "    INall.append(extract_one_type(yhat, events, conditions, 'IN', bins))\n",
    "    PIall.append(extract_one_type(yhat, events, conditions, 'PI', bins))\n",
    "    EIall.append(extract_one_type(yhat, events, conditions, 'EI', bins))\n",
    "    \n",
    "CRall = np.array(CRall)\n",
    "INall = np.array(INall)\n",
    "PIall = np.array(PIall)\n",
    "EIall = np.array(EIall)\n",
    "BCall = np.array(BCall)\n",
    "TCall = np.array(TCall)\n",
    "SCall = np.array(SCall)\n",
    "NCall = np.array(NCall)"
   ]
  },
  {
   "cell_type": "code",
   "execution_count": 158,
   "metadata": {},
   "outputs": [
    {
     "data": {
      "image/png": "[encoded data removed]",
      "text/plain": [
       "<Figure size 360x252 with 1 Axes>"
      ]
     },
     "metadata": {
      "needs_background": "light"
     },
     "output_type": "display_data"
    }
   ],
   "source": [
    "values = [BCall, TCall, SCall, NCall, PIall, EIall]\n",
    "labels=['BC','TC','SC','NC','PLI','ELI']\n",
    "colors=['k','#555555','#888888','#adadad','#c6c6c6','#c6c6c6']\n",
    "markers=['P','^','o','D','','']\n",
    "markersizes=[7.5,6.5,6.5,5.5,0,0]\n",
    "linestyles=['-','-','-','-','--',':']\n",
    "xticks = np.arange(7.5, 75.1, 7.5)-7.5/2\n",
    "jitters = [-0.9,-0.3,0.3,0.9,0,0]\n",
    "\n",
    "value_dict = {}\n",
    "for i, label in enumerate(labels):\n",
    "    value_dict[label] = {'value':values[i], 'color':colors[i], 'linestyle':linestyles[i],\n",
    "                         'marker':markers[i], 'markersize':markersizes[i],\n",
    "                         'xticks':xticks, 'jitter':jitters[i]}\n",
    "\n",
    "fig, ax = plot_list_dynamics(value_dict)\n",
    "\n",
    "ax.axhline(0.5, ls='--', lw=0.75, color='gray')\n",
    "# ax.set_ylim([0.43,0.524])\n",
    "ax.set_xticks(np.arange(0,76,15))\n",
    "ax.set_xticklabels(np.arange(0,76,15))\n",
    "ax.set_xlabel('Recall Time (s)')\n",
    "ax.set_ylabel('Classifier Output')\n",
    "\n",
    "# ax.legend(loc=3, fontsize='medium')\n",
    "fig.tight_layout()"
   ]
  },
  {
   "cell_type": "code",
   "execution_count": 159,
   "metadata": {},
   "outputs": [],
   "source": [
    "# fig.savefig('figures_final/l1_yhat_retci.pdf', bbox_inches=\"tight\")"
   ]
  }
 ],
 "metadata": {
  "kernelspec": {
   "display_name": "PTSA3.6",
   "language": "python",
   "name": "ptsa3.6"
  },
  "language_info": {
   "codemirror_mode": {
    "name": "ipython",
    "version": 3
   },
   "file_extension": ".py",
   "mimetype": "text/x-python",
   "name": "python",
   "nbconvert_exporter": "python",
   "pygments_lexer": "ipython3",
   "version": "3.6.8"
  }
 },
 "nbformat": 4,
 "nbformat_minor": 4
}
